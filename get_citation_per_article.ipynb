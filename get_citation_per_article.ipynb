{
 "cells": [
  {
   "cell_type": "code",
   "execution_count": 1,
   "metadata": {},
   "outputs": [],
   "source": [
    "import pandas as pd\n",
    "from selenium import webdriver\n",
    "from selenium.webdriver.chrome.service import Service as ChromeService\n",
    "from selenium.webdriver.support.ui import WebDriverWait\n",
    "from selenium.webdriver.support import expected_conditions as EC\n",
    "from selenium.webdriver.common.by import By\n",
    "from webdriver_manager.chrome import ChromeDriverManager\n",
    "from bs4 import BeautifulSoup\n",
    "from concurrent.futures import ThreadPoolExecutor, as_completed\n",
    "import time\n",
    "import logging\n",
    "\n",
    "logging.basicConfig(level=logging.INFO, format='%(asctime)s - %(levelname)s - %(message)s')"
   ]
  },
  {
   "cell_type": "code",
   "execution_count": 2,
   "metadata": {},
   "outputs": [
    {
     "data": {
      "text/html": [
       "<div>\n",
       "<style scoped>\n",
       "    .dataframe tbody tr th:only-of-type {\n",
       "        vertical-align: middle;\n",
       "    }\n",
       "\n",
       "    .dataframe tbody tr th {\n",
       "        vertical-align: top;\n",
       "    }\n",
       "\n",
       "    .dataframe thead th {\n",
       "        text-align: right;\n",
       "    }\n",
       "</style>\n",
       "<table border=\"1\" class=\"dataframe\">\n",
       "  <thead>\n",
       "    <tr style=\"text-align: right;\">\n",
       "      <th></th>\n",
       "      <th>NO</th>\n",
       "      <th>NIDN</th>\n",
       "      <th>NAMA</th>\n",
       "      <th>NAMA DOSEN DENGAN GELAR</th>\n",
       "      <th>JAFUNG</th>\n",
       "      <th>SERDOS</th>\n",
       "      <th>scholar_id</th>\n",
       "    </tr>\n",
       "  </thead>\n",
       "  <tbody>\n",
       "    <tr>\n",
       "      <th>38</th>\n",
       "      <td>39</td>\n",
       "      <td>806079201.0</td>\n",
       "      <td>I WAYAN JEPRIANA</td>\n",
       "      <td>I WAYAN JEPRIANA, S.Kom., M.Cs</td>\n",
       "      <td>Asisten Ahli</td>\n",
       "      <td>2024.0</td>\n",
       "      <td>qjU7YEgAAAAJ</td>\n",
       "    </tr>\n",
       "    <tr>\n",
       "      <th>37</th>\n",
       "      <td>38</td>\n",
       "      <td>802098601.0</td>\n",
       "      <td>I WAYAN GEDE NARAYANA</td>\n",
       "      <td>I WAYAN GEDE NARAYANA, S.Kom., M.Kom</td>\n",
       "      <td>Lektor 200</td>\n",
       "      <td>2018.0</td>\n",
       "      <td>GqPl4-4AAAAJ</td>\n",
       "    </tr>\n",
       "    <tr>\n",
       "      <th>34</th>\n",
       "      <td>35</td>\n",
       "      <td>813049001.0</td>\n",
       "      <td>I PUTU GEDE ABDI SUDIATMIKA</td>\n",
       "      <td>I PUTU GEDE ABDI SUDIATMIKA, S.Pd., M.Kom</td>\n",
       "      <td>Lektor 300</td>\n",
       "      <td>2020.0</td>\n",
       "      <td>Ztn650AAAAAJ</td>\n",
       "    </tr>\n",
       "  </tbody>\n",
       "</table>\n",
       "</div>"
      ],
      "text/plain": [
       "    NO         NIDN                         NAMA  \\\n",
       "38  39  806079201.0             I WAYAN JEPRIANA   \n",
       "37  38  802098601.0        I WAYAN GEDE NARAYANA   \n",
       "34  35  813049001.0  I PUTU GEDE ABDI SUDIATMIKA   \n",
       "\n",
       "                      NAMA DOSEN DENGAN GELAR        JAFUNG  SERDOS  \\\n",
       "38             I WAYAN JEPRIANA, S.Kom., M.Cs  Asisten Ahli  2024.0   \n",
       "37       I WAYAN GEDE NARAYANA, S.Kom., M.Kom    Lektor 200  2018.0   \n",
       "34  I PUTU GEDE ABDI SUDIATMIKA, S.Pd., M.Kom    Lektor 300  2020.0   \n",
       "\n",
       "      scholar_id  \n",
       "38  qjU7YEgAAAAJ  \n",
       "37  GqPl4-4AAAAJ  \n",
       "34  Ztn650AAAAAJ  "
      ]
     },
     "execution_count": 2,
     "metadata": {},
     "output_type": "execute_result"
    }
   ],
   "source": [
    "# Load the data\n",
    "df_idgs = pd.read_excel('/Users/rudyhendrawan/miniforge3/datasets/DTPR-UPDATE-3.xlsx')\n",
    "df_samples = df_idgs.sample(3)\n",
    "df_samples"
   ]
  },
  {
   "cell_type": "code",
   "execution_count": 3,
   "metadata": {},
   "outputs": [
    {
     "name": "stderr",
     "output_type": "stream",
     "text": [
      "2025-01-21 15:32:48,816 - INFO - ====== WebDriver manager ======\n",
      "2025-01-21 15:32:48,977 - INFO - Get LATEST chromedriver version for google-chrome\n",
      "2025-01-21 15:32:49,826 - INFO - Get LATEST chromedriver version for google-chrome\n",
      "2025-01-21 15:32:50,538 - INFO - Driver [/Users/rudyhendrawan/.wdm/drivers/chromedriver/mac64/131.0.6778.264/chromedriver-mac-arm64/chromedriver] found in cache\n",
      "2025-01-21 15:32:54,727 - INFO - Getting publication data for scholar_id: qjU7YEgAAAAJ - I WAYAN JEPRIANA\n",
      "2025-01-21 15:32:55,842 - INFO - Clicking the \"Show more\" button\n",
      "2025-01-21 15:32:56,862 - INFO - Append publication data: Konsep Algoritme dan Aplikasinya dalam Bahasa Pemrograman C++\n",
      "2025-01-21 15:32:56,863 - INFO - Append publication data: Framework Itil V3 Domain Service Operation Dalam Analisis Pengelolaan Teknologi Blended Learning\n",
      "2025-01-21 15:32:56,863 - INFO - Append publication data: Pelatihan Microsoft Office dan Desain Grafis untuk Perangkat Desa\n",
      "2025-01-21 15:32:56,864 - INFO - Append publication data: Analisis dan Implementasi Metode Item-based Collaborative Filtering untuk Sistem Rekomendasi Konsentrasi di STMIK STIKOM Bali\n",
      "2025-01-21 15:32:56,864 - INFO - Append publication data: Analisis Maturity Level Dalam Blended Learning Pada Domain Service Operation Framework Itil V3\n",
      "2025-01-21 15:32:56,865 - INFO - Append publication data: Metode item-based Collaborative Filtering Untuk Model Sistem Rekomendasi Konsentrasi Penjurusan di STMIK STIKOM Bali\n",
      "2025-01-21 15:32:56,865 - INFO - Append publication data: Pemanfaatan media sosial sebagai media promosi kuliner sate lilit dan ikan Kusamba Bali\n",
      "2025-01-21 15:32:56,865 - INFO - Append publication data: Analisis Performa E-Learning Berbasis Moodle Berjalan di Server Rendah Biaya STB FiberHome HG680-P\n",
      "2025-01-21 15:32:56,866 - INFO - Append publication data: Online Learning Development of Interactive Multimedia based Geographic Information Systems\n",
      "2025-01-21 15:32:56,866 - INFO - Append publication data: Pengemasan dan Peningkatan Desain Kemasan Produk Industri Rumah Tangga Nyoman Restini\n",
      "2025-01-21 15:32:56,867 - INFO - Append publication data: Perancangan Corporate Identity Guest House Langit Biru Berbasis Web\n",
      "2025-01-21 15:32:56,867 - INFO - Append publication data: Pemanfaatan Teknologi Informasi Untuk Disain Kemasan Pada Irt Oke Juce Bali\n",
      "2025-01-21 15:32:56,867 - INFO - Append publication data: Algoritme Genetika untuk Mengurangi Galat Prediksi Metode Item-based Collaborative Filtering\n",
      "2025-01-21 15:32:56,868 - INFO - Append publication data: Pelatihan Pemasaran Digital Melalui Facebook dan Pembuatan Konten Visual untuk IRT Kepuaknisam\n",
      "2025-01-21 15:32:56,868 - INFO - Append publication data: Combining Oversampling and Pretrained Feature Extractor For Classification Diabetic Foot Uclear Thermogram Images\n",
      "2025-01-21 15:32:56,869 - INFO - Append publication data: Aplikasi Multimedia Interaktif Pengenalan Budidaya Jeruk Siam Kintamani\n",
      "2025-01-21 15:32:56,869 - INFO - Append publication data: Perancangan Sistem Informasi Pengelolaan Organisasi Sekaa Teruna Tunas Muda\n",
      "2025-01-21 15:32:56,869 - INFO - Append publication data: Sosialisasi dan Pelatihan Multimedia Interaktif untuk Siswa di SMK Wira Bhakti Denpasar\n",
      "2025-01-21 15:32:56,870 - INFO - Append publication data: Pelatihan Manajemen Google Classroom Dan Pengembangan Modul Digital di SMK Restumuning\n",
      "2025-01-21 15:32:56,870 - INFO - Append publication data: PENGEMBANGAN SISTEM E-LEARNING BERBIAYA RENDAH DENGAN PERANGKAT STB HG680-P BERBASIS MOODLE\n",
      "2025-01-21 15:32:56,872 - INFO - Index-38: Finished getting publication data for scholar_id: qjU7YEgAAAAJ - I WAYAN JEPRIANA\n",
      "2025-01-21 15:32:57,686 - INFO - Getting publication data for scholar_id: GqPl4-4AAAAJ - I WAYAN GEDE NARAYANA\n",
      "2025-01-21 15:32:58,745 - INFO - Clicking the \"Show more\" button\n",
      "2025-01-21 15:32:59,769 - INFO - Append publication data: Analisis terhadap hasil penggunaan metode pembelajaran synchronous dan asynchronous\n",
      "2025-01-21 15:32:59,769 - INFO - Append publication data: Analisis Penerapan Model UTAUT Terhadap Perilaku Pengguna E-Learning (Studi Kasus: STMIK STIKOM Bali)\n",
      "2025-01-21 15:32:59,770 - INFO - Append publication data: Application of certification management information systems at lsp engineering hospitality indonesia\n",
      "2025-01-21 15:32:59,770 - INFO - Append publication data: Penguatan pembelajaran berbasis digital bagi tutor pusat kegiatan belajar masyarakat (PKBM) sebagai media penunjang pembelajaran daring\n",
      "2025-01-21 15:32:59,770 - INFO - Append publication data: Analisis SWOT Sebagai Dasar Menentukan Kualitas Lulusan di SMK TI Bali Global Karangasem konferensi Nasional Sistem & Informatika 2017\n",
      "2025-01-21 15:32:59,771 - INFO - Append publication data: Analisis terhadap hasil penggunaan metode pembelajaran synchronous dan asynchronous. Semnasteknomedia Online, 4 (1), 139–144\n",
      "2025-01-21 15:32:59,772 - INFO - Append publication data: Pendidikan di Era Digital, Memahami Peran Teknologi Pendidikan dalam Revolusi Pembelajaran\n",
      "2025-01-21 15:32:59,772 - INFO - Append publication data: Penerapan Analisis Value Chain dan Five Force Factor Serta Perumusan Strategi McFarlanâ€™ s pada SMK TI Bali Global Badung\n",
      "2025-01-21 15:32:59,773 - INFO - Append publication data: Implementasi Metode AHP dan SAW dalam Penentuan Penerimaan Beasiswa Studi Kasus: ITB Stikom Bali\n",
      "2025-01-21 15:32:59,773 - INFO - Append publication data: Asuhan Keperawatan Ansietas Pada Pasien Pre Operasi Sectio Caesarea Di Ruang Belimbing Rsud Klungkung\n",
      "2025-01-21 15:32:59,774 - INFO - Append publication data: Sistem Informasi Eksekutif Data Pendidikan Kabupaten Buleleng Berbasis Web\n",
      "2025-01-21 15:32:59,774 - INFO - Append publication data: Rancang Bangun Sistem Informasi Geografis Pemesanan Taksi Berbasis Android\n",
      "2025-01-21 15:32:59,774 - INFO - Append publication data: E-ARSIP BERBASIS WEB PADA KANTOR LURAH TUBAN\n",
      "2025-01-21 15:32:59,775 - INFO - Append publication data: Pemetaan Domain Cobit 5 Dalam Tata Kelola Penerapan E-Learning Di SMKTI Bali Global Jimbaran\n",
      "2025-01-21 15:32:59,775 - INFO - Append publication data: PENGUATAN BRANDING PRODUK DAN OPTIMALISASI PEMASARAN MELALUI E-COMMERCE PADA UMKM BOKOR DAN KEBEN UKIR FIBER\n",
      "2025-01-21 15:32:59,776 - INFO - Append publication data: Pelatihan Pemasaran dan Keuangan Telur Asin Mengwi\n",
      "2025-01-21 15:32:59,777 - INFO - Append publication data: Penggunaan Teknologi Informasi Untuk Mempelajari Permainan Catur di SMP Al-Banna Kota Denpasar\n",
      "2025-01-21 15:32:59,777 - INFO - Append publication data: Analisis Strategis Sistem Informasi SMK TI Bali Global Badung Menjadi Sekolah Swasta Unggulan\n",
      "2025-01-21 15:32:59,777 - INFO - Append publication data: Analisis SWOT Sebagai Dasar Menentukan Kualitas Lulusan di SMK TI Bali Global Karangasem\n",
      "2025-01-21 15:32:59,778 - INFO - Append publication data: A survey on smart use of BBM and its Influence on academic achievement in SMK Health PGRI Denpasar\n",
      "2025-01-21 15:32:59,778 - INFO - Append publication data: RANCANG BANGUN APLIKASI MULTIMEDIA OBJEK WISATA DI DAERAH BADUNG BERBASIS FLASH DENGAN ACTIONSCRIPT 3.0\n",
      "2025-01-21 15:32:59,778 - INFO - Append publication data: IMPLEMENTASI GAMIFICATION PADA APLIKASI KNOWLEDGE SHARING UNTUK GURU BERBASIS ASP. NET\n",
      "2025-01-21 15:32:59,779 - INFO - Append publication data: HINDU SPIRITUAL AESTHETICS AND GLOBALIZATION FOSTER RELIGIOUS TOLERANCE IN BALI INDONESIA\n",
      "2025-01-21 15:32:59,779 - INFO - Append publication data: UMKM Pakan Burung Menuju Pasar Nasional Melalui Integrasi Teknologi Kecerdasan Buatan Dan Cloud Computing Serta Modernisasi Mesin Produksi\n",
      "2025-01-21 15:32:59,780 - INFO - Append publication data: Contemporary Issues in Education\n",
      "2025-01-21 15:32:59,780 - INFO - Append publication data: Sistem Informasi Geografis Pemetaan Wilayah Kurir Pada PT. Satria Antaran Prima Berbasis Web\n",
      "2025-01-21 15:32:59,780 - INFO - Append publication data: Sistem Informasi Pengajuan Prestasi Mahasiswa Berbasis Website\n",
      "2025-01-21 15:32:59,781 - INFO - Append publication data: Sistem Informasi Pengelolaan Data Inventaris Barang Pada Kantor Perbekel Desa Kutuh Berbasis Web\n",
      "2025-01-21 15:32:59,781 - INFO - Append publication data: Studi Kasus Produktivitas Tenaga Kerja Pada Pengerjaan Pasangan Dinding Menggunakan Bata Merah Konvensional Proyek Pembangunana Stas Villa Pererenan\n",
      "2025-01-21 15:32:59,782 - INFO - Append publication data: Rancang Bangun Alat Potato Chipper Berbasis Pneumatic Otomatis\n",
      "2025-01-21 15:32:59,782 - INFO - Append publication data: PENGEMBANGAN BRANDING PRODUK DAN STRATEGI DIGITAL MARKETING PADA UMKM BALINESE PROJECT\n",
      "2025-01-21 15:32:59,783 - INFO - Append publication data: SISTEM INFORMASI PENGGAJIAN KARYAWAN PADA PINGIN MINUM COFFEE SHOP BERBASIS WEBSITE\n",
      "2025-01-21 15:32:59,783 - INFO - Append publication data: Sistem Pakar Penyakit Grubug (Si Grubug) Ayam Betet Desa Madenan Menggunakan Metode Certainty Factor\n",
      "2025-01-21 15:32:59,784 - INFO - Append publication data: Sistem Informasi Monitoring Kegiatan ORMAWA Untuk Optimalisasi Kegiatan ORMAWA\n",
      "2025-01-21 15:32:59,784 - INFO - Append publication data: “Aksara-Ku” Multimedia Pembelajaran Aksara Bali Berbasis Progressive Web App (PWA)\n",
      "2025-01-21 15:32:59,785 - INFO - Append publication data: Adventure In English For Young Learners\n",
      "2025-01-21 15:32:59,785 - INFO - Append publication data: EFEKTIVITAS UPAYA PREVENTIF DAN REPRESIF KEJAKSAAN DALAM PEMBERANTASAN TINDAK PIDANA PEMERKOSAAN TERHADAP ANAK DI WILAYAH KABUPATEN BULELENG\n",
      "2025-01-21 15:32:59,786 - INFO - Append publication data: Pengembangan Virtual Tour 360 Degree Pura Luhur Tambawaras Berbasis Website\n",
      "2025-01-21 15:32:59,786 - INFO - Append publication data: Rancang Bangun Trading Otomatis Pada Perdagangan Mata Uang Asing Menggunakan Candlestick Pattern Pada Platform Metatrader\n",
      "2025-01-21 15:32:59,787 - INFO - Append publication data: Aplikasi “Mamath” Sebagai Media Pembelajaran Matematika Pada Tingkat Sekolah Dasar Berbasis Android\n",
      "2025-01-21 15:32:59,787 - INFO - Append publication data: Sistem Informasi Pariwisata Pada Taman Asta Gangga Berbasis Web\n",
      "2025-01-21 15:32:59,787 - INFO - Append publication data: Enterprise Architecture Planning Pada E-Registrasi Perlombaan Menggunakan Zachman Framework\n",
      "2025-01-21 15:32:59,788 - INFO - Append publication data: PELATIHAN MANAJEMEN KEUANGAN DAN PEMASARAN BAGI SARATHI BANTEN\n",
      "2025-01-21 15:32:59,788 - INFO - Append publication data: Perancangan Sistem Informasi Praktek Kerja Industri pada SMKTI Bali Global Denpasar\n",
      "2025-01-21 15:32:59,788 - INFO - Append publication data: Multimedia Interaktif Cerita Agama Buddha di Indonesia\n",
      "2025-01-21 15:32:59,789 - INFO - Append publication data: Rancang Bangun Alat Pencetak Pelet Ikan Dengan Kapasitas 1 Kg\n",
      "2025-01-21 15:32:59,789 - INFO - Append publication data: ANALISIS EFEKTIVITAS PENGGUNAAN APLIKASI ZOOM SEBAGAI MEDIA PEMBELAJARAN JARAK JAUH (STUDI KASUS: SMK TI BALI GLOBAL JIMBARAN)\n",
      "2025-01-21 15:32:59,790 - INFO - Append publication data: PENINGKATAN KOMPETENSI TUTOR PUSAT KEGIATAN BELAJAR MASYARAKAT (PKBM) DALAM MEMBUAT MEDIA PEMBELAJARAN BERBASIS VIDEO MENGGUNAKAN APLIKASI POWTOON\n",
      "2025-01-21 15:32:59,790 - INFO - Append publication data: ANALISIS PROYEKSI BIAYA DAN WAKTU PENYELESAIAN PROYEK DENGAN METODE EARNED VALUE MANAGEMENT PADA PEMBANGUNAN RUKO DI JALAN COK GEDE RAI, KABUPATEN GIANYAR, BALI\n",
      "2025-01-21 15:32:59,790 - INFO - Append publication data: PENGARUH EDUKASI MEDIA AUDIOVISUAL TERHADAP KESIAPSIAGAAN SISWA DALAM MENGHADAPI BENCANA GEMPA BUMI DI SD NEGERI 1 LEBIH GIANYAR TAHUN 2021\n",
      "2025-01-21 15:32:59,791 - INFO - Append publication data: Perencanaan Strategis Sistem Informasi Dalam Meningkatkan Daya Saing Lulusan Pada SMK TI Bali Global Karangasem\n",
      "2025-01-21 15:32:59,791 - INFO - Append publication data: IbM PENJAHIT PAKAIAN PANTAI DI DESA SUKAWATI KABUPATEN GIANYAR\n",
      "2025-01-21 15:32:59,792 - INFO - Append publication data: Rancang Bangun Sistem Informasi Geografis Pemesanan Taksi Berbasis Android\n",
      "2025-01-21 15:32:59,792 - INFO - Append publication data: Efektivitas penggunaan WI-FI dalam penyelesaian tugas perkuliahan di STMIK STIKOM Bali\n",
      "2025-01-21 15:32:59,793 - INFO - Index-37: Finished getting publication data for scholar_id: GqPl4-4AAAAJ - I WAYAN GEDE NARAYANA\n",
      "2025-01-21 15:33:01,880 - INFO - Getting publication data for scholar_id: Ztn650AAAAAJ - I PUTU GEDE ABDI SUDIATMIKA\n",
      "2025-01-21 15:33:02,939 - INFO - Clicking the \"Show more\" button\n",
      "2025-01-21 15:33:03,973 - INFO - Append publication data: E-Learning Berbasis Telegram Bot\n",
      "2025-01-21 15:33:03,974 - INFO - Append publication data: Line Bot Implementation for Automation Balinese Language Dictionary\n",
      "2025-01-21 15:33:03,974 - INFO - Append publication data: Pengembangan Aplikasi Terapi Pengenalan Toilet Untuk Anak Autis Berbasis Android\n",
      "2025-01-21 15:33:03,975 - INFO - Append publication data: Garage Geographic Information System Using Haversine Method Based On Android\n",
      "2025-01-21 15:33:03,975 - INFO - Append publication data: Segmentation of crack area on road image using Lacunarity method\n",
      "2025-01-21 15:33:03,976 - INFO - Append publication data: DIAGNOSTIK KESULITAN BELAJAR MAHASISWA BERDASARKAN SISTEM METAKOGNIF PADA TAKSONOMI MARZANO\n",
      "2025-01-21 15:33:03,976 - INFO - Append publication data: Mengoptimalkan Keamanan Jaringan Komputer Menggunakan Snort dan Telegram Bot yang Terintegrasi dengan Mikrotik\n",
      "2025-01-21 15:33:03,977 - INFO - Append publication data: The Implementation of Gated Recurrent Unit (GRU) for Gold Price Prediction Using Yahoo Finance Data: A Case Study and Analysis\n",
      "2025-01-21 15:33:03,977 - INFO - Append publication data: Implementasi Metode ELECTRE dalam Sistem Pendukung Keputusan Penentuan Kelayakan Pinjaman\n",
      "2025-01-21 15:33:03,978 - INFO - Append publication data: Sistem Informasi Rekam Medis Klinik Hewan (Studi Kasus: Klinik Hewan Drh. I Dewa Made Anom)\n",
      "2025-01-21 15:33:03,978 - INFO - Append publication data: Application Using Android-based Firebase and JetPack Services for Thesis Guidance\n",
      "2025-01-21 15:33:03,978 - INFO - Append publication data: Toilet Training Therapy Application For Children With Autism Based On Android\n",
      "2025-01-21 15:33:03,979 - INFO - Append publication data: Pengaruh Kompetensi Technological Pedagogical Content Knowledge (TPACK) Terhadap Keterampilan Guru SMK Dalam Merancang Perangkat Pembelajaran Berbasis Digital\n",
      "2025-01-21 15:33:03,979 - INFO - Append publication data: PELATIHAN PEMBUATAN KONTEN PEMBELAJARAN DIGITAL PADA GURU-GURU DI SMK NEGERI 4 BANGLI\n",
      "2025-01-21 15:33:03,980 - INFO - Append publication data: Penerapan Optical Character Recognition Proses Registrasi Pasien Tes Covid-19 Berbasis Web\n",
      "2025-01-21 15:33:03,980 - INFO - Append publication data: Peningkatan Pemasaran Produk Kelompok Wanita Tani Melalui Pelatihan Google Site\n",
      "2025-01-21 15:33:03,980 - INFO - Append publication data: Sistem Penjadwalan Maintenance AC Berbasis Mobile Menggunakan Algoritma Genetika Pada Hotel Nusa Dua Convention Center\n",
      "2025-01-21 15:33:03,981 - INFO - Append publication data: RANCANG BANGUN MONITORING CHARGING ACCU MENGGUNAKAN ARDUINO BERBASIS ANDROID\n",
      "2025-01-21 15:33:03,981 - INFO - Append publication data: Pelatihan Pembuatan Raport Online Berbasis Website SMA Cendikia Harapan\n",
      "2025-01-21 15:33:03,982 - INFO - Append publication data: Perancangan Aplikasi SIG Tata Ruang Desa Adat Dalung Berbasis WEB\n",
      "2025-01-21 15:33:03,982 - INFO - Append publication data: I., hari Santhi Dewi, K., & Stikom Bali, I.(2020)\n",
      "2025-01-21 15:33:03,982 - INFO - Append publication data: Twitter vs. Threads: Bagaimana Media Sosial Mempengaruhi Pandangan Politik di Kalangan Pengguna Aktif\n",
      "2025-01-21 15:33:03,983 - INFO - Append publication data: Sistem Informasi Manajemen Komunitas Berbasis Web (Studi Kasus: Itb Stikom Bali Kampus Jimbaran)\n",
      "2025-01-21 15:33:03,983 - INFO - Append publication data: Sistem Informasi Pendataan Barang Pada Toko Adi Ayu Berbasis Web\n",
      "2025-01-21 15:33:03,984 - INFO - Append publication data: Aplikasi Media Pembelajaran Iqro’Berbasis Mobile\n",
      "2025-01-21 15:33:03,994 - INFO - Append publication data: Pengenalan Alat Fiber Optik Menggunakan Augemented Reality\n",
      "2025-01-21 15:33:03,995 - INFO - Append publication data: Sistem Informasi Penjualan Pada Toko Home Plus Berbasis Web\n",
      "2025-01-21 15:33:04,006 - INFO - Append publication data: Aplikasi Penjadwalan Dan Monitoring Terapi Anak Dengan Autisme Berbasis Android Menggunakan Metode RUP (Rational Unified Proces)\n",
      "2025-01-21 15:33:04,012 - INFO - Append publication data: Rencana Strategis Pengembangan Infrastruktur Jaringan Internet Di Biznet Menggunakan Metode Togaf\n",
      "2025-01-21 15:33:04,012 - INFO - Append publication data: OPTIMALISASI DIGITAL ENTREPRENEURSHIP MELALUI PELATIHAN STARTUP DIGITAL BAGI KALANGAN REMAJA DI KECAMATAN KUTA SELATAN\n",
      "2025-01-21 15:33:04,013 - INFO - Append publication data: STUDENTS'INTEREST FACTORS IN USING E-BOOK AND E-LIBRARY AS LEARNING SOURCES DURING THE COVID-19 PANDEMIC\n",
      "2025-01-21 15:33:04,013 - INFO - Append publication data: Digital Marketing Chatbot Using API Dialog Flow Case Studi ITB Stikom Bali, Jimbaran Campus\n",
      "2025-01-21 15:33:04,013 - INFO - Append publication data: Optimalisasi Penggunaan Google Form dan Bit. Ly Pada Annika Linden Centre\n",
      "2025-01-21 15:33:04,014 - INFO - Append publication data: Optimalisasi Perencanaan Pelaksanaan Pembelajaran Berbasis Blanded Learning Bagi Guru-Guru SMA Negeri 1 Kuta Selatan\n",
      "2025-01-21 15:33:04,014 - INFO - Append publication data: Sistem Informasi Geografis Pemetaan Kopi di Provinsi Bali Berbasis Android\n",
      "2025-01-21 15:33:04,015 - INFO - Append publication data: A COMPARATIVE STUDY OF K-NEAREST NEIGHBORS AND RANDOM FOREST CLASSIFIERS ON DIABETES\n",
      "2025-01-21 15:33:04,015 - INFO - Append publication data: Implementasi E-Asessment Higher Order Thinking Skills (HOTS) Pada Model Problem Possing Pada Mata Kuliah Matematika Diskrit\n",
      "2025-01-21 15:33:04,021 - INFO - Append publication data: SISTEM INFORMASI PERUSAHAAN: Integrasi dan Otomasi Proses Bisnis\n",
      "2025-01-21 15:33:04,021 - INFO - Append publication data: AI-Based Tourist Guide Application in Bali Using Supervised Learning Method\n",
      "2025-01-21 15:33:04,022 - INFO - Append publication data: ANALISIS VISUAL TENTANG POLA KEBAKARAN HUTAN: STUDI KASUS MENGGUNAKAN DATA INDEKS CUACA DAN AREA TERBAKAR\n",
      "2025-01-21 15:33:04,022 - INFO - Append publication data: IMPLEMENTASI PROGRAM “BERANTAS-STUNTING”(BERDAYAKAN KADER POSYANDU BALITA MELALUI TEKNOLOGI DAN EDUKASI TATALAKSANA STUNTING) DALAM UPAYA PENINGKATAN KUALITAS LAYANAN POSYANDU …\n",
      "2025-01-21 15:33:04,023 - INFO - Append publication data: PENGENALAN INDUSTRI WEB3 DAN BLOCKCHAIN PADA SISWA-SISWI SMK NEGERI 2 KUTA SELATAN\n",
      "2025-01-21 15:33:04,023 - INFO - Append publication data: Sistem Informasi Pengarsipan Dokumen Ekspor Pada CV Cahaya Pesona Berbasis Web Menggunakan Metode Waterfall\n",
      "2025-01-21 15:33:04,023 - INFO - Append publication data: Prototype of a Virtual Assistant System Integrated with AI\n",
      "2025-01-21 15:33:04,024 - INFO - Append publication data: Comparison of LSTM and GRU Models Performance in Forecasting Gold Prices: A Case Study Using Historical Data from Yahoo Finance\n",
      "2025-01-21 15:33:04,025 - INFO - Append publication data: LEADING SECTOR ANALYSIS AND POTENTIAL FOR ECONOMIC GROWTH AS BASE OF REGIONAL DEVELOPMENT PLANNING JEMBRANA DISTRICT\n",
      "2025-01-21 15:33:04,025 - INFO - Append publication data: Donor Darah dan Optimalisasi Keterampilan Keamanan Digital\n",
      "2025-01-21 15:33:04,026 - INFO - Append publication data: Rancang Bangun Sistem Informasi Absensi Siswa Pada TK Hindu Udiana Sari Berbasis Website\n",
      "2025-01-21 15:33:04,026 - INFO - Append publication data: Rancang Bangun Game Edukasi Asah Otak “The Adventure Of Teka-Teki”: Game Edukasi, Pembelajaran, Asah otak, Pemecahan Masalah, Menyenangkan\n",
      "2025-01-21 15:33:04,027 - INFO - Append publication data: Sistem Pakar Analisa Kerusakan AC Split Berbasis Web Menggunakan Metode Forward Chaining pada Aircond Care\n",
      "2025-01-21 15:33:04,027 - INFO - Append publication data: SISTEM INFORMASI PENJUALAN GONG PADA TOKO PANDE GONG SIDHA KARYA BERBASIS WEB\n",
      "2025-01-21 15:33:04,028 - INFO - Append publication data: Sistem Informasi Administrasi Terpadu Pada PT. Internet Prima Nusantara\n",
      "2025-01-21 15:33:04,028 - INFO - Append publication data: Sistem Informasi Pengenalan Probali Car Rental Berbasis Website\n",
      "2025-01-21 15:33:04,029 - INFO - Append publication data: Sistem Informasi Point Of Sale (POS) Pada Surya Motor Karangasem Berbasis Website\n",
      "2025-01-21 15:33:04,029 - INFO - Append publication data: Rancang Bangun Sistem Informasi Penjualan Obat Pada Apotek Nerisa Farma Denpasar Menggunakan Framework Laravel\n",
      "2025-01-21 15:33:04,029 - INFO - Append publication data: PENDAMPINGAN DAN PENGEMBANGAN CORPORATE IDENTITY DAN ELEARNING BERBASIS MOODLE DI UPTD PLD KOTA DENPASAR\n",
      "2025-01-21 15:33:04,030 - INFO - Append publication data: Multimedia Interaktif Pengenalan Organ Dalam Tubuh Manusia Untuk Sekolah Menengah Pertama Berbasis Android\n",
      "2025-01-21 15:33:04,030 - INFO - Append publication data: ANALISIS PREDIKSI HARGA SMARTPHONE TAHUN 2023 MENGGUNAKAN MODEL RANDOM FOREST REGRESSION BERDASARKAN FITUR-FITUR SPESIFIKASI TEKNIS\n",
      "2025-01-21 15:33:04,030 - INFO - Append publication data: Sistem Informasi Reporting Sales And Marketing Berbasis Web (Studi Kasus Amaroossa Hotels Indonesia)\n",
      "2025-01-21 15:33:04,031 - INFO - Append publication data: PELATIHAN PUBLIC SPEAKING DAN PENGENALAN TEKNOLOGI INFORMASI DI PANTI ASUHAN KHOIRUL UMMAH\n",
      "2025-01-21 15:33:04,031 - INFO - Append publication data: Aplikasi Virtual Tour 360 Degree Sebagai Media Promosi Gedung Nusa Pujian Convention Center\n",
      "2025-01-21 15:33:04,032 - INFO - Append publication data: Sistem Informasi Geografis Tempat Wisata Tirta Di Provinsi Bali Berbasis Android\n",
      "2025-01-21 15:33:04,032 - INFO - Append publication data: Perancangan Sistem Pengelolaan Dokumen Dengan Menerapkan Symmetric Key Encryption Berbasis Web\n",
      "2025-01-21 15:33:04,032 - INFO - Append publication data: Sistem Informasi Mapping Order Cluster Priority Pada Consumer Account Manager Telkom Denpasar Berbasis Web Responsive\n",
      "2025-01-21 15:33:04,032 - INFO - Append publication data: Pembangunan Sistem Informasi Manajamen Front Office Pada The Aulia Stay Berbasis Website Dengan Framework Laravel\n",
      "2025-01-21 15:33:04,033 - INFO - Append publication data: Perancangan Sistem Informasi Kegiatan Anggaran Kantor Pada Balai Besar Meteorologi Klimatologi Dan Geofisika Wilayah III Berbasis Web\n",
      "2025-01-21 15:33:04,033 - INFO - Append publication data: Sistem Informasi Penyewaan Dekorasi Pada Agung Tiffany Dekorasi Berbasis Web Menggunakan Framework Laravel\n",
      "2025-01-21 15:33:04,034 - INFO - Append publication data: Analisis Sistem Informasi Permasalahan Auto Warning System Dengan Metode Pieces Pada Aplikasi Odoo\n",
      "2025-01-21 15:33:04,034 - INFO - Append publication data: Analisis Pola Jadwal Anak Autis Menggunakan Metode Association Rule Mining FP-Growth\n",
      "2025-01-21 15:33:04,034 - INFO - Append publication data: PENINGKATAN KEMAMPUAN KOMPUTER BAGI PERANGKAT BUMDES DESA ABUANG BANGLI\n",
      "2025-01-21 15:33:04,035 - INFO - Append publication data: Public Perception of ITB STIKOM Bali Kampus Jimbaran’s Brand Image\n",
      "2025-01-21 15:33:04,035 - INFO - Append publication data: Game Edukasi Metamorfosis Hewan Dengan Augmented Reality Berbasis Android\n",
      "2025-01-21 15:33:04,035 - INFO - Append publication data: Game Helpman Adventure Sebagai Media Pembelajaran Pertolongan Pertama Pada Kecelakaan Menggunakan Construct 2\n",
      "2025-01-21 15:33:04,036 - INFO - Append publication data: Pengembangan Minat dan Bakat Siswa Melalui Pelatihan Public Speaking, E-Sport, dan Pembuatan Film Pendek di SMA Negeri 1 Kuta Selatan\n",
      "2025-01-21 15:33:04,036 - INFO - Append publication data: IMPLEMENTASI CLOUD COMPUTING PADA APOTEK DI BALI BERBASIS SOFTWARE AS A SERVICE (SAAS)\n",
      "2025-01-21 15:33:04,037 - INFO - Append publication data: IMPLEMLENTASI ASESMEN ALTERNATIF PADA STRATEGI PEMBELAJARAN SYNCHRONOUS DAN ASYNCHRONOUS\n",
      "2025-01-21 15:33:04,038 - INFO - Append publication data: PENINGKATAN KOMPETENSI TUTOR PUSAT KEGIATAN BELAJAR MASYARAKAT (PKBM) DALAM MEMBUAT MEDIA PEMBELAJARAN BERBASIS VIDEO MENGGUNAKAN APLIKASI POWTOON\n",
      "2025-01-21 15:33:04,038 - INFO - Append publication data: Sistem Informasi Booking Service Motor Kawasaki (PT. Duta Intika Kawasaki) Berbasis Web\n",
      "2025-01-21 15:33:04,038 - INFO - Append publication data: PERANCANGAN DAN PEMBUATAN APLIKASI ANALISIS DISTRIBUSI UKURAN OBJEK PADA CITRA DIGITAL DENGAN MENGGUNAKAN METODE MORPHOLOGI MATEMATIKA GRANULOMETRY\n",
      "2025-01-21 15:33:04,039 - INFO - Append publication data: PROGRAM KEMITRAAN MASYARAKAT KWT PERMATA NUSA DUA\n",
      "2025-01-21 15:33:04,039 - INFO - Append publication data: IMPLEMENTASI ANDROID STUDIO UNTUK SISTEM INFORMASI GEOGRAFIS PEMETAAN PETANI KOPI BERBASIS ANDROID\n",
      "2025-01-21 15:33:04,039 - INFO - Append publication data: COVID-19\n",
      "2025-01-21 15:33:04,040 - INFO - Append publication data: Name Page\n",
      "2025-01-21 15:33:04,040 - INFO - Append publication data: COBIT 4.1\n",
      "2025-01-21 15:33:04,041 - INFO - Index-34: Finished getting publication data for scholar_id: Ztn650AAAAAJ - I PUTU GEDE ABDI SUDIATMIKA\n"
     ]
    },
    {
     "data": {
      "text/html": [
       "<div>\n",
       "<style scoped>\n",
       "    .dataframe tbody tr th:only-of-type {\n",
       "        vertical-align: middle;\n",
       "    }\n",
       "\n",
       "    .dataframe tbody tr th {\n",
       "        vertical-align: top;\n",
       "    }\n",
       "\n",
       "    .dataframe thead th {\n",
       "        text-align: right;\n",
       "    }\n",
       "</style>\n",
       "<table border=\"1\" class=\"dataframe\">\n",
       "  <thead>\n",
       "    <tr style=\"text-align: right;\">\n",
       "      <th></th>\n",
       "      <th>scholar_id</th>\n",
       "      <th>title</th>\n",
       "      <th>authors</th>\n",
       "      <th>publisher</th>\n",
       "      <th>year</th>\n",
       "      <th>citations</th>\n",
       "      <th>article_url</th>\n",
       "      <th>article_id</th>\n",
       "    </tr>\n",
       "  </thead>\n",
       "  <tbody>\n",
       "    <tr>\n",
       "      <th>0</th>\n",
       "      <td>qjU7YEgAAAAJ</td>\n",
       "      <td>Konsep Algoritme dan Aplikasinya dalam Bahasa ...</td>\n",
       "      <td>S Hanief, IW Jepriana</td>\n",
       "      <td>Penerbit Andi, 2020</td>\n",
       "      <td>2020</td>\n",
       "      <td>61</td>\n",
       "      <td>/citations?view_op=view_citation&amp;hl=en&amp;user=qj...</td>\n",
       "      <td>qjU7YEgAAAAJ:ufrVoPGSRksC</td>\n",
       "    </tr>\n",
       "    <tr>\n",
       "      <th>1</th>\n",
       "      <td>qjU7YEgAAAAJ</td>\n",
       "      <td>Framework Itil V3 Domain Service Operation Dal...</td>\n",
       "      <td>S Hanief, IW Jefriana</td>\n",
       "      <td>Jurnal Teknologi Informasi dan Komputer 4 (1),...</td>\n",
       "      <td>2018</td>\n",
       "      <td>47</td>\n",
       "      <td>/citations?view_op=view_citation&amp;hl=en&amp;user=qj...</td>\n",
       "      <td>qjU7YEgAAAAJ:ULOm3_A8WrAC</td>\n",
       "    </tr>\n",
       "    <tr>\n",
       "      <th>2</th>\n",
       "      <td>qjU7YEgAAAAJ</td>\n",
       "      <td>Pelatihan Microsoft Office dan Desain Grafis u...</td>\n",
       "      <td>DP Agustino, IW Jepriana, IPFE Putra</td>\n",
       "      <td>WIDYABHAKTI Jurnal Ilmiah Populer 3 (1), 38-48...</td>\n",
       "      <td>2020</td>\n",
       "      <td>35</td>\n",
       "      <td>/citations?view_op=view_citation&amp;hl=en&amp;user=qj...</td>\n",
       "      <td>qjU7YEgAAAAJ:_FxGoFyzp5QC</td>\n",
       "    </tr>\n",
       "    <tr>\n",
       "      <th>3</th>\n",
       "      <td>qjU7YEgAAAAJ</td>\n",
       "      <td>Analisis dan Implementasi Metode Item-based Co...</td>\n",
       "      <td>IW Jepriana, S Hanief</td>\n",
       "      <td>Jurnal Nasional Pendidikan Teknik Informatika:...</td>\n",
       "      <td>2020</td>\n",
       "      <td>20</td>\n",
       "      <td>/citations?view_op=view_citation&amp;hl=en&amp;user=qj...</td>\n",
       "      <td>qjU7YEgAAAAJ:WF5omc3nYNoC</td>\n",
       "    </tr>\n",
       "    <tr>\n",
       "      <th>4</th>\n",
       "      <td>qjU7YEgAAAAJ</td>\n",
       "      <td>Analisis Maturity Level Dalam Blended Learning...</td>\n",
       "      <td>S Hanief, IW Jepriana</td>\n",
       "      <td>Jurnal Teknologi Informasi Dan Komputer 5 (1),...</td>\n",
       "      <td>2019</td>\n",
       "      <td>13</td>\n",
       "      <td>/citations?view_op=view_citation&amp;hl=en&amp;user=qj...</td>\n",
       "      <td>qjU7YEgAAAAJ:roLk4NBRz8UC</td>\n",
       "    </tr>\n",
       "  </tbody>\n",
       "</table>\n",
       "</div>"
      ],
      "text/plain": [
       "     scholar_id                                              title  \\\n",
       "0  qjU7YEgAAAAJ  Konsep Algoritme dan Aplikasinya dalam Bahasa ...   \n",
       "1  qjU7YEgAAAAJ  Framework Itil V3 Domain Service Operation Dal...   \n",
       "2  qjU7YEgAAAAJ  Pelatihan Microsoft Office dan Desain Grafis u...   \n",
       "3  qjU7YEgAAAAJ  Analisis dan Implementasi Metode Item-based Co...   \n",
       "4  qjU7YEgAAAAJ  Analisis Maturity Level Dalam Blended Learning...   \n",
       "\n",
       "                                authors  \\\n",
       "0                 S Hanief, IW Jepriana   \n",
       "1                 S Hanief, IW Jefriana   \n",
       "2  DP Agustino, IW Jepriana, IPFE Putra   \n",
       "3                 IW Jepriana, S Hanief   \n",
       "4                 S Hanief, IW Jepriana   \n",
       "\n",
       "                                           publisher  year citations  \\\n",
       "0                                Penerbit Andi, 2020  2020        61   \n",
       "1  Jurnal Teknologi Informasi dan Komputer 4 (1),...  2018        47   \n",
       "2  WIDYABHAKTI Jurnal Ilmiah Populer 3 (1), 38-48...  2020        35   \n",
       "3  Jurnal Nasional Pendidikan Teknik Informatika:...  2020        20   \n",
       "4  Jurnal Teknologi Informasi Dan Komputer 5 (1),...  2019        13   \n",
       "\n",
       "                                         article_url  \\\n",
       "0  /citations?view_op=view_citation&hl=en&user=qj...   \n",
       "1  /citations?view_op=view_citation&hl=en&user=qj...   \n",
       "2  /citations?view_op=view_citation&hl=en&user=qj...   \n",
       "3  /citations?view_op=view_citation&hl=en&user=qj...   \n",
       "4  /citations?view_op=view_citation&hl=en&user=qj...   \n",
       "\n",
       "                  article_id  \n",
       "0  qjU7YEgAAAAJ:ufrVoPGSRksC  \n",
       "1  qjU7YEgAAAAJ:ULOm3_A8WrAC  \n",
       "2  qjU7YEgAAAAJ:_FxGoFyzp5QC  \n",
       "3  qjU7YEgAAAAJ:WF5omc3nYNoC  \n",
       "4  qjU7YEgAAAAJ:roLk4NBRz8UC  "
      ]
     },
     "execution_count": 3,
     "metadata": {},
     "output_type": "execute_result"
    }
   ],
   "source": [
    "# Function to get publication data\n",
    "def get_publication_data(scholar_id, author_name, delay_times=1.0):\n",
    "    url = f'https://scholar.google.com/citations?user={scholar_id}&hl=en'\n",
    "    browser.get(url)\n",
    "    logging.info(f'Getting publication data for scholar_id: {scholar_id} - {author_name}')\n",
    "    time.sleep(delay_times)\n",
    "\n",
    "    # Click the \"Show more\" button\n",
    "    while True:\n",
    "        try:\n",
    "            show_more_button = browser.find_element('id', 'gsc_bpf')\n",
    "            if show_more_button.is_displayed():\n",
    "                show_more_button.click()\n",
    "                logging.info('Clicking the \"Show more\" button')\n",
    "                time.sleep(delay_times)\n",
    "                break\n",
    "            else:\n",
    "                logging.info('No more \"Show more\" button')\n",
    "                break\n",
    "        except Exception as e:\n",
    "            break\n",
    "\n",
    "    html = browser.page_source\n",
    "    soup = BeautifulSoup(html, 'html.parser')\n",
    "\n",
    "    publications = []\n",
    "    for row in soup.find_all('tr', class_='gsc_a_tr'):\n",
    "        title_elem = row.find('a', class_='gsc_a_at')\n",
    "        title = row.find('a', class_='gsc_a_at').text\n",
    "        year = row.find('span', class_='gsc_a_hc').text\n",
    "        citations = row.find('a', class_='gsc_a_ac').text\n",
    "        authors_publisher = row.find_all('div', class_='gs_gray')\n",
    "        authors = authors_publisher[0].text\n",
    "        publisher = authors_publisher[1].text\n",
    "\n",
    "        article_url = title_elem['href'] if title_elem else 'N/A'\n",
    "        article_id = article_url.split('citation_for_view=')[1] if article_url != 'N/A' else 'N/A'\n",
    "\n",
    "        publications.append({\n",
    "            'scholar_id': scholar_id,\n",
    "            'title': title,\n",
    "            'authors': authors,\n",
    "            'publisher': publisher,\n",
    "            'year': year,\n",
    "            'citations': citations,\n",
    "            'article_url': article_url,\n",
    "            'article_id': article_id,\n",
    "        })\n",
    "        logging.info(f'Append publication data: {publications[-1][\"title\"]}')\n",
    "\n",
    "    return publications\n",
    "\n",
    "# Not stable yet, because the we need a scheduling mechanism to avoid the blocking of the data.\n",
    "# Commented the function below.\n",
    "# def fetch_publication_data(scholar_ids):\n",
    "#     publications = []\n",
    "#     with ThreadPoolExecutor(max_workers=5) as executor:\n",
    "#         futures = [executor.submit(get_publication_data, scholar_id) for scholar_id in scholar_ids]\n",
    "#         for future in as_completed(futures):\n",
    "#             publications.extend(future.result())\n",
    "#     return publications\n",
    "\n",
    "options = webdriver.ChromeOptions()\n",
    "options.add_argument('--ignore-certificate-errors')\n",
    "options.add_argument('--incognito')\n",
    "options.add_argument('--headless')\n",
    "options.add_argument('--no-sandbox')\n",
    "\n",
    "# Initialize the WebDriver\n",
    "browser = webdriver.Chrome(service=ChromeService(ChromeDriverManager().install()), options=options)\n",
    "\n",
    "# DataFrame to store the results\n",
    "columns = ['scholar_id', 'title', 'authors', 'publisher', 'year', 'citations', 'article_url', 'article_id']\n",
    "results_df = pd.DataFrame(columns=columns)\n",
    "\n",
    "# Loop through each scholar_id and get the publication data\n",
    "# Change the `df_idgs` to `df_samples` to test the function for fewer samples\n",
    "for index, row in df_samples.iterrows():\n",
    "    scholar_id = row['scholar_id']\n",
    "    author_name = row['NAMA']\n",
    "    publications = get_publication_data(scholar_id, author_name)\n",
    "    results_df = pd.concat([results_df, pd.DataFrame(publications)], ignore_index=True)\n",
    "    logging.info(f'Index-{index}: Finished getting publication data for scholar_id: {scholar_id} - {author_name}')\n",
    "\n",
    "# Uncomment the below code if you commented the `fetch_publication_data` function\n",
    "# scholar_ids = df_samples['scholar_id'].tolist()\n",
    "# publications = fetch_publication_data(scholar_ids)\n",
    "# df_publications = pd.DataFrame(publications)\n",
    "\n",
    "# Save the results to a CSV file\n",
    "# df_publications.to_csv('/Users/rudyhendrawan/miniforge3/datasets/publications.csv', index=False)\n",
    "\n",
    "# Close the browser\n",
    "browser.quit()\n",
    "\n",
    "# Display the results\n",
    "results_df.head()\n",
    "# results_df.to_csv('/Users/rudyhendrawan/miniforge3/datasets/publications.csv', index=False)"
   ]
  },
  {
   "cell_type": "code",
   "execution_count": 4,
   "metadata": {},
   "outputs": [
    {
     "name": "stderr",
     "output_type": "stream",
     "text": [
      "2025-01-21 15:36:38,004 - INFO - ====== WebDriver manager ======\n",
      "2025-01-21 15:36:38,187 - INFO - Get LATEST chromedriver version for google-chrome\n",
      "2025-01-21 15:36:39,216 - INFO - Get LATEST chromedriver version for google-chrome\n",
      "2025-01-21 15:36:40,035 - INFO - Driver [/Users/rudyhendrawan/.wdm/drivers/chromedriver/mac64/131.0.6778.264/chromedriver-mac-arm64/chromedriver] found in cache\n",
      "2025-01-21 15:36:40,885 - INFO - Accessing article ID qjU7YEgAAAAJ:ufrVoPGSRksC with URL /citations?view_op=view_citation&hl=en&user=qjU7YEgAAAAJ&citation_for_view=qjU7YEgAAAAJ:ufrVoPGSRksC\n",
      "2025-01-21 15:36:45,282 - INFO - Getting citation data for article ID qjU7YEgAAAAJ:ufrVoPGSRksC - URL: /citations?view_op=view_citation&hl=en&user=qjU7YEgAAAAJ&citation_for_view=qjU7YEgAAAAJ:ufrVoPGSRksC\n",
      "2025-01-21 15:36:45,293 - INFO - Citation data for article ID qjU7YEgAAAAJ:ufrVoPGSRksC: , year: 2021, num of citation: {'2021': 6}\n",
      "2025-01-21 15:36:45,294 - INFO - Citation data for article ID qjU7YEgAAAAJ:ufrVoPGSRksC: , year: 2022, num of citation: {'2021': 6, '2022': 16}\n",
      "2025-01-21 15:36:45,294 - INFO - Citation data for article ID qjU7YEgAAAAJ:ufrVoPGSRksC: , year: 2023, num of citation: {'2021': 6, '2022': 16, '2023': 18}\n",
      "2025-01-21 15:36:45,295 - INFO - Citation data for article ID qjU7YEgAAAAJ:ufrVoPGSRksC: , year: 2024, num of citation: {'2021': 6, '2022': 16, '2023': 18, '2024': 16}\n",
      "2025-01-21 15:36:45,296 - INFO - Inserting citation data for article ID qjU7YEgAAAAJ:ufrVoPGSRksC: year: 2021, num of citation: 6\n",
      "2025-01-21 15:36:45,297 - INFO - Inserting citation data for article ID qjU7YEgAAAAJ:ufrVoPGSRksC: year: 2022, num of citation: 16\n",
      "2025-01-21 15:36:45,298 - INFO - Inserting citation data for article ID qjU7YEgAAAAJ:ufrVoPGSRksC: year: 2023, num of citation: 18\n",
      "2025-01-21 15:36:45,299 - INFO - Inserting citation data for article ID qjU7YEgAAAAJ:ufrVoPGSRksC: year: 2024, num of citation: 16\n",
      "2025-01-21 15:36:45,299 - INFO - Accessing article ID qjU7YEgAAAAJ:ULOm3_A8WrAC with URL /citations?view_op=view_citation&hl=en&user=qjU7YEgAAAAJ&citation_for_view=qjU7YEgAAAAJ:ULOm3_A8WrAC\n",
      "2025-01-21 15:36:49,094 - INFO - Getting citation data for article ID qjU7YEgAAAAJ:ULOm3_A8WrAC - URL: /citations?view_op=view_citation&hl=en&user=qjU7YEgAAAAJ&citation_for_view=qjU7YEgAAAAJ:ULOm3_A8WrAC\n",
      "2025-01-21 15:36:49,108 - INFO - Citation data for article ID qjU7YEgAAAAJ:ULOm3_A8WrAC: , year: 2020, num of citation: {'2020': 3}\n",
      "2025-01-21 15:36:49,109 - INFO - Citation data for article ID qjU7YEgAAAAJ:ULOm3_A8WrAC: , year: 2021, num of citation: {'2020': 3, '2021': 8}\n",
      "2025-01-21 15:36:49,110 - INFO - Citation data for article ID qjU7YEgAAAAJ:ULOm3_A8WrAC: , year: 2022, num of citation: {'2020': 3, '2021': 8, '2022': 13}\n",
      "2025-01-21 15:36:49,110 - INFO - Citation data for article ID qjU7YEgAAAAJ:ULOm3_A8WrAC: , year: 2023, num of citation: {'2020': 3, '2021': 8, '2022': 13, '2023': 15}\n",
      "2025-01-21 15:36:49,111 - INFO - Citation data for article ID qjU7YEgAAAAJ:ULOm3_A8WrAC: , year: 2024, num of citation: {'2020': 3, '2021': 8, '2022': 13, '2023': 15, '2024': 8}\n",
      "2025-01-21 15:36:49,112 - INFO - Inserting citation data for article ID qjU7YEgAAAAJ:ULOm3_A8WrAC: year: 2020, num of citation: 3\n",
      "2025-01-21 15:36:49,113 - INFO - Inserting citation data for article ID qjU7YEgAAAAJ:ULOm3_A8WrAC: year: 2021, num of citation: 8\n",
      "2025-01-21 15:36:49,114 - INFO - Inserting citation data for article ID qjU7YEgAAAAJ:ULOm3_A8WrAC: year: 2022, num of citation: 13\n",
      "2025-01-21 15:36:49,115 - INFO - Inserting citation data for article ID qjU7YEgAAAAJ:ULOm3_A8WrAC: year: 2023, num of citation: 15\n",
      "2025-01-21 15:36:49,116 - INFO - Inserting citation data for article ID qjU7YEgAAAAJ:ULOm3_A8WrAC: year: 2024, num of citation: 8\n",
      "2025-01-21 15:36:49,117 - INFO - Accessing article ID qjU7YEgAAAAJ:_FxGoFyzp5QC with URL /citations?view_op=view_citation&hl=en&user=qjU7YEgAAAAJ&citation_for_view=qjU7YEgAAAAJ:_FxGoFyzp5QC\n",
      "2025-01-21 15:36:51,633 - INFO - Getting citation data for article ID qjU7YEgAAAAJ:_FxGoFyzp5QC - URL: /citations?view_op=view_citation&hl=en&user=qjU7YEgAAAAJ&citation_for_view=qjU7YEgAAAAJ:_FxGoFyzp5QC\n",
      "2025-01-21 15:36:51,650 - INFO - Citation data for article ID qjU7YEgAAAAJ:_FxGoFyzp5QC: , year: 2019, num of citation: {'2019': 3}\n",
      "2025-01-21 15:36:51,651 - INFO - Citation data for article ID qjU7YEgAAAAJ:_FxGoFyzp5QC: , year: 2020, num of citation: {'2019': 3, '2020': 1}\n",
      "2025-01-21 15:36:51,652 - INFO - Citation data for article ID qjU7YEgAAAAJ:_FxGoFyzp5QC: , year: 2021, num of citation: {'2019': 3, '2020': 1, '2021': 8}\n",
      "2025-01-21 15:36:51,652 - INFO - Citation data for article ID qjU7YEgAAAAJ:_FxGoFyzp5QC: , year: 2022, num of citation: {'2019': 3, '2020': 1, '2021': 8, '2022': 12}\n",
      "2025-01-21 15:36:51,653 - INFO - Citation data for article ID qjU7YEgAAAAJ:_FxGoFyzp5QC: , year: 2023, num of citation: {'2019': 3, '2020': 1, '2021': 8, '2022': 12, '2023': 11}\n",
      "2025-01-21 15:36:51,654 - INFO - Inserting citation data for article ID qjU7YEgAAAAJ:_FxGoFyzp5QC: year: 2019, num of citation: 3\n",
      "2025-01-21 15:36:51,656 - INFO - Inserting citation data for article ID qjU7YEgAAAAJ:_FxGoFyzp5QC: year: 2020, num of citation: 1\n",
      "2025-01-21 15:36:51,657 - INFO - Inserting citation data for article ID qjU7YEgAAAAJ:_FxGoFyzp5QC: year: 2021, num of citation: 8\n",
      "2025-01-21 15:36:51,658 - INFO - Inserting citation data for article ID qjU7YEgAAAAJ:_FxGoFyzp5QC: year: 2022, num of citation: 12\n",
      "2025-01-21 15:36:51,659 - INFO - Inserting citation data for article ID qjU7YEgAAAAJ:_FxGoFyzp5QC: year: 2023, num of citation: 11\n",
      "2025-01-21 15:36:51,660 - INFO - Accessing article ID qjU7YEgAAAAJ:WF5omc3nYNoC with URL /citations?view_op=view_citation&hl=en&user=qjU7YEgAAAAJ&citation_for_view=qjU7YEgAAAAJ:WF5omc3nYNoC\n",
      "2025-01-21 15:36:54,265 - INFO - Getting citation data for article ID qjU7YEgAAAAJ:WF5omc3nYNoC - URL: /citations?view_op=view_citation&hl=en&user=qjU7YEgAAAAJ&citation_for_view=qjU7YEgAAAAJ:WF5omc3nYNoC\n",
      "2025-01-21 15:36:54,275 - INFO - Citation data for article ID qjU7YEgAAAAJ:WF5omc3nYNoC: , year: 2020, num of citation: {'2020': 1}\n",
      "2025-01-21 15:36:54,276 - INFO - Citation data for article ID qjU7YEgAAAAJ:WF5omc3nYNoC: , year: 2021, num of citation: {'2020': 1, '2021': 1}\n",
      "2025-01-21 15:36:54,276 - INFO - Citation data for article ID qjU7YEgAAAAJ:WF5omc3nYNoC: , year: 2022, num of citation: {'2020': 1, '2021': 1, '2022': 4}\n",
      "2025-01-21 15:36:54,277 - INFO - Citation data for article ID qjU7YEgAAAAJ:WF5omc3nYNoC: , year: 2023, num of citation: {'2020': 1, '2021': 1, '2022': 4, '2023': 8}\n",
      "2025-01-21 15:36:54,277 - INFO - Citation data for article ID qjU7YEgAAAAJ:WF5omc3nYNoC: , year: 2024, num of citation: {'2020': 1, '2021': 1, '2022': 4, '2023': 8, '2024': 6}\n",
      "2025-01-21 15:36:54,279 - INFO - Inserting citation data for article ID qjU7YEgAAAAJ:WF5omc3nYNoC: year: 2020, num of citation: 1\n",
      "2025-01-21 15:36:54,280 - INFO - Inserting citation data for article ID qjU7YEgAAAAJ:WF5omc3nYNoC: year: 2021, num of citation: 1\n",
      "2025-01-21 15:36:54,281 - INFO - Inserting citation data for article ID qjU7YEgAAAAJ:WF5omc3nYNoC: year: 2022, num of citation: 4\n",
      "2025-01-21 15:36:54,282 - INFO - Inserting citation data for article ID qjU7YEgAAAAJ:WF5omc3nYNoC: year: 2023, num of citation: 8\n",
      "2025-01-21 15:36:54,282 - INFO - Inserting citation data for article ID qjU7YEgAAAAJ:WF5omc3nYNoC: year: 2024, num of citation: 6\n",
      "2025-01-21 15:36:54,283 - INFO - Accessing article ID qjU7YEgAAAAJ:roLk4NBRz8UC with URL /citations?view_op=view_citation&hl=en&user=qjU7YEgAAAAJ&citation_for_view=qjU7YEgAAAAJ:roLk4NBRz8UC\n",
      "2025-01-21 15:37:12,683 - INFO - Getting citation data for article ID qjU7YEgAAAAJ:roLk4NBRz8UC - URL: /citations?view_op=view_citation&hl=en&user=qjU7YEgAAAAJ&citation_for_view=qjU7YEgAAAAJ:roLk4NBRz8UC\n",
      "2025-01-21 15:37:12,694 - INFO - Citation data for article ID qjU7YEgAAAAJ:roLk4NBRz8UC: , year: 2022, num of citation: {'2022': 3}\n",
      "2025-01-21 15:37:12,694 - INFO - Citation data for article ID qjU7YEgAAAAJ:roLk4NBRz8UC: , year: 2023, num of citation: {'2022': 3, '2023': 6}\n",
      "2025-01-21 15:37:12,694 - INFO - Citation data for article ID qjU7YEgAAAAJ:roLk4NBRz8UC: , year: 2024, num of citation: {'2022': 3, '2023': 6, '2024': 4}\n",
      "2025-01-21 15:37:12,695 - INFO - Inserting citation data for article ID qjU7YEgAAAAJ:roLk4NBRz8UC: year: 2022, num of citation: 3\n",
      "2025-01-21 15:37:12,696 - INFO - Inserting citation data for article ID qjU7YEgAAAAJ:roLk4NBRz8UC: year: 2023, num of citation: 6\n",
      "2025-01-21 15:37:12,697 - INFO - Inserting citation data for article ID qjU7YEgAAAAJ:roLk4NBRz8UC: year: 2024, num of citation: 4\n",
      "2025-01-21 15:37:12,697 - INFO - Accessing article ID qjU7YEgAAAAJ:Se3iqnhoufwC with URL /citations?view_op=view_citation&hl=en&user=qjU7YEgAAAAJ&citation_for_view=qjU7YEgAAAAJ:Se3iqnhoufwC\n",
      "2025-01-21 15:37:15,056 - INFO - Getting citation data for article ID qjU7YEgAAAAJ:Se3iqnhoufwC - URL: /citations?view_op=view_citation&hl=en&user=qjU7YEgAAAAJ&citation_for_view=qjU7YEgAAAAJ:Se3iqnhoufwC\n",
      "2025-01-21 15:37:15,064 - INFO - Citation data for article ID qjU7YEgAAAAJ:Se3iqnhoufwC: , year: 2020, num of citation: {'2020': 1}\n",
      "2025-01-21 15:37:15,064 - INFO - Citation data for article ID qjU7YEgAAAAJ:Se3iqnhoufwC: , year: 2021, num of citation: {'2020': 1, '2021': 1}\n",
      "2025-01-21 15:37:15,064 - INFO - Citation data for article ID qjU7YEgAAAAJ:Se3iqnhoufwC: , year: 2022, num of citation: {'2020': 1, '2021': 1, '2022': 2}\n",
      "2025-01-21 15:37:15,065 - INFO - Citation data for article ID qjU7YEgAAAAJ:Se3iqnhoufwC: , year: 2023, num of citation: {'2020': 1, '2021': 1, '2022': 2, '2023': 3}\n",
      "2025-01-21 15:37:15,065 - INFO - Citation data for article ID qjU7YEgAAAAJ:Se3iqnhoufwC: , year: 2024, num of citation: {'2020': 1, '2021': 1, '2022': 2, '2023': 3, '2024': 3}\n",
      "2025-01-21 15:37:15,066 - INFO - Inserting citation data for article ID qjU7YEgAAAAJ:Se3iqnhoufwC: year: 2020, num of citation: 1\n",
      "2025-01-21 15:37:15,066 - INFO - Inserting citation data for article ID qjU7YEgAAAAJ:Se3iqnhoufwC: year: 2021, num of citation: 1\n",
      "2025-01-21 15:37:15,067 - INFO - Inserting citation data for article ID qjU7YEgAAAAJ:Se3iqnhoufwC: year: 2022, num of citation: 2\n",
      "2025-01-21 15:37:15,068 - INFO - Inserting citation data for article ID qjU7YEgAAAAJ:Se3iqnhoufwC: year: 2023, num of citation: 3\n",
      "2025-01-21 15:37:15,069 - INFO - Inserting citation data for article ID qjU7YEgAAAAJ:Se3iqnhoufwC: year: 2024, num of citation: 3\n",
      "2025-01-21 15:37:15,069 - INFO - Accessing article ID qjU7YEgAAAAJ:Y0pCki6q_DkC with URL /citations?view_op=view_citation&hl=en&user=qjU7YEgAAAAJ&citation_for_view=qjU7YEgAAAAJ:Y0pCki6q_DkC\n",
      "2025-01-21 15:37:17,426 - INFO - Getting citation data for article ID qjU7YEgAAAAJ:Y0pCki6q_DkC - URL: /citations?view_op=view_citation&hl=en&user=qjU7YEgAAAAJ&citation_for_view=qjU7YEgAAAAJ:Y0pCki6q_DkC\n",
      "2025-01-21 15:37:17,440 - INFO - Citation data for article ID qjU7YEgAAAAJ:Y0pCki6q_DkC: , year: 2020, num of citation: {'2020': 1}\n",
      "2025-01-21 15:37:17,441 - INFO - Citation data for article ID qjU7YEgAAAAJ:Y0pCki6q_DkC: , year: 2021, num of citation: {'2020': 1, '2021': 4}\n",
      "2025-01-21 15:37:17,441 - INFO - Citation data for article ID qjU7YEgAAAAJ:Y0pCki6q_DkC: , year: 2022, num of citation: {'2020': 1, '2021': 4, '2022': 2}\n",
      "2025-01-21 15:37:17,442 - INFO - Citation data for article ID qjU7YEgAAAAJ:Y0pCki6q_DkC: , year: 2023, num of citation: {'2020': 1, '2021': 4, '2022': 2, '2023': 1}\n",
      "2025-01-21 15:37:17,443 - INFO - Inserting citation data for article ID qjU7YEgAAAAJ:Y0pCki6q_DkC: year: 2020, num of citation: 1\n",
      "2025-01-21 15:37:17,444 - INFO - Inserting citation data for article ID qjU7YEgAAAAJ:Y0pCki6q_DkC: year: 2021, num of citation: 4\n",
      "2025-01-21 15:37:17,445 - INFO - Inserting citation data for article ID qjU7YEgAAAAJ:Y0pCki6q_DkC: year: 2022, num of citation: 2\n",
      "2025-01-21 15:37:17,446 - INFO - Inserting citation data for article ID qjU7YEgAAAAJ:Y0pCki6q_DkC: year: 2023, num of citation: 1\n",
      "2025-01-21 15:37:17,447 - INFO - Accessing article ID qjU7YEgAAAAJ:5nxA0vEk-isC with URL /citations?view_op=view_citation&hl=en&user=qjU7YEgAAAAJ&citation_for_view=qjU7YEgAAAAJ:5nxA0vEk-isC\n",
      "2025-01-21 15:37:19,834 - INFO - Getting citation data for article ID qjU7YEgAAAAJ:5nxA0vEk-isC - URL: /citations?view_op=view_citation&hl=en&user=qjU7YEgAAAAJ&citation_for_view=qjU7YEgAAAAJ:5nxA0vEk-isC\n",
      "2025-01-21 15:37:19,847 - INFO - Citation data for article ID qjU7YEgAAAAJ:5nxA0vEk-isC: , year: 2023, num of citation: {'2023': 3}\n",
      "2025-01-21 15:37:19,848 - INFO - Inserting citation data for article ID qjU7YEgAAAAJ:5nxA0vEk-isC: year: 2023, num of citation: 3\n",
      "2025-01-21 15:37:19,848 - INFO - Accessing article ID qjU7YEgAAAAJ:YsMSGLbcyi4C with URL /citations?view_op=view_citation&hl=en&user=qjU7YEgAAAAJ&citation_for_view=qjU7YEgAAAAJ:YsMSGLbcyi4C\n",
      "2025-01-21 15:37:26,757 - INFO - Getting citation data for article ID qjU7YEgAAAAJ:YsMSGLbcyi4C - URL: /citations?view_op=view_citation&hl=en&user=qjU7YEgAAAAJ&citation_for_view=qjU7YEgAAAAJ:YsMSGLbcyi4C\n",
      "2025-01-21 15:37:26,765 - INFO - Citation data for article ID qjU7YEgAAAAJ:YsMSGLbcyi4C: , year: 2019, num of citation: {'2019': 1}\n",
      "2025-01-21 15:37:26,766 - INFO - Citation data for article ID qjU7YEgAAAAJ:YsMSGLbcyi4C: , year: 2020, num of citation: {'2019': 1, '2020': 1}\n",
      "2025-01-21 15:37:26,766 - INFO - Citation data for article ID qjU7YEgAAAAJ:YsMSGLbcyi4C: , year: 2021, num of citation: {'2019': 1, '2020': 1, '2021': 1}\n",
      "2025-01-21 15:37:26,767 - INFO - Inserting citation data for article ID qjU7YEgAAAAJ:YsMSGLbcyi4C: year: 2019, num of citation: 1\n",
      "2025-01-21 15:37:26,768 - INFO - Inserting citation data for article ID qjU7YEgAAAAJ:YsMSGLbcyi4C: year: 2020, num of citation: 1\n",
      "2025-01-21 15:37:26,769 - INFO - Inserting citation data for article ID qjU7YEgAAAAJ:YsMSGLbcyi4C: year: 2021, num of citation: 1\n",
      "2025-01-21 15:37:26,769 - INFO - Accessing article ID qjU7YEgAAAAJ:Zph67rFs4hoC with URL /citations?view_op=view_citation&hl=en&user=qjU7YEgAAAAJ&citation_for_view=qjU7YEgAAAAJ:Zph67rFs4hoC\n",
      "2025-01-21 15:37:29,155 - INFO - Getting citation data for article ID qjU7YEgAAAAJ:Zph67rFs4hoC - URL: /citations?view_op=view_citation&hl=en&user=qjU7YEgAAAAJ&citation_for_view=qjU7YEgAAAAJ:Zph67rFs4hoC\n",
      "2025-01-21 15:37:29,163 - INFO - Citation data for article ID qjU7YEgAAAAJ:Zph67rFs4hoC: , year: 2024, num of citation: {'2024': 2}\n",
      "2025-01-21 15:37:29,164 - INFO - Inserting citation data for article ID qjU7YEgAAAAJ:Zph67rFs4hoC: year: 2024, num of citation: 2\n",
      "2025-01-21 15:37:29,164 - INFO - Accessing article ID qjU7YEgAAAAJ:KlAtU1dfN6UC with URL /citations?view_op=view_citation&hl=en&user=qjU7YEgAAAAJ&citation_for_view=qjU7YEgAAAAJ:KlAtU1dfN6UC\n",
      "2025-01-21 15:37:31,686 - INFO - Getting citation data for article ID qjU7YEgAAAAJ:KlAtU1dfN6UC - URL: /citations?view_op=view_citation&hl=en&user=qjU7YEgAAAAJ&citation_for_view=qjU7YEgAAAAJ:KlAtU1dfN6UC\n",
      "2025-01-21 15:37:31,693 - INFO - Citation data for article ID qjU7YEgAAAAJ:KlAtU1dfN6UC: , year: 2024, num of citation: {'2024': 1}\n",
      "2025-01-21 15:37:31,694 - INFO - Inserting citation data for article ID qjU7YEgAAAAJ:KlAtU1dfN6UC: year: 2024, num of citation: 1\n",
      "2025-01-21 15:37:31,695 - INFO - Accessing article ID qjU7YEgAAAAJ:LkGwnXOMwfcC with URL /citations?view_op=view_citation&hl=en&user=qjU7YEgAAAAJ&citation_for_view=qjU7YEgAAAAJ:LkGwnXOMwfcC\n",
      "2025-01-21 15:37:34,025 - INFO - Getting citation data for article ID qjU7YEgAAAAJ:LkGwnXOMwfcC - URL: /citations?view_op=view_citation&hl=en&user=qjU7YEgAAAAJ&citation_for_view=qjU7YEgAAAAJ:LkGwnXOMwfcC\n",
      "2025-01-21 15:37:34,032 - INFO - Citation data for article ID qjU7YEgAAAAJ:LkGwnXOMwfcC: , year: 2024, num of citation: {'2024': 1}\n",
      "2025-01-21 15:37:34,033 - INFO - Inserting citation data for article ID qjU7YEgAAAAJ:LkGwnXOMwfcC: year: 2024, num of citation: 1\n",
      "2025-01-21 15:37:34,033 - INFO - Accessing article ID qjU7YEgAAAAJ:W7OEmFMy1HYC with URL /citations?view_op=view_citation&hl=en&user=qjU7YEgAAAAJ&citation_for_view=qjU7YEgAAAAJ:W7OEmFMy1HYC\n",
      "2025-01-21 15:37:37,106 - INFO - Getting citation data for article ID qjU7YEgAAAAJ:W7OEmFMy1HYC - URL: /citations?view_op=view_citation&hl=en&user=qjU7YEgAAAAJ&citation_for_view=qjU7YEgAAAAJ:W7OEmFMy1HYC\n",
      "2025-01-21 15:37:37,119 - INFO - Citation data for article ID qjU7YEgAAAAJ:W7OEmFMy1HYC: , year: 2022, num of citation: {'2022': 1}\n",
      "2025-01-21 15:37:37,120 - INFO - Inserting citation data for article ID qjU7YEgAAAAJ:W7OEmFMy1HYC: year: 2022, num of citation: 1\n",
      "2025-01-21 15:37:37,120 - INFO - Accessing article ID qjU7YEgAAAAJ:4TOpqqG69KYC with URL /citations?view_op=view_citation&hl=en&user=qjU7YEgAAAAJ&citation_for_view=qjU7YEgAAAAJ:4TOpqqG69KYC\n",
      "2025-01-21 15:37:39,457 - INFO - Getting citation data for article ID qjU7YEgAAAAJ:4TOpqqG69KYC - URL: /citations?view_op=view_citation&hl=en&user=qjU7YEgAAAAJ&citation_for_view=qjU7YEgAAAAJ:4TOpqqG69KYC\n",
      "2025-01-21 15:37:39,473 - INFO - Accessing article ID qjU7YEgAAAAJ:_kc_bZDykSQC with URL /citations?view_op=view_citation&hl=en&user=qjU7YEgAAAAJ&citation_for_view=qjU7YEgAAAAJ:_kc_bZDykSQC\n"
     ]
    },
    {
     "name": "stdout",
     "output_type": "stream",
     "text": [
      "No graph bars found for https://scholar.google.com/citations?view_op=view_citation&hl=en&user=qjU7YEgAAAAJ&citation_for_view=qjU7YEgAAAAJ:4TOpqqG69KYC\n"
     ]
    },
    {
     "name": "stderr",
     "output_type": "stream",
     "text": [
      "2025-01-21 15:37:41,819 - INFO - Getting citation data for article ID qjU7YEgAAAAJ:_kc_bZDykSQC - URL: /citations?view_op=view_citation&hl=en&user=qjU7YEgAAAAJ&citation_for_view=qjU7YEgAAAAJ:_kc_bZDykSQC\n",
      "2025-01-21 15:37:41,838 - INFO - Accessing article ID qjU7YEgAAAAJ:YOwf2qJgpHMC with URL /citations?view_op=view_citation&hl=en&user=qjU7YEgAAAAJ&citation_for_view=qjU7YEgAAAAJ:YOwf2qJgpHMC\n"
     ]
    },
    {
     "name": "stdout",
     "output_type": "stream",
     "text": [
      "No graph bars found for https://scholar.google.com/citations?view_op=view_citation&hl=en&user=qjU7YEgAAAAJ&citation_for_view=qjU7YEgAAAAJ:_kc_bZDykSQC\n"
     ]
    },
    {
     "name": "stderr",
     "output_type": "stream",
     "text": [
      "2025-01-21 15:37:44,202 - INFO - Getting citation data for article ID qjU7YEgAAAAJ:YOwf2qJgpHMC - URL: /citations?view_op=view_citation&hl=en&user=qjU7YEgAAAAJ&citation_for_view=qjU7YEgAAAAJ:YOwf2qJgpHMC\n",
      "2025-01-21 15:37:44,217 - INFO - Accessing article ID qjU7YEgAAAAJ:kNdYIx-mwKoC with URL /citations?view_op=view_citation&hl=en&user=qjU7YEgAAAAJ&citation_for_view=qjU7YEgAAAAJ:kNdYIx-mwKoC\n"
     ]
    },
    {
     "name": "stdout",
     "output_type": "stream",
     "text": [
      "No graph bars found for https://scholar.google.com/citations?view_op=view_citation&hl=en&user=qjU7YEgAAAAJ&citation_for_view=qjU7YEgAAAAJ:YOwf2qJgpHMC\n"
     ]
    },
    {
     "name": "stderr",
     "output_type": "stream",
     "text": [
      "2025-01-21 15:37:56,224 - INFO - Getting citation data for article ID qjU7YEgAAAAJ:kNdYIx-mwKoC - URL: /citations?view_op=view_citation&hl=en&user=qjU7YEgAAAAJ&citation_for_view=qjU7YEgAAAAJ:kNdYIx-mwKoC\n",
      "2025-01-21 15:37:56,232 - INFO - Accessing article ID qjU7YEgAAAAJ:8k81kl-MbHgC with URL /citations?view_op=view_citation&hl=en&user=qjU7YEgAAAAJ&citation_for_view=qjU7YEgAAAAJ:8k81kl-MbHgC\n"
     ]
    },
    {
     "name": "stdout",
     "output_type": "stream",
     "text": [
      "No graph bars found for https://scholar.google.com/citations?view_op=view_citation&hl=en&user=qjU7YEgAAAAJ&citation_for_view=qjU7YEgAAAAJ:kNdYIx-mwKoC\n"
     ]
    },
    {
     "name": "stderr",
     "output_type": "stream",
     "text": [
      "2025-01-21 15:37:58,677 - INFO - Getting citation data for article ID qjU7YEgAAAAJ:8k81kl-MbHgC - URL: /citations?view_op=view_citation&hl=en&user=qjU7YEgAAAAJ&citation_for_view=qjU7YEgAAAAJ:8k81kl-MbHgC\n",
      "2025-01-21 15:37:58,695 - INFO - Accessing article ID qjU7YEgAAAAJ:0EnyYjriUFMC with URL /citations?view_op=view_citation&hl=en&user=qjU7YEgAAAAJ&citation_for_view=qjU7YEgAAAAJ:0EnyYjriUFMC\n"
     ]
    },
    {
     "name": "stdout",
     "output_type": "stream",
     "text": [
      "No graph bars found for https://scholar.google.com/citations?view_op=view_citation&hl=en&user=qjU7YEgAAAAJ&citation_for_view=qjU7YEgAAAAJ:8k81kl-MbHgC\n"
     ]
    },
    {
     "name": "stderr",
     "output_type": "stream",
     "text": [
      "2025-01-21 15:38:01,260 - INFO - Getting citation data for article ID qjU7YEgAAAAJ:0EnyYjriUFMC - URL: /citations?view_op=view_citation&hl=en&user=qjU7YEgAAAAJ&citation_for_view=qjU7YEgAAAAJ:0EnyYjriUFMC\n",
      "2025-01-21 15:38:01,274 - INFO - Accessing article ID qjU7YEgAAAAJ:hqOjcs7Dif8C with URL /citations?view_op=view_citation&hl=en&user=qjU7YEgAAAAJ&citation_for_view=qjU7YEgAAAAJ:hqOjcs7Dif8C\n"
     ]
    },
    {
     "name": "stdout",
     "output_type": "stream",
     "text": [
      "No graph bars found for https://scholar.google.com/citations?view_op=view_citation&hl=en&user=qjU7YEgAAAAJ&citation_for_view=qjU7YEgAAAAJ:0EnyYjriUFMC\n"
     ]
    },
    {
     "name": "stderr",
     "output_type": "stream",
     "text": [
      "2025-01-21 15:38:03,667 - INFO - Getting citation data for article ID qjU7YEgAAAAJ:hqOjcs7Dif8C - URL: /citations?view_op=view_citation&hl=en&user=qjU7YEgAAAAJ&citation_for_view=qjU7YEgAAAAJ:hqOjcs7Dif8C\n",
      "2025-01-21 15:38:03,685 - INFO - Accessing article ID GqPl4-4AAAAJ:O3NaXMp0MMsC with URL /citations?view_op=view_citation&hl=en&user=GqPl4-4AAAAJ&citation_for_view=GqPl4-4AAAAJ:O3NaXMp0MMsC\n"
     ]
    },
    {
     "name": "stdout",
     "output_type": "stream",
     "text": [
      "No graph bars found for https://scholar.google.com/citations?view_op=view_citation&hl=en&user=qjU7YEgAAAAJ&citation_for_view=qjU7YEgAAAAJ:hqOjcs7Dif8C\n"
     ]
    },
    {
     "name": "stderr",
     "output_type": "stream",
     "text": [
      "2025-01-21 15:38:06,411 - INFO - Getting citation data for article ID GqPl4-4AAAAJ:O3NaXMp0MMsC - URL: /citations?view_op=view_citation&hl=en&user=GqPl4-4AAAAJ&citation_for_view=GqPl4-4AAAAJ:O3NaXMp0MMsC\n",
      "2025-01-21 15:38:06,430 - INFO - Citation data for article ID GqPl4-4AAAAJ:O3NaXMp0MMsC: , year: 2020, num of citation: {'2020': 6}\n",
      "2025-01-21 15:38:06,431 - INFO - Citation data for article ID GqPl4-4AAAAJ:O3NaXMp0MMsC: , year: 2021, num of citation: {'2020': 6, '2021': 28}\n",
      "2025-01-21 15:38:06,432 - INFO - Citation data for article ID GqPl4-4AAAAJ:O3NaXMp0MMsC: , year: 2022, num of citation: {'2020': 6, '2021': 28, '2022': 30}\n",
      "2025-01-21 15:38:06,432 - INFO - Citation data for article ID GqPl4-4AAAAJ:O3NaXMp0MMsC: , year: 2023, num of citation: {'2020': 6, '2021': 28, '2022': 30, '2023': 14}\n",
      "2025-01-21 15:38:06,432 - INFO - Citation data for article ID GqPl4-4AAAAJ:O3NaXMp0MMsC: , year: 2024, num of citation: {'2020': 6, '2021': 28, '2022': 30, '2023': 14, '2024': 3}\n",
      "2025-01-21 15:38:06,433 - INFO - Citation data for article ID GqPl4-4AAAAJ:O3NaXMp0MMsC: , year: 2025, num of citation: {'2020': 6, '2021': 28, '2022': 30, '2023': 14, '2024': 3, '2025': 1}\n",
      "2025-01-21 15:38:06,435 - INFO - Inserting citation data for article ID GqPl4-4AAAAJ:O3NaXMp0MMsC: year: 2020, num of citation: 6\n",
      "2025-01-21 15:38:06,436 - INFO - Inserting citation data for article ID GqPl4-4AAAAJ:O3NaXMp0MMsC: year: 2021, num of citation: 28\n",
      "2025-01-21 15:38:06,437 - INFO - Inserting citation data for article ID GqPl4-4AAAAJ:O3NaXMp0MMsC: year: 2022, num of citation: 30\n",
      "2025-01-21 15:38:06,438 - INFO - Inserting citation data for article ID GqPl4-4AAAAJ:O3NaXMp0MMsC: year: 2023, num of citation: 14\n",
      "2025-01-21 15:38:06,439 - INFO - Inserting citation data for article ID GqPl4-4AAAAJ:O3NaXMp0MMsC: year: 2024, num of citation: 3\n",
      "2025-01-21 15:38:06,440 - INFO - Inserting citation data for article ID GqPl4-4AAAAJ:O3NaXMp0MMsC: year: 2025, num of citation: 1\n",
      "2025-01-21 15:38:06,441 - INFO - Accessing article ID GqPl4-4AAAAJ:g5m5HwL7SMYC with URL /citations?view_op=view_citation&hl=en&user=GqPl4-4AAAAJ&citation_for_view=GqPl4-4AAAAJ:g5m5HwL7SMYC\n",
      "2025-01-21 15:38:09,024 - INFO - Getting citation data for article ID GqPl4-4AAAAJ:g5m5HwL7SMYC - URL: /citations?view_op=view_citation&hl=en&user=GqPl4-4AAAAJ&citation_for_view=GqPl4-4AAAAJ:g5m5HwL7SMYC\n",
      "2025-01-21 15:38:09,044 - INFO - Citation data for article ID GqPl4-4AAAAJ:g5m5HwL7SMYC: , year: 2020, num of citation: {'2020': 4}\n",
      "2025-01-21 15:38:09,045 - INFO - Citation data for article ID GqPl4-4AAAAJ:g5m5HwL7SMYC: , year: 2021, num of citation: {'2020': 4, '2021': 1}\n",
      "2025-01-21 15:38:09,045 - INFO - Citation data for article ID GqPl4-4AAAAJ:g5m5HwL7SMYC: , year: 2022, num of citation: {'2020': 4, '2021': 1, '2022': 4}\n",
      "2025-01-21 15:38:09,046 - INFO - Citation data for article ID GqPl4-4AAAAJ:g5m5HwL7SMYC: , year: 2023, num of citation: {'2020': 4, '2021': 1, '2022': 4, '2023': 3}\n",
      "2025-01-21 15:38:09,046 - INFO - Citation data for article ID GqPl4-4AAAAJ:g5m5HwL7SMYC: , year: 2024, num of citation: {'2020': 4, '2021': 1, '2022': 4, '2023': 3, '2024': 1}\n",
      "2025-01-21 15:38:09,048 - INFO - Inserting citation data for article ID GqPl4-4AAAAJ:g5m5HwL7SMYC: year: 2020, num of citation: 4\n",
      "2025-01-21 15:38:09,050 - INFO - Inserting citation data for article ID GqPl4-4AAAAJ:g5m5HwL7SMYC: year: 2021, num of citation: 1\n",
      "2025-01-21 15:38:09,051 - INFO - Inserting citation data for article ID GqPl4-4AAAAJ:g5m5HwL7SMYC: year: 2022, num of citation: 4\n",
      "2025-01-21 15:38:09,052 - INFO - Inserting citation data for article ID GqPl4-4AAAAJ:g5m5HwL7SMYC: year: 2023, num of citation: 3\n",
      "2025-01-21 15:38:09,054 - INFO - Inserting citation data for article ID GqPl4-4AAAAJ:g5m5HwL7SMYC: year: 2024, num of citation: 1\n",
      "2025-01-21 15:38:09,054 - INFO - Accessing article ID GqPl4-4AAAAJ:a0OBvERweLwC with URL /citations?view_op=view_citation&hl=en&user=GqPl4-4AAAAJ&citation_for_view=GqPl4-4AAAAJ:a0OBvERweLwC\n",
      "2025-01-21 15:38:11,408 - INFO - Getting citation data for article ID GqPl4-4AAAAJ:a0OBvERweLwC - URL: /citations?view_op=view_citation&hl=en&user=GqPl4-4AAAAJ&citation_for_view=GqPl4-4AAAAJ:a0OBvERweLwC\n",
      "2025-01-21 15:38:11,424 - INFO - Citation data for article ID GqPl4-4AAAAJ:a0OBvERweLwC: , year: 2023, num of citation: {'2023': 6}\n",
      "2025-01-21 15:38:11,425 - INFO - Citation data for article ID GqPl4-4AAAAJ:a0OBvERweLwC: , year: 2024, num of citation: {'2023': 6, '2024': 2}\n",
      "2025-01-21 15:38:11,426 - INFO - Inserting citation data for article ID GqPl4-4AAAAJ:a0OBvERweLwC: year: 2023, num of citation: 6\n",
      "2025-01-21 15:38:11,427 - INFO - Inserting citation data for article ID GqPl4-4AAAAJ:a0OBvERweLwC: year: 2024, num of citation: 2\n",
      "2025-01-21 15:38:11,428 - INFO - Accessing article ID GqPl4-4AAAAJ:zA6iFVUQeVQC with URL /citations?view_op=view_citation&hl=en&user=GqPl4-4AAAAJ&citation_for_view=GqPl4-4AAAAJ:zA6iFVUQeVQC\n",
      "2025-01-21 15:38:15,045 - INFO - Getting citation data for article ID GqPl4-4AAAAJ:zA6iFVUQeVQC - URL: /citations?view_op=view_citation&hl=en&user=GqPl4-4AAAAJ&citation_for_view=GqPl4-4AAAAJ:zA6iFVUQeVQC\n",
      "2025-01-21 15:38:15,064 - INFO - Citation data for article ID GqPl4-4AAAAJ:zA6iFVUQeVQC: , year: 2022, num of citation: {'2022': 4}\n",
      "2025-01-21 15:38:15,065 - INFO - Citation data for article ID GqPl4-4AAAAJ:zA6iFVUQeVQC: , year: 2023, num of citation: {'2022': 4, '2023': 2}\n",
      "2025-01-21 15:38:15,066 - INFO - Citation data for article ID GqPl4-4AAAAJ:zA6iFVUQeVQC: , year: 2024, num of citation: {'2022': 4, '2023': 2, '2024': 2}\n",
      "2025-01-21 15:38:15,068 - INFO - Inserting citation data for article ID GqPl4-4AAAAJ:zA6iFVUQeVQC: year: 2022, num of citation: 4\n",
      "2025-01-21 15:38:15,069 - INFO - Inserting citation data for article ID GqPl4-4AAAAJ:zA6iFVUQeVQC: year: 2023, num of citation: 2\n",
      "2025-01-21 15:38:15,070 - INFO - Inserting citation data for article ID GqPl4-4AAAAJ:zA6iFVUQeVQC: year: 2024, num of citation: 2\n",
      "2025-01-21 15:38:15,071 - INFO - Accessing article ID GqPl4-4AAAAJ:cFHS6HbyZ2cC with URL /citations?view_op=view_citation&hl=en&user=GqPl4-4AAAAJ&citation_for_view=GqPl4-4AAAAJ:cFHS6HbyZ2cC\n",
      "2025-01-21 15:38:17,472 - INFO - Getting citation data for article ID GqPl4-4AAAAJ:cFHS6HbyZ2cC - URL: /citations?view_op=view_citation&hl=en&user=GqPl4-4AAAAJ&citation_for_view=GqPl4-4AAAAJ:cFHS6HbyZ2cC\n",
      "2025-01-21 15:38:17,481 - INFO - Citation data for article ID GqPl4-4AAAAJ:cFHS6HbyZ2cC: , year: 2022, num of citation: {'2022': 6}\n",
      "2025-01-21 15:38:17,482 - INFO - Inserting citation data for article ID GqPl4-4AAAAJ:cFHS6HbyZ2cC: year: 2022, num of citation: 6\n",
      "2025-01-21 15:38:17,482 - INFO - Accessing article ID GqPl4-4AAAAJ:u_35RYKgDlwC with URL /citations?view_op=view_citation&hl=en&user=GqPl4-4AAAAJ&citation_for_view=GqPl4-4AAAAJ:u_35RYKgDlwC\n",
      "2025-01-21 15:38:19,919 - INFO - Getting citation data for article ID GqPl4-4AAAAJ:u_35RYKgDlwC - URL: /citations?view_op=view_citation&hl=en&user=GqPl4-4AAAAJ&citation_for_view=GqPl4-4AAAAJ:u_35RYKgDlwC\n",
      "2025-01-21 15:38:19,931 - INFO - Citation data for article ID GqPl4-4AAAAJ:u_35RYKgDlwC: , year: 2021, num of citation: {'2021': 5}\n",
      "2025-01-21 15:38:19,933 - INFO - Inserting citation data for article ID GqPl4-4AAAAJ:u_35RYKgDlwC: year: 2021, num of citation: 5\n",
      "2025-01-21 15:38:19,934 - INFO - Accessing article ID GqPl4-4AAAAJ:WbkHhVStYXYC with URL /citations?view_op=view_citation&hl=en&user=GqPl4-4AAAAJ&citation_for_view=GqPl4-4AAAAJ:WbkHhVStYXYC\n",
      "2025-01-21 15:38:24,550 - INFO - Getting citation data for article ID GqPl4-4AAAAJ:WbkHhVStYXYC - URL: /citations?view_op=view_citation&hl=en&user=GqPl4-4AAAAJ&citation_for_view=GqPl4-4AAAAJ:WbkHhVStYXYC\n",
      "2025-01-21 15:38:24,557 - INFO - Citation data for article ID GqPl4-4AAAAJ:WbkHhVStYXYC: , year: 2024, num of citation: {'2024': 4}\n",
      "2025-01-21 15:38:24,557 - INFO - Inserting citation data for article ID GqPl4-4AAAAJ:WbkHhVStYXYC: year: 2024, num of citation: 4\n",
      "2025-01-21 15:38:24,558 - INFO - Accessing article ID GqPl4-4AAAAJ:3s1wT3WcHBgC with URL /citations?view_op=view_citation&hl=en&user=GqPl4-4AAAAJ&citation_for_view=GqPl4-4AAAAJ:3s1wT3WcHBgC\n",
      "2025-01-21 15:38:26,944 - INFO - Getting citation data for article ID GqPl4-4AAAAJ:3s1wT3WcHBgC - URL: /citations?view_op=view_citation&hl=en&user=GqPl4-4AAAAJ&citation_for_view=GqPl4-4AAAAJ:3s1wT3WcHBgC\n",
      "2025-01-21 15:38:26,955 - INFO - Citation data for article ID GqPl4-4AAAAJ:3s1wT3WcHBgC: , year: 2023, num of citation: {'2023': 1}\n",
      "2025-01-21 15:38:26,956 - INFO - Citation data for article ID GqPl4-4AAAAJ:3s1wT3WcHBgC: , year: 2024, num of citation: {'2023': 1, '2024': 3}\n",
      "2025-01-21 15:38:26,957 - INFO - Inserting citation data for article ID GqPl4-4AAAAJ:3s1wT3WcHBgC: year: 2023, num of citation: 1\n",
      "2025-01-21 15:38:26,957 - INFO - Inserting citation data for article ID GqPl4-4AAAAJ:3s1wT3WcHBgC: year: 2024, num of citation: 3\n",
      "2025-01-21 15:38:26,958 - INFO - Accessing article ID GqPl4-4AAAAJ:SeFeTyx0c_EC with URL /citations?view_op=view_citation&hl=en&user=GqPl4-4AAAAJ&citation_for_view=GqPl4-4AAAAJ:SeFeTyx0c_EC\n",
      "2025-01-21 15:38:29,592 - INFO - Getting citation data for article ID GqPl4-4AAAAJ:SeFeTyx0c_EC - URL: /citations?view_op=view_citation&hl=en&user=GqPl4-4AAAAJ&citation_for_view=GqPl4-4AAAAJ:SeFeTyx0c_EC\n",
      "2025-01-21 15:38:29,606 - INFO - Citation data for article ID GqPl4-4AAAAJ:SeFeTyx0c_EC: , year: 2020, num of citation: {'2020': 1}\n",
      "2025-01-21 15:38:29,607 - INFO - Citation data for article ID GqPl4-4AAAAJ:SeFeTyx0c_EC: , year: 2021, num of citation: {'2020': 1, '2021': 1}\n",
      "2025-01-21 15:38:29,607 - INFO - Citation data for article ID GqPl4-4AAAAJ:SeFeTyx0c_EC: , year: 2022, num of citation: {'2020': 1, '2021': 1, '2022': 1}\n",
      "2025-01-21 15:38:29,608 - INFO - Citation data for article ID GqPl4-4AAAAJ:SeFeTyx0c_EC: , year: 2023, num of citation: {'2020': 1, '2021': 1, '2022': 1, '2023': 1}\n",
      "2025-01-21 15:38:29,609 - INFO - Inserting citation data for article ID GqPl4-4AAAAJ:SeFeTyx0c_EC: year: 2020, num of citation: 1\n",
      "2025-01-21 15:38:29,610 - INFO - Inserting citation data for article ID GqPl4-4AAAAJ:SeFeTyx0c_EC: year: 2021, num of citation: 1\n",
      "2025-01-21 15:38:29,611 - INFO - Inserting citation data for article ID GqPl4-4AAAAJ:SeFeTyx0c_EC: year: 2022, num of citation: 1\n",
      "2025-01-21 15:38:29,612 - INFO - Inserting citation data for article ID GqPl4-4AAAAJ:SeFeTyx0c_EC: year: 2023, num of citation: 1\n",
      "2025-01-21 15:38:29,612 - INFO - Accessing article ID GqPl4-4AAAAJ:CHSYGLWDkRkC with URL /citations?view_op=view_citation&hl=en&user=GqPl4-4AAAAJ&citation_for_view=GqPl4-4AAAAJ:CHSYGLWDkRkC\n",
      "2025-01-21 15:38:33,370 - INFO - Getting citation data for article ID GqPl4-4AAAAJ:CHSYGLWDkRkC - URL: /citations?view_op=view_citation&hl=en&user=GqPl4-4AAAAJ&citation_for_view=GqPl4-4AAAAJ:CHSYGLWDkRkC\n",
      "2025-01-21 15:38:33,387 - INFO - Citation data for article ID GqPl4-4AAAAJ:CHSYGLWDkRkC: , year: 2023, num of citation: {'2023': 1}\n",
      "2025-01-21 15:38:33,388 - INFO - Citation data for article ID GqPl4-4AAAAJ:CHSYGLWDkRkC: , year: 2024, num of citation: {'2023': 1, '2024': 2}\n",
      "2025-01-21 15:38:33,391 - INFO - Inserting citation data for article ID GqPl4-4AAAAJ:CHSYGLWDkRkC: year: 2023, num of citation: 1\n",
      "2025-01-21 15:38:33,392 - INFO - Inserting citation data for article ID GqPl4-4AAAAJ:CHSYGLWDkRkC: year: 2024, num of citation: 2\n",
      "2025-01-21 15:38:33,392 - INFO - Accessing article ID GqPl4-4AAAAJ:RYcK_YlVTxYC with URL /citations?view_op=view_citation&hl=en&user=GqPl4-4AAAAJ&citation_for_view=GqPl4-4AAAAJ:RYcK_YlVTxYC\n",
      "2025-01-21 15:38:38,146 - INFO - Getting citation data for article ID GqPl4-4AAAAJ:RYcK_YlVTxYC - URL: /citations?view_op=view_citation&hl=en&user=GqPl4-4AAAAJ&citation_for_view=GqPl4-4AAAAJ:RYcK_YlVTxYC\n",
      "2025-01-21 15:38:38,167 - INFO - Citation data for article ID GqPl4-4AAAAJ:RYcK_YlVTxYC: , year: 2018, num of citation: {'2018': 1}\n",
      "2025-01-21 15:38:38,168 - INFO - Citation data for article ID GqPl4-4AAAAJ:RYcK_YlVTxYC: , year: 2019, num of citation: {'2018': 1, '2019': 1}\n",
      "2025-01-21 15:38:38,169 - INFO - Citation data for article ID GqPl4-4AAAAJ:RYcK_YlVTxYC: , year: 2020, num of citation: {'2018': 1, '2019': 1, '2020': 1}\n",
      "2025-01-21 15:38:38,170 - INFO - Inserting citation data for article ID GqPl4-4AAAAJ:RYcK_YlVTxYC: year: 2018, num of citation: 1\n",
      "2025-01-21 15:38:38,171 - INFO - Inserting citation data for article ID GqPl4-4AAAAJ:RYcK_YlVTxYC: year: 2019, num of citation: 1\n",
      "2025-01-21 15:38:38,173 - INFO - Inserting citation data for article ID GqPl4-4AAAAJ:RYcK_YlVTxYC: year: 2020, num of citation: 1\n",
      "2025-01-21 15:38:38,174 - INFO - Accessing article ID GqPl4-4AAAAJ:lSLTfruPkqcC with URL /citations?view_op=view_citation&hl=en&user=GqPl4-4AAAAJ&citation_for_view=GqPl4-4AAAAJ:lSLTfruPkqcC\n",
      "2025-01-21 15:38:41,113 - INFO - Getting citation data for article ID GqPl4-4AAAAJ:lSLTfruPkqcC - URL: /citations?view_op=view_citation&hl=en&user=GqPl4-4AAAAJ&citation_for_view=GqPl4-4AAAAJ:lSLTfruPkqcC\n",
      "2025-01-21 15:38:41,119 - INFO - Citation data for article ID GqPl4-4AAAAJ:lSLTfruPkqcC: , year: 2020, num of citation: {'2020': 2}\n",
      "2025-01-21 15:38:41,120 - INFO - Inserting citation data for article ID GqPl4-4AAAAJ:lSLTfruPkqcC: year: 2020, num of citation: 2\n",
      "2025-01-21 15:38:41,121 - INFO - Accessing article ID GqPl4-4AAAAJ:nb7KW1ujOQ8C with URL /citations?view_op=view_citation&hl=en&user=GqPl4-4AAAAJ&citation_for_view=GqPl4-4AAAAJ:nb7KW1ujOQ8C\n",
      "2025-01-21 15:38:44,169 - INFO - Getting citation data for article ID GqPl4-4AAAAJ:nb7KW1ujOQ8C - URL: /citations?view_op=view_citation&hl=en&user=GqPl4-4AAAAJ&citation_for_view=GqPl4-4AAAAJ:nb7KW1ujOQ8C\n",
      "2025-01-21 15:38:44,191 - INFO - Citation data for article ID GqPl4-4AAAAJ:nb7KW1ujOQ8C: , year: 2024, num of citation: {'2024': 1}\n",
      "2025-01-21 15:38:44,193 - INFO - Inserting citation data for article ID GqPl4-4AAAAJ:nb7KW1ujOQ8C: year: 2024, num of citation: 1\n",
      "2025-01-21 15:38:44,194 - INFO - Accessing article ID GqPl4-4AAAAJ:NhqRSupF_l8C with URL /citations?view_op=view_citation&hl=en&user=GqPl4-4AAAAJ&citation_for_view=GqPl4-4AAAAJ:NhqRSupF_l8C\n",
      "2025-01-21 15:38:51,899 - INFO - Getting citation data for article ID GqPl4-4AAAAJ:NhqRSupF_l8C - URL: /citations?view_op=view_citation&hl=en&user=GqPl4-4AAAAJ&citation_for_view=GqPl4-4AAAAJ:NhqRSupF_l8C\n",
      "2025-01-21 15:38:51,913 - INFO - Citation data for article ID GqPl4-4AAAAJ:NhqRSupF_l8C: , year: 2024, num of citation: {'2024': 1}\n",
      "2025-01-21 15:38:51,914 - INFO - Inserting citation data for article ID GqPl4-4AAAAJ:NhqRSupF_l8C: year: 2024, num of citation: 1\n",
      "2025-01-21 15:38:51,914 - INFO - Accessing article ID GqPl4-4AAAAJ:dfsIfKJdRG4C with URL /citations?view_op=view_citation&hl=en&user=GqPl4-4AAAAJ&citation_for_view=GqPl4-4AAAAJ:dfsIfKJdRG4C\n",
      "2025-01-21 15:38:54,252 - INFO - Getting citation data for article ID GqPl4-4AAAAJ:dfsIfKJdRG4C - URL: /citations?view_op=view_citation&hl=en&user=GqPl4-4AAAAJ&citation_for_view=GqPl4-4AAAAJ:dfsIfKJdRG4C\n",
      "2025-01-21 15:38:54,267 - INFO - Citation data for article ID GqPl4-4AAAAJ:dfsIfKJdRG4C: , year: 2024, num of citation: {'2024': 1}\n",
      "2025-01-21 15:38:54,268 - INFO - Inserting citation data for article ID GqPl4-4AAAAJ:dfsIfKJdRG4C: year: 2024, num of citation: 1\n",
      "2025-01-21 15:38:54,268 - INFO - Accessing article ID GqPl4-4AAAAJ:rO6llkc54NcC with URL /citations?view_op=view_citation&hl=en&user=GqPl4-4AAAAJ&citation_for_view=GqPl4-4AAAAJ:rO6llkc54NcC\n",
      "2025-01-21 15:38:58,946 - INFO - Getting citation data for article ID GqPl4-4AAAAJ:rO6llkc54NcC - URL: /citations?view_op=view_citation&hl=en&user=GqPl4-4AAAAJ&citation_for_view=GqPl4-4AAAAJ:rO6llkc54NcC\n",
      "2025-01-21 15:38:58,960 - INFO - Citation data for article ID GqPl4-4AAAAJ:rO6llkc54NcC: , year: 2022, num of citation: {'2022': 1}\n",
      "2025-01-21 15:38:58,961 - INFO - Inserting citation data for article ID GqPl4-4AAAAJ:rO6llkc54NcC: year: 2022, num of citation: 1\n",
      "2025-01-21 15:38:58,962 - INFO - Accessing article ID GqPl4-4AAAAJ:M05iB0D1s5AC with URL /citations?view_op=view_citation&hl=en&user=GqPl4-4AAAAJ&citation_for_view=GqPl4-4AAAAJ:M05iB0D1s5AC\n",
      "2025-01-21 15:39:01,308 - INFO - Getting citation data for article ID GqPl4-4AAAAJ:M05iB0D1s5AC - URL: /citations?view_op=view_citation&hl=en&user=GqPl4-4AAAAJ&citation_for_view=GqPl4-4AAAAJ:M05iB0D1s5AC\n",
      "2025-01-21 15:39:01,317 - INFO - Citation data for article ID GqPl4-4AAAAJ:M05iB0D1s5AC: , year: 2022, num of citation: {'2022': 1}\n",
      "2025-01-21 15:39:01,318 - INFO - Inserting citation data for article ID GqPl4-4AAAAJ:M05iB0D1s5AC: year: 2022, num of citation: 1\n",
      "2025-01-21 15:39:01,319 - INFO - Accessing article ID GqPl4-4AAAAJ:pqnbT2bcN3wC with URL /citations?view_op=view_citation&hl=en&user=GqPl4-4AAAAJ&citation_for_view=GqPl4-4AAAAJ:pqnbT2bcN3wC\n",
      "2025-01-21 15:39:06,409 - INFO - Getting citation data for article ID GqPl4-4AAAAJ:pqnbT2bcN3wC - URL: /citations?view_op=view_citation&hl=en&user=GqPl4-4AAAAJ&citation_for_view=GqPl4-4AAAAJ:pqnbT2bcN3wC\n",
      "2025-01-21 15:39:06,425 - INFO - Citation data for article ID GqPl4-4AAAAJ:pqnbT2bcN3wC: , year: 2020, num of citation: {'2020': 1}\n",
      "2025-01-21 15:39:06,427 - INFO - Inserting citation data for article ID GqPl4-4AAAAJ:pqnbT2bcN3wC: year: 2020, num of citation: 1\n",
      "2025-01-21 15:39:06,428 - INFO - Accessing article ID GqPl4-4AAAAJ:35N4QoGY0k4C with URL /citations?view_op=view_citation&hl=en&user=GqPl4-4AAAAJ&citation_for_view=GqPl4-4AAAAJ:35N4QoGY0k4C\n",
      "2025-01-21 15:39:11,272 - INFO - Getting citation data for article ID GqPl4-4AAAAJ:35N4QoGY0k4C - URL: /citations?view_op=view_citation&hl=en&user=GqPl4-4AAAAJ&citation_for_view=GqPl4-4AAAAJ:35N4QoGY0k4C\n",
      "2025-01-21 15:39:11,288 - INFO - Citation data for article ID GqPl4-4AAAAJ:35N4QoGY0k4C: , year: 2018, num of citation: {'2018': 1}\n",
      "2025-01-21 15:39:11,289 - INFO - Inserting citation data for article ID GqPl4-4AAAAJ:35N4QoGY0k4C: year: 2018, num of citation: 1\n",
      "2025-01-21 15:39:11,290 - INFO - Accessing article ID GqPl4-4AAAAJ:u5HHmVD_uO8C with URL /citations?view_op=view_citation&hl=en&user=GqPl4-4AAAAJ&citation_for_view=GqPl4-4AAAAJ:u5HHmVD_uO8C\n",
      "2025-01-21 15:39:14,432 - INFO - Getting citation data for article ID GqPl4-4AAAAJ:u5HHmVD_uO8C - URL: /citations?view_op=view_citation&hl=en&user=GqPl4-4AAAAJ&citation_for_view=GqPl4-4AAAAJ:u5HHmVD_uO8C\n",
      "2025-01-21 15:39:14,449 - INFO - Citation data for article ID GqPl4-4AAAAJ:u5HHmVD_uO8C: , year: 2019, num of citation: {'2019': 1}\n",
      "2025-01-21 15:39:14,450 - INFO - Inserting citation data for article ID GqPl4-4AAAAJ:u5HHmVD_uO8C: year: 2019, num of citation: 1\n",
      "2025-01-21 15:39:14,451 - INFO - Accessing article ID GqPl4-4AAAAJ:vV6vV6tmYwMC with URL /citations?view_op=view_citation&hl=en&user=GqPl4-4AAAAJ&cstart=20&pagesize=80&citation_for_view=GqPl4-4AAAAJ:vV6vV6tmYwMC\n",
      "2025-01-21 15:39:18,138 - INFO - Getting citation data for article ID GqPl4-4AAAAJ:vV6vV6tmYwMC - URL: /citations?view_op=view_citation&hl=en&user=GqPl4-4AAAAJ&cstart=20&pagesize=80&citation_for_view=GqPl4-4AAAAJ:vV6vV6tmYwMC\n",
      "2025-01-21 15:39:18,150 - INFO - Citation data for article ID GqPl4-4AAAAJ:vV6vV6tmYwMC: , year: 2017, num of citation: {'2017': 1}\n",
      "2025-01-21 15:39:18,152 - INFO - Inserting citation data for article ID GqPl4-4AAAAJ:vV6vV6tmYwMC: year: 2017, num of citation: 1\n",
      "2025-01-21 15:39:18,152 - INFO - Accessing article ID GqPl4-4AAAAJ:J_g5lzvAfSwC with URL /citations?view_op=view_citation&hl=en&user=GqPl4-4AAAAJ&cstart=20&pagesize=80&citation_for_view=GqPl4-4AAAAJ:J_g5lzvAfSwC\n",
      "2025-01-21 15:39:20,493 - INFO - Getting citation data for article ID GqPl4-4AAAAJ:J_g5lzvAfSwC - URL: /citations?view_op=view_citation&hl=en&user=GqPl4-4AAAAJ&cstart=20&pagesize=80&citation_for_view=GqPl4-4AAAAJ:J_g5lzvAfSwC\n",
      "2025-01-21 15:39:20,501 - INFO - Citation data for article ID GqPl4-4AAAAJ:J_g5lzvAfSwC: , year: 2017, num of citation: {'2017': 1}\n",
      "2025-01-21 15:39:20,502 - INFO - Inserting citation data for article ID GqPl4-4AAAAJ:J_g5lzvAfSwC: year: 2017, num of citation: 1\n",
      "2025-01-21 15:39:20,503 - INFO - Accessing article ID GqPl4-4AAAAJ:tOudhMTPpwUC with URL /citations?view_op=view_citation&hl=en&user=GqPl4-4AAAAJ&cstart=20&pagesize=80&citation_for_view=GqPl4-4AAAAJ:tOudhMTPpwUC\n",
      "2025-01-21 15:39:22,845 - INFO - Getting citation data for article ID GqPl4-4AAAAJ:tOudhMTPpwUC - URL: /citations?view_op=view_citation&hl=en&user=GqPl4-4AAAAJ&cstart=20&pagesize=80&citation_for_view=GqPl4-4AAAAJ:tOudhMTPpwUC\n",
      "2025-01-21 15:39:22,854 - INFO - Accessing article ID GqPl4-4AAAAJ:l7t_Zn2s7bgC with URL /citations?view_op=view_citation&hl=en&user=GqPl4-4AAAAJ&cstart=20&pagesize=80&citation_for_view=GqPl4-4AAAAJ:l7t_Zn2s7bgC\n"
     ]
    },
    {
     "name": "stdout",
     "output_type": "stream",
     "text": [
      "No graph bars found for https://scholar.google.com/citations?view_op=view_citation&hl=en&user=GqPl4-4AAAAJ&cstart=20&pagesize=80&citation_for_view=GqPl4-4AAAAJ:tOudhMTPpwUC\n"
     ]
    },
    {
     "name": "stderr",
     "output_type": "stream",
     "text": [
      "2025-01-21 15:39:25,232 - INFO - Getting citation data for article ID GqPl4-4AAAAJ:l7t_Zn2s7bgC - URL: /citations?view_op=view_citation&hl=en&user=GqPl4-4AAAAJ&cstart=20&pagesize=80&citation_for_view=GqPl4-4AAAAJ:l7t_Zn2s7bgC\n",
      "2025-01-21 15:39:25,241 - INFO - Accessing article ID GqPl4-4AAAAJ:738O_yMBCRsC with URL /citations?view_op=view_citation&hl=en&user=GqPl4-4AAAAJ&cstart=20&pagesize=80&citation_for_view=GqPl4-4AAAAJ:738O_yMBCRsC\n"
     ]
    },
    {
     "name": "stdout",
     "output_type": "stream",
     "text": [
      "No graph bars found for https://scholar.google.com/citations?view_op=view_citation&hl=en&user=GqPl4-4AAAAJ&cstart=20&pagesize=80&citation_for_view=GqPl4-4AAAAJ:l7t_Zn2s7bgC\n"
     ]
    },
    {
     "name": "stderr",
     "output_type": "stream",
     "text": [
      "2025-01-21 15:39:27,607 - INFO - Getting citation data for article ID GqPl4-4AAAAJ:738O_yMBCRsC - URL: /citations?view_op=view_citation&hl=en&user=GqPl4-4AAAAJ&cstart=20&pagesize=80&citation_for_view=GqPl4-4AAAAJ:738O_yMBCRsC\n",
      "2025-01-21 15:39:27,620 - INFO - Accessing article ID GqPl4-4AAAAJ:Tiz5es2fbqcC with URL /citations?view_op=view_citation&hl=en&user=GqPl4-4AAAAJ&cstart=20&pagesize=80&citation_for_view=GqPl4-4AAAAJ:Tiz5es2fbqcC\n"
     ]
    },
    {
     "name": "stdout",
     "output_type": "stream",
     "text": [
      "No graph bars found for https://scholar.google.com/citations?view_op=view_citation&hl=en&user=GqPl4-4AAAAJ&cstart=20&pagesize=80&citation_for_view=GqPl4-4AAAAJ:738O_yMBCRsC\n"
     ]
    },
    {
     "name": "stderr",
     "output_type": "stream",
     "text": [
      "2025-01-21 15:39:30,077 - INFO - Getting citation data for article ID GqPl4-4AAAAJ:Tiz5es2fbqcC - URL: /citations?view_op=view_citation&hl=en&user=GqPl4-4AAAAJ&cstart=20&pagesize=80&citation_for_view=GqPl4-4AAAAJ:Tiz5es2fbqcC\n",
      "2025-01-21 15:39:30,085 - INFO - Accessing article ID GqPl4-4AAAAJ:XiSMed-E-HIC with URL /citations?view_op=view_citation&hl=en&user=GqPl4-4AAAAJ&cstart=20&pagesize=80&citation_for_view=GqPl4-4AAAAJ:XiSMed-E-HIC\n"
     ]
    },
    {
     "name": "stdout",
     "output_type": "stream",
     "text": [
      "No graph bars found for https://scholar.google.com/citations?view_op=view_citation&hl=en&user=GqPl4-4AAAAJ&cstart=20&pagesize=80&citation_for_view=GqPl4-4AAAAJ:Tiz5es2fbqcC\n"
     ]
    },
    {
     "name": "stderr",
     "output_type": "stream",
     "text": [
      "2025-01-21 15:39:32,670 - INFO - Getting citation data for article ID GqPl4-4AAAAJ:XiSMed-E-HIC - URL: /citations?view_op=view_citation&hl=en&user=GqPl4-4AAAAJ&cstart=20&pagesize=80&citation_for_view=GqPl4-4AAAAJ:XiSMed-E-HIC\n",
      "2025-01-21 15:39:32,689 - INFO - Accessing article ID GqPl4-4AAAAJ:u9iWguZQMMsC with URL /citations?view_op=view_citation&hl=en&user=GqPl4-4AAAAJ&cstart=20&pagesize=80&citation_for_view=GqPl4-4AAAAJ:u9iWguZQMMsC\n"
     ]
    },
    {
     "name": "stdout",
     "output_type": "stream",
     "text": [
      "No graph bars found for https://scholar.google.com/citations?view_op=view_citation&hl=en&user=GqPl4-4AAAAJ&cstart=20&pagesize=80&citation_for_view=GqPl4-4AAAAJ:XiSMed-E-HIC\n"
     ]
    },
    {
     "name": "stderr",
     "output_type": "stream",
     "text": [
      "2025-01-21 15:39:35,069 - INFO - Getting citation data for article ID GqPl4-4AAAAJ:u9iWguZQMMsC - URL: /citations?view_op=view_citation&hl=en&user=GqPl4-4AAAAJ&cstart=20&pagesize=80&citation_for_view=GqPl4-4AAAAJ:u9iWguZQMMsC\n",
      "2025-01-21 15:39:35,080 - INFO - Accessing article ID GqPl4-4AAAAJ:p2g8aNsByqUC with URL /citations?view_op=view_citation&hl=en&user=GqPl4-4AAAAJ&cstart=20&pagesize=80&citation_for_view=GqPl4-4AAAAJ:p2g8aNsByqUC\n"
     ]
    },
    {
     "name": "stdout",
     "output_type": "stream",
     "text": [
      "No graph bars found for https://scholar.google.com/citations?view_op=view_citation&hl=en&user=GqPl4-4AAAAJ&cstart=20&pagesize=80&citation_for_view=GqPl4-4AAAAJ:u9iWguZQMMsC\n"
     ]
    },
    {
     "name": "stderr",
     "output_type": "stream",
     "text": [
      "2025-01-21 15:39:37,407 - INFO - Getting citation data for article ID GqPl4-4AAAAJ:p2g8aNsByqUC - URL: /citations?view_op=view_citation&hl=en&user=GqPl4-4AAAAJ&cstart=20&pagesize=80&citation_for_view=GqPl4-4AAAAJ:p2g8aNsByqUC\n",
      "2025-01-21 15:39:37,417 - INFO - Accessing article ID GqPl4-4AAAAJ:uWQEDVKXjbEC with URL /citations?view_op=view_citation&hl=en&user=GqPl4-4AAAAJ&cstart=20&pagesize=80&citation_for_view=GqPl4-4AAAAJ:uWQEDVKXjbEC\n"
     ]
    },
    {
     "name": "stdout",
     "output_type": "stream",
     "text": [
      "No graph bars found for https://scholar.google.com/citations?view_op=view_citation&hl=en&user=GqPl4-4AAAAJ&cstart=20&pagesize=80&citation_for_view=GqPl4-4AAAAJ:p2g8aNsByqUC\n"
     ]
    },
    {
     "name": "stderr",
     "output_type": "stream",
     "text": [
      "2025-01-21 15:39:46,743 - INFO - Getting citation data for article ID GqPl4-4AAAAJ:uWQEDVKXjbEC - URL: /citations?view_op=view_citation&hl=en&user=GqPl4-4AAAAJ&cstart=20&pagesize=80&citation_for_view=GqPl4-4AAAAJ:uWQEDVKXjbEC\n",
      "2025-01-21 15:39:46,761 - INFO - Accessing article ID GqPl4-4AAAAJ:SP6oXDckpogC with URL /citations?view_op=view_citation&hl=en&user=GqPl4-4AAAAJ&cstart=20&pagesize=80&citation_for_view=GqPl4-4AAAAJ:SP6oXDckpogC\n"
     ]
    },
    {
     "name": "stdout",
     "output_type": "stream",
     "text": [
      "No graph bars found for https://scholar.google.com/citations?view_op=view_citation&hl=en&user=GqPl4-4AAAAJ&cstart=20&pagesize=80&citation_for_view=GqPl4-4AAAAJ:uWQEDVKXjbEC\n"
     ]
    },
    {
     "name": "stderr",
     "output_type": "stream",
     "text": [
      "2025-01-21 15:39:49,098 - INFO - Getting citation data for article ID GqPl4-4AAAAJ:SP6oXDckpogC - URL: /citations?view_op=view_citation&hl=en&user=GqPl4-4AAAAJ&cstart=20&pagesize=80&citation_for_view=GqPl4-4AAAAJ:SP6oXDckpogC\n",
      "2025-01-21 15:39:49,117 - INFO - Accessing article ID GqPl4-4AAAAJ:dshw04ExmUIC with URL /citations?view_op=view_citation&hl=en&user=GqPl4-4AAAAJ&cstart=20&pagesize=80&citation_for_view=GqPl4-4AAAAJ:dshw04ExmUIC\n"
     ]
    },
    {
     "name": "stdout",
     "output_type": "stream",
     "text": [
      "No graph bars found for https://scholar.google.com/citations?view_op=view_citation&hl=en&user=GqPl4-4AAAAJ&cstart=20&pagesize=80&citation_for_view=GqPl4-4AAAAJ:SP6oXDckpogC\n"
     ]
    },
    {
     "name": "stderr",
     "output_type": "stream",
     "text": [
      "2025-01-21 15:39:52,755 - INFO - Getting citation data for article ID GqPl4-4AAAAJ:dshw04ExmUIC - URL: /citations?view_op=view_citation&hl=en&user=GqPl4-4AAAAJ&cstart=20&pagesize=80&citation_for_view=GqPl4-4AAAAJ:dshw04ExmUIC\n",
      "2025-01-21 15:39:52,774 - INFO - Accessing article ID GqPl4-4AAAAJ:KxtntwgDAa4C with URL /citations?view_op=view_citation&hl=en&user=GqPl4-4AAAAJ&cstart=20&pagesize=80&citation_for_view=GqPl4-4AAAAJ:KxtntwgDAa4C\n"
     ]
    },
    {
     "name": "stdout",
     "output_type": "stream",
     "text": [
      "No graph bars found for https://scholar.google.com/citations?view_op=view_citation&hl=en&user=GqPl4-4AAAAJ&cstart=20&pagesize=80&citation_for_view=GqPl4-4AAAAJ:dshw04ExmUIC\n"
     ]
    },
    {
     "name": "stderr",
     "output_type": "stream",
     "text": [
      "2025-01-21 15:39:56,142 - INFO - Getting citation data for article ID GqPl4-4AAAAJ:KxtntwgDAa4C - URL: /citations?view_op=view_citation&hl=en&user=GqPl4-4AAAAJ&cstart=20&pagesize=80&citation_for_view=GqPl4-4AAAAJ:KxtntwgDAa4C\n",
      "2025-01-21 15:39:56,176 - INFO - Accessing article ID GqPl4-4AAAAJ:P5F9QuxV20EC with URL /citations?view_op=view_citation&hl=en&user=GqPl4-4AAAAJ&cstart=20&pagesize=80&citation_for_view=GqPl4-4AAAAJ:P5F9QuxV20EC\n"
     ]
    },
    {
     "name": "stdout",
     "output_type": "stream",
     "text": [
      "No graph bars found for https://scholar.google.com/citations?view_op=view_citation&hl=en&user=GqPl4-4AAAAJ&cstart=20&pagesize=80&citation_for_view=GqPl4-4AAAAJ:KxtntwgDAa4C\n"
     ]
    },
    {
     "name": "stderr",
     "output_type": "stream",
     "text": [
      "2025-01-21 15:39:58,875 - INFO - Getting citation data for article ID GqPl4-4AAAAJ:P5F9QuxV20EC - URL: /citations?view_op=view_citation&hl=en&user=GqPl4-4AAAAJ&cstart=20&pagesize=80&citation_for_view=GqPl4-4AAAAJ:P5F9QuxV20EC\n",
      "2025-01-21 15:39:58,893 - INFO - Accessing article ID GqPl4-4AAAAJ:1sJd4Hv_s6UC with URL /citations?view_op=view_citation&hl=en&user=GqPl4-4AAAAJ&cstart=20&pagesize=80&citation_for_view=GqPl4-4AAAAJ:1sJd4Hv_s6UC\n"
     ]
    },
    {
     "name": "stdout",
     "output_type": "stream",
     "text": [
      "No graph bars found for https://scholar.google.com/citations?view_op=view_citation&hl=en&user=GqPl4-4AAAAJ&cstart=20&pagesize=80&citation_for_view=GqPl4-4AAAAJ:P5F9QuxV20EC\n"
     ]
    },
    {
     "name": "stderr",
     "output_type": "stream",
     "text": [
      "2025-01-21 15:40:01,264 - INFO - Getting citation data for article ID GqPl4-4AAAAJ:1sJd4Hv_s6UC - URL: /citations?view_op=view_citation&hl=en&user=GqPl4-4AAAAJ&cstart=20&pagesize=80&citation_for_view=GqPl4-4AAAAJ:1sJd4Hv_s6UC\n",
      "2025-01-21 15:40:01,286 - INFO - Accessing article ID GqPl4-4AAAAJ:K3LRdlH-MEoC with URL /citations?view_op=view_citation&hl=en&user=GqPl4-4AAAAJ&cstart=20&pagesize=80&citation_for_view=GqPl4-4AAAAJ:K3LRdlH-MEoC\n"
     ]
    },
    {
     "name": "stdout",
     "output_type": "stream",
     "text": [
      "No graph bars found for https://scholar.google.com/citations?view_op=view_citation&hl=en&user=GqPl4-4AAAAJ&cstart=20&pagesize=80&citation_for_view=GqPl4-4AAAAJ:1sJd4Hv_s6UC\n"
     ]
    },
    {
     "name": "stderr",
     "output_type": "stream",
     "text": [
      "2025-01-21 15:40:03,783 - INFO - Getting citation data for article ID GqPl4-4AAAAJ:K3LRdlH-MEoC - URL: /citations?view_op=view_citation&hl=en&user=GqPl4-4AAAAJ&cstart=20&pagesize=80&citation_for_view=GqPl4-4AAAAJ:K3LRdlH-MEoC\n",
      "2025-01-21 15:40:03,802 - INFO - Accessing article ID GqPl4-4AAAAJ:UxriW0iASnsC with URL /citations?view_op=view_citation&hl=en&user=GqPl4-4AAAAJ&cstart=20&pagesize=80&citation_for_view=GqPl4-4AAAAJ:UxriW0iASnsC\n"
     ]
    },
    {
     "name": "stdout",
     "output_type": "stream",
     "text": [
      "No graph bars found for https://scholar.google.com/citations?view_op=view_citation&hl=en&user=GqPl4-4AAAAJ&cstart=20&pagesize=80&citation_for_view=GqPl4-4AAAAJ:K3LRdlH-MEoC\n"
     ]
    },
    {
     "name": "stderr",
     "output_type": "stream",
     "text": [
      "2025-01-21 15:40:06,144 - INFO - Getting citation data for article ID GqPl4-4AAAAJ:UxriW0iASnsC - URL: /citations?view_op=view_citation&hl=en&user=GqPl4-4AAAAJ&cstart=20&pagesize=80&citation_for_view=GqPl4-4AAAAJ:UxriW0iASnsC\n",
      "2025-01-21 15:40:06,165 - INFO - Accessing article ID GqPl4-4AAAAJ:abG-DnoFyZgC with URL /citations?view_op=view_citation&hl=en&user=GqPl4-4AAAAJ&cstart=20&pagesize=80&citation_for_view=GqPl4-4AAAAJ:abG-DnoFyZgC\n"
     ]
    },
    {
     "name": "stdout",
     "output_type": "stream",
     "text": [
      "No graph bars found for https://scholar.google.com/citations?view_op=view_citation&hl=en&user=GqPl4-4AAAAJ&cstart=20&pagesize=80&citation_for_view=GqPl4-4AAAAJ:UxriW0iASnsC\n"
     ]
    },
    {
     "name": "stderr",
     "output_type": "stream",
     "text": [
      "2025-01-21 15:40:09,067 - INFO - Getting citation data for article ID GqPl4-4AAAAJ:abG-DnoFyZgC - URL: /citations?view_op=view_citation&hl=en&user=GqPl4-4AAAAJ&cstart=20&pagesize=80&citation_for_view=GqPl4-4AAAAJ:abG-DnoFyZgC\n",
      "2025-01-21 15:40:09,089 - INFO - Accessing article ID GqPl4-4AAAAJ:b0M2c_1WBrUC with URL /citations?view_op=view_citation&hl=en&user=GqPl4-4AAAAJ&cstart=20&pagesize=80&citation_for_view=GqPl4-4AAAAJ:b0M2c_1WBrUC\n"
     ]
    },
    {
     "name": "stdout",
     "output_type": "stream",
     "text": [
      "No graph bars found for https://scholar.google.com/citations?view_op=view_citation&hl=en&user=GqPl4-4AAAAJ&cstart=20&pagesize=80&citation_for_view=GqPl4-4AAAAJ:abG-DnoFyZgC\n"
     ]
    },
    {
     "name": "stderr",
     "output_type": "stream",
     "text": [
      "2025-01-21 15:40:13,067 - INFO - Getting citation data for article ID GqPl4-4AAAAJ:b0M2c_1WBrUC - URL: /citations?view_op=view_citation&hl=en&user=GqPl4-4AAAAJ&cstart=20&pagesize=80&citation_for_view=GqPl4-4AAAAJ:b0M2c_1WBrUC\n",
      "2025-01-21 15:40:13,087 - INFO - Accessing article ID GqPl4-4AAAAJ:EUQCXRtRnyEC with URL /citations?view_op=view_citation&hl=en&user=GqPl4-4AAAAJ&cstart=20&pagesize=80&citation_for_view=GqPl4-4AAAAJ:EUQCXRtRnyEC\n"
     ]
    },
    {
     "name": "stdout",
     "output_type": "stream",
     "text": [
      "No graph bars found for https://scholar.google.com/citations?view_op=view_citation&hl=en&user=GqPl4-4AAAAJ&cstart=20&pagesize=80&citation_for_view=GqPl4-4AAAAJ:b0M2c_1WBrUC\n"
     ]
    },
    {
     "name": "stderr",
     "output_type": "stream",
     "text": [
      "2025-01-21 15:40:16,625 - INFO - Getting citation data for article ID GqPl4-4AAAAJ:EUQCXRtRnyEC - URL: /citations?view_op=view_citation&hl=en&user=GqPl4-4AAAAJ&cstart=20&pagesize=80&citation_for_view=GqPl4-4AAAAJ:EUQCXRtRnyEC\n",
      "2025-01-21 15:40:16,644 - INFO - Accessing article ID GqPl4-4AAAAJ:_xSYboBqXhAC with URL /citations?view_op=view_citation&hl=en&user=GqPl4-4AAAAJ&cstart=20&pagesize=80&citation_for_view=GqPl4-4AAAAJ:_xSYboBqXhAC\n"
     ]
    },
    {
     "name": "stdout",
     "output_type": "stream",
     "text": [
      "No graph bars found for https://scholar.google.com/citations?view_op=view_citation&hl=en&user=GqPl4-4AAAAJ&cstart=20&pagesize=80&citation_for_view=GqPl4-4AAAAJ:EUQCXRtRnyEC\n"
     ]
    },
    {
     "name": "stderr",
     "output_type": "stream",
     "text": [
      "2025-01-21 15:40:19,315 - INFO - Getting citation data for article ID GqPl4-4AAAAJ:_xSYboBqXhAC - URL: /citations?view_op=view_citation&hl=en&user=GqPl4-4AAAAJ&cstart=20&pagesize=80&citation_for_view=GqPl4-4AAAAJ:_xSYboBqXhAC\n",
      "2025-01-21 15:40:19,334 - INFO - Accessing article ID GqPl4-4AAAAJ:bFI3QPDXJZMC with URL /citations?view_op=view_citation&hl=en&user=GqPl4-4AAAAJ&cstart=20&pagesize=80&citation_for_view=GqPl4-4AAAAJ:bFI3QPDXJZMC\n"
     ]
    },
    {
     "name": "stdout",
     "output_type": "stream",
     "text": [
      "No graph bars found for https://scholar.google.com/citations?view_op=view_citation&hl=en&user=GqPl4-4AAAAJ&cstart=20&pagesize=80&citation_for_view=GqPl4-4AAAAJ:_xSYboBqXhAC\n"
     ]
    },
    {
     "name": "stderr",
     "output_type": "stream",
     "text": [
      "2025-01-21 15:40:23,642 - INFO - Getting citation data for article ID GqPl4-4AAAAJ:bFI3QPDXJZMC - URL: /citations?view_op=view_citation&hl=en&user=GqPl4-4AAAAJ&cstart=20&pagesize=80&citation_for_view=GqPl4-4AAAAJ:bFI3QPDXJZMC\n",
      "2025-01-21 15:40:23,661 - INFO - Accessing article ID GqPl4-4AAAAJ:f2IySw72cVMC with URL /citations?view_op=view_citation&hl=en&user=GqPl4-4AAAAJ&cstart=20&pagesize=80&citation_for_view=GqPl4-4AAAAJ:f2IySw72cVMC\n"
     ]
    },
    {
     "name": "stdout",
     "output_type": "stream",
     "text": [
      "No graph bars found for https://scholar.google.com/citations?view_op=view_citation&hl=en&user=GqPl4-4AAAAJ&cstart=20&pagesize=80&citation_for_view=GqPl4-4AAAAJ:bFI3QPDXJZMC\n"
     ]
    },
    {
     "name": "stderr",
     "output_type": "stream",
     "text": [
      "2025-01-21 15:40:26,336 - INFO - Getting citation data for article ID GqPl4-4AAAAJ:f2IySw72cVMC - URL: /citations?view_op=view_citation&hl=en&user=GqPl4-4AAAAJ&cstart=20&pagesize=80&citation_for_view=GqPl4-4AAAAJ:f2IySw72cVMC\n",
      "2025-01-21 15:40:26,355 - INFO - Accessing article ID GqPl4-4AAAAJ:pyW8ca7W8N0C with URL /citations?view_op=view_citation&hl=en&user=GqPl4-4AAAAJ&cstart=20&pagesize=80&citation_for_view=GqPl4-4AAAAJ:pyW8ca7W8N0C\n"
     ]
    },
    {
     "name": "stdout",
     "output_type": "stream",
     "text": [
      "No graph bars found for https://scholar.google.com/citations?view_op=view_citation&hl=en&user=GqPl4-4AAAAJ&cstart=20&pagesize=80&citation_for_view=GqPl4-4AAAAJ:f2IySw72cVMC\n"
     ]
    },
    {
     "name": "stderr",
     "output_type": "stream",
     "text": [
      "2025-01-21 15:40:28,748 - INFO - Getting citation data for article ID GqPl4-4AAAAJ:pyW8ca7W8N0C - URL: /citations?view_op=view_citation&hl=en&user=GqPl4-4AAAAJ&cstart=20&pagesize=80&citation_for_view=GqPl4-4AAAAJ:pyW8ca7W8N0C\n",
      "2025-01-21 15:40:28,764 - INFO - Accessing article ID GqPl4-4AAAAJ:D03iK_w7-QYC with URL /citations?view_op=view_citation&hl=en&user=GqPl4-4AAAAJ&cstart=20&pagesize=80&citation_for_view=GqPl4-4AAAAJ:D03iK_w7-QYC\n"
     ]
    },
    {
     "name": "stdout",
     "output_type": "stream",
     "text": [
      "No graph bars found for https://scholar.google.com/citations?view_op=view_citation&hl=en&user=GqPl4-4AAAAJ&cstart=20&pagesize=80&citation_for_view=GqPl4-4AAAAJ:pyW8ca7W8N0C\n"
     ]
    },
    {
     "name": "stderr",
     "output_type": "stream",
     "text": [
      "2025-01-21 15:40:31,519 - INFO - Getting citation data for article ID GqPl4-4AAAAJ:D03iK_w7-QYC - URL: /citations?view_op=view_citation&hl=en&user=GqPl4-4AAAAJ&cstart=20&pagesize=80&citation_for_view=GqPl4-4AAAAJ:D03iK_w7-QYC\n",
      "2025-01-21 15:40:31,537 - INFO - Accessing article ID GqPl4-4AAAAJ:OU6Ihb5iCvQC with URL /citations?view_op=view_citation&hl=en&user=GqPl4-4AAAAJ&cstart=20&pagesize=80&citation_for_view=GqPl4-4AAAAJ:OU6Ihb5iCvQC\n"
     ]
    },
    {
     "name": "stdout",
     "output_type": "stream",
     "text": [
      "No graph bars found for https://scholar.google.com/citations?view_op=view_citation&hl=en&user=GqPl4-4AAAAJ&cstart=20&pagesize=80&citation_for_view=GqPl4-4AAAAJ:D03iK_w7-QYC\n"
     ]
    },
    {
     "name": "stderr",
     "output_type": "stream",
     "text": [
      "2025-01-21 15:40:35,280 - INFO - Getting citation data for article ID GqPl4-4AAAAJ:OU6Ihb5iCvQC - URL: /citations?view_op=view_citation&hl=en&user=GqPl4-4AAAAJ&cstart=20&pagesize=80&citation_for_view=GqPl4-4AAAAJ:OU6Ihb5iCvQC\n",
      "2025-01-21 15:40:35,300 - INFO - Accessing article ID GqPl4-4AAAAJ:4OULZ7Gr8RgC with URL /citations?view_op=view_citation&hl=en&user=GqPl4-4AAAAJ&cstart=20&pagesize=80&citation_for_view=GqPl4-4AAAAJ:4OULZ7Gr8RgC\n"
     ]
    },
    {
     "name": "stdout",
     "output_type": "stream",
     "text": [
      "No graph bars found for https://scholar.google.com/citations?view_op=view_citation&hl=en&user=GqPl4-4AAAAJ&cstart=20&pagesize=80&citation_for_view=GqPl4-4AAAAJ:OU6Ihb5iCvQC\n"
     ]
    },
    {
     "name": "stderr",
     "output_type": "stream",
     "text": [
      "2025-01-21 15:40:38,300 - INFO - Getting citation data for article ID GqPl4-4AAAAJ:4OULZ7Gr8RgC - URL: /citations?view_op=view_citation&hl=en&user=GqPl4-4AAAAJ&cstart=20&pagesize=80&citation_for_view=GqPl4-4AAAAJ:4OULZ7Gr8RgC\n",
      "2025-01-21 15:40:38,322 - INFO - Accessing article ID GqPl4-4AAAAJ:fPk4N6BV_jEC with URL /citations?view_op=view_citation&hl=en&user=GqPl4-4AAAAJ&cstart=20&pagesize=80&citation_for_view=GqPl4-4AAAAJ:fPk4N6BV_jEC\n"
     ]
    },
    {
     "name": "stdout",
     "output_type": "stream",
     "text": [
      "No graph bars found for https://scholar.google.com/citations?view_op=view_citation&hl=en&user=GqPl4-4AAAAJ&cstart=20&pagesize=80&citation_for_view=GqPl4-4AAAAJ:4OULZ7Gr8RgC\n"
     ]
    },
    {
     "name": "stderr",
     "output_type": "stream",
     "text": [
      "2025-01-21 15:40:40,679 - INFO - Getting citation data for article ID GqPl4-4AAAAJ:fPk4N6BV_jEC - URL: /citations?view_op=view_citation&hl=en&user=GqPl4-4AAAAJ&cstart=20&pagesize=80&citation_for_view=GqPl4-4AAAAJ:fPk4N6BV_jEC\n",
      "2025-01-21 15:40:40,697 - INFO - Accessing article ID GqPl4-4AAAAJ:yD5IFk8b50cC with URL /citations?view_op=view_citation&hl=en&user=GqPl4-4AAAAJ&cstart=20&pagesize=80&citation_for_view=GqPl4-4AAAAJ:yD5IFk8b50cC\n"
     ]
    },
    {
     "name": "stdout",
     "output_type": "stream",
     "text": [
      "No graph bars found for https://scholar.google.com/citations?view_op=view_citation&hl=en&user=GqPl4-4AAAAJ&cstart=20&pagesize=80&citation_for_view=GqPl4-4AAAAJ:fPk4N6BV_jEC\n"
     ]
    },
    {
     "name": "stderr",
     "output_type": "stream",
     "text": [
      "2025-01-21 15:40:43,477 - INFO - Getting citation data for article ID GqPl4-4AAAAJ:yD5IFk8b50cC - URL: /citations?view_op=view_citation&hl=en&user=GqPl4-4AAAAJ&cstart=20&pagesize=80&citation_for_view=GqPl4-4AAAAJ:yD5IFk8b50cC\n",
      "2025-01-21 15:40:43,490 - INFO - Accessing article ID GqPl4-4AAAAJ:xtRiw3GOFMkC with URL /citations?view_op=view_citation&hl=en&user=GqPl4-4AAAAJ&cstart=20&pagesize=80&citation_for_view=GqPl4-4AAAAJ:xtRiw3GOFMkC\n"
     ]
    },
    {
     "name": "stdout",
     "output_type": "stream",
     "text": [
      "No graph bars found for https://scholar.google.com/citations?view_op=view_citation&hl=en&user=GqPl4-4AAAAJ&cstart=20&pagesize=80&citation_for_view=GqPl4-4AAAAJ:yD5IFk8b50cC\n"
     ]
    },
    {
     "name": "stderr",
     "output_type": "stream",
     "text": [
      "2025-01-21 15:40:47,097 - INFO - Getting citation data for article ID GqPl4-4AAAAJ:xtRiw3GOFMkC - URL: /citations?view_op=view_citation&hl=en&user=GqPl4-4AAAAJ&cstart=20&pagesize=80&citation_for_view=GqPl4-4AAAAJ:xtRiw3GOFMkC\n",
      "2025-01-21 15:40:47,115 - INFO - Accessing article ID GqPl4-4AAAAJ:ldfaerwXgEUC with URL /citations?view_op=view_citation&hl=en&user=GqPl4-4AAAAJ&cstart=20&pagesize=80&citation_for_view=GqPl4-4AAAAJ:ldfaerwXgEUC\n"
     ]
    },
    {
     "name": "stdout",
     "output_type": "stream",
     "text": [
      "No graph bars found for https://scholar.google.com/citations?view_op=view_citation&hl=en&user=GqPl4-4AAAAJ&cstart=20&pagesize=80&citation_for_view=GqPl4-4AAAAJ:xtRiw3GOFMkC\n"
     ]
    },
    {
     "name": "stderr",
     "output_type": "stream",
     "text": [
      "2025-01-21 15:40:50,225 - INFO - Getting citation data for article ID GqPl4-4AAAAJ:ldfaerwXgEUC - URL: /citations?view_op=view_citation&hl=en&user=GqPl4-4AAAAJ&cstart=20&pagesize=80&citation_for_view=GqPl4-4AAAAJ:ldfaerwXgEUC\n",
      "2025-01-21 15:40:50,244 - INFO - Accessing article ID GqPl4-4AAAAJ:RGFaLdJalmkC with URL /citations?view_op=view_citation&hl=en&user=GqPl4-4AAAAJ&cstart=20&pagesize=80&citation_for_view=GqPl4-4AAAAJ:RGFaLdJalmkC\n"
     ]
    },
    {
     "name": "stdout",
     "output_type": "stream",
     "text": [
      "No graph bars found for https://scholar.google.com/citations?view_op=view_citation&hl=en&user=GqPl4-4AAAAJ&cstart=20&pagesize=80&citation_for_view=GqPl4-4AAAAJ:ldfaerwXgEUC\n"
     ]
    },
    {
     "name": "stderr",
     "output_type": "stream",
     "text": [
      "2025-01-21 15:40:56,078 - INFO - Getting citation data for article ID GqPl4-4AAAAJ:RGFaLdJalmkC - URL: /citations?view_op=view_citation&hl=en&user=GqPl4-4AAAAJ&cstart=20&pagesize=80&citation_for_view=GqPl4-4AAAAJ:RGFaLdJalmkC\n",
      "2025-01-21 15:40:56,097 - INFO - Accessing article ID GqPl4-4AAAAJ:70eg2SAEIzsC with URL /citations?view_op=view_citation&hl=en&user=GqPl4-4AAAAJ&cstart=20&pagesize=80&citation_for_view=GqPl4-4AAAAJ:70eg2SAEIzsC\n"
     ]
    },
    {
     "name": "stdout",
     "output_type": "stream",
     "text": [
      "No graph bars found for https://scholar.google.com/citations?view_op=view_citation&hl=en&user=GqPl4-4AAAAJ&cstart=20&pagesize=80&citation_for_view=GqPl4-4AAAAJ:RGFaLdJalmkC\n"
     ]
    },
    {
     "name": "stderr",
     "output_type": "stream",
     "text": [
      "2025-01-21 15:40:58,435 - INFO - Getting citation data for article ID GqPl4-4AAAAJ:70eg2SAEIzsC - URL: /citations?view_op=view_citation&hl=en&user=GqPl4-4AAAAJ&cstart=20&pagesize=80&citation_for_view=GqPl4-4AAAAJ:70eg2SAEIzsC\n",
      "2025-01-21 15:40:58,447 - INFO - Accessing article ID GqPl4-4AAAAJ:ns9cj8rnVeAC with URL /citations?view_op=view_citation&hl=en&user=GqPl4-4AAAAJ&cstart=20&pagesize=80&citation_for_view=GqPl4-4AAAAJ:ns9cj8rnVeAC\n"
     ]
    },
    {
     "name": "stdout",
     "output_type": "stream",
     "text": [
      "No graph bars found for https://scholar.google.com/citations?view_op=view_citation&hl=en&user=GqPl4-4AAAAJ&cstart=20&pagesize=80&citation_for_view=GqPl4-4AAAAJ:70eg2SAEIzsC\n"
     ]
    },
    {
     "name": "stderr",
     "output_type": "stream",
     "text": [
      "2025-01-21 15:41:01,925 - INFO - Getting citation data for article ID GqPl4-4AAAAJ:ns9cj8rnVeAC - URL: /citations?view_op=view_citation&hl=en&user=GqPl4-4AAAAJ&cstart=20&pagesize=80&citation_for_view=GqPl4-4AAAAJ:ns9cj8rnVeAC\n",
      "2025-01-21 15:41:01,944 - INFO - Accessing article ID Ztn650AAAAAJ:YsMSGLbcyi4C with URL /citations?view_op=view_citation&hl=en&user=Ztn650AAAAAJ&citation_for_view=Ztn650AAAAAJ:YsMSGLbcyi4C\n"
     ]
    },
    {
     "name": "stdout",
     "output_type": "stream",
     "text": [
      "No graph bars found for https://scholar.google.com/citations?view_op=view_citation&hl=en&user=GqPl4-4AAAAJ&cstart=20&pagesize=80&citation_for_view=GqPl4-4AAAAJ:ns9cj8rnVeAC\n"
     ]
    },
    {
     "name": "stderr",
     "output_type": "stream",
     "text": [
      "2025-01-21 15:41:08,979 - INFO - Getting citation data for article ID Ztn650AAAAAJ:YsMSGLbcyi4C - URL: /citations?view_op=view_citation&hl=en&user=Ztn650AAAAAJ&citation_for_view=Ztn650AAAAAJ:YsMSGLbcyi4C\n",
      "2025-01-21 15:41:08,998 - INFO - Citation data for article ID Ztn650AAAAAJ:YsMSGLbcyi4C: , year: 2022, num of citation: {'2022': 6}\n",
      "2025-01-21 15:41:08,999 - INFO - Citation data for article ID Ztn650AAAAAJ:YsMSGLbcyi4C: , year: 2023, num of citation: {'2022': 6, '2023': 4}\n",
      "2025-01-21 15:41:09,000 - INFO - Citation data for article ID Ztn650AAAAAJ:YsMSGLbcyi4C: , year: 2024, num of citation: {'2022': 6, '2023': 4, '2024': 5}\n",
      "2025-01-21 15:41:09,001 - INFO - Inserting citation data for article ID Ztn650AAAAAJ:YsMSGLbcyi4C: year: 2022, num of citation: 6\n",
      "2025-01-21 15:41:09,002 - INFO - Inserting citation data for article ID Ztn650AAAAAJ:YsMSGLbcyi4C: year: 2023, num of citation: 4\n",
      "2025-01-21 15:41:09,004 - INFO - Inserting citation data for article ID Ztn650AAAAAJ:YsMSGLbcyi4C: year: 2024, num of citation: 5\n",
      "2025-01-21 15:41:09,004 - INFO - Accessing article ID Ztn650AAAAAJ:qjMakFHDy7sC with URL /citations?view_op=view_citation&hl=en&user=Ztn650AAAAAJ&citation_for_view=Ztn650AAAAAJ:qjMakFHDy7sC\n",
      "2025-01-21 15:41:11,624 - INFO - Getting citation data for article ID Ztn650AAAAAJ:qjMakFHDy7sC - URL: /citations?view_op=view_citation&hl=en&user=Ztn650AAAAAJ&citation_for_view=Ztn650AAAAAJ:qjMakFHDy7sC\n",
      "2025-01-21 15:41:11,644 - INFO - Citation data for article ID Ztn650AAAAAJ:qjMakFHDy7sC: , year: 2021, num of citation: {'2021': 4}\n",
      "2025-01-21 15:41:11,646 - INFO - Citation data for article ID Ztn650AAAAAJ:qjMakFHDy7sC: , year: 2022, num of citation: {'2021': 4, '2022': 3}\n",
      "2025-01-21 15:41:11,646 - INFO - Citation data for article ID Ztn650AAAAAJ:qjMakFHDy7sC: , year: 2023, num of citation: {'2021': 4, '2022': 3, '2023': 2}\n",
      "2025-01-21 15:41:11,647 - INFO - Citation data for article ID Ztn650AAAAAJ:qjMakFHDy7sC: , year: 2024, num of citation: {'2021': 4, '2022': 3, '2023': 2, '2024': 1}\n",
      "2025-01-21 15:41:11,648 - INFO - Inserting citation data for article ID Ztn650AAAAAJ:qjMakFHDy7sC: year: 2021, num of citation: 4\n",
      "2025-01-21 15:41:11,649 - INFO - Inserting citation data for article ID Ztn650AAAAAJ:qjMakFHDy7sC: year: 2022, num of citation: 3\n",
      "2025-01-21 15:41:11,651 - INFO - Inserting citation data for article ID Ztn650AAAAAJ:qjMakFHDy7sC: year: 2023, num of citation: 2\n",
      "2025-01-21 15:41:11,651 - INFO - Inserting citation data for article ID Ztn650AAAAAJ:qjMakFHDy7sC: year: 2024, num of citation: 1\n",
      "2025-01-21 15:41:11,653 - INFO - Accessing article ID Ztn650AAAAAJ:eQOLeE2rZwMC with URL /citations?view_op=view_citation&hl=en&user=Ztn650AAAAAJ&citation_for_view=Ztn650AAAAAJ:eQOLeE2rZwMC\n",
      "2025-01-21 15:41:23,095 - INFO - Getting citation data for article ID Ztn650AAAAAJ:eQOLeE2rZwMC - URL: /citations?view_op=view_citation&hl=en&user=Ztn650AAAAAJ&citation_for_view=Ztn650AAAAAJ:eQOLeE2rZwMC\n",
      "2025-01-21 15:41:23,117 - INFO - Citation data for article ID Ztn650AAAAAJ:eQOLeE2rZwMC: , year: 2021, num of citation: {'2021': 3}\n",
      "2025-01-21 15:41:23,118 - INFO - Citation data for article ID Ztn650AAAAAJ:eQOLeE2rZwMC: , year: 2022, num of citation: {'2021': 3, '2022': 3}\n",
      "2025-01-21 15:41:23,118 - INFO - Citation data for article ID Ztn650AAAAAJ:eQOLeE2rZwMC: , year: 2023, num of citation: {'2021': 3, '2022': 3, '2023': 1}\n",
      "2025-01-21 15:41:23,119 - INFO - Citation data for article ID Ztn650AAAAAJ:eQOLeE2rZwMC: , year: 2024, num of citation: {'2021': 3, '2022': 3, '2023': 1, '2024': 2}\n",
      "2025-01-21 15:41:23,120 - INFO - Inserting citation data for article ID Ztn650AAAAAJ:eQOLeE2rZwMC: year: 2021, num of citation: 3\n",
      "2025-01-21 15:41:23,121 - INFO - Inserting citation data for article ID Ztn650AAAAAJ:eQOLeE2rZwMC: year: 2022, num of citation: 3\n",
      "2025-01-21 15:41:23,122 - INFO - Inserting citation data for article ID Ztn650AAAAAJ:eQOLeE2rZwMC: year: 2023, num of citation: 1\n",
      "2025-01-21 15:41:23,123 - INFO - Inserting citation data for article ID Ztn650AAAAAJ:eQOLeE2rZwMC: year: 2024, num of citation: 2\n",
      "2025-01-21 15:41:23,124 - INFO - Accessing article ID Ztn650AAAAAJ:_FxGoFyzp5QC with URL /citations?view_op=view_citation&hl=en&user=Ztn650AAAAAJ&citation_for_view=Ztn650AAAAAJ:_FxGoFyzp5QC\n",
      "2025-01-21 15:41:25,632 - INFO - Getting citation data for article ID Ztn650AAAAAJ:_FxGoFyzp5QC - URL: /citations?view_op=view_citation&hl=en&user=Ztn650AAAAAJ&citation_for_view=Ztn650AAAAAJ:_FxGoFyzp5QC\n",
      "2025-01-21 15:41:25,651 - INFO - Citation data for article ID Ztn650AAAAAJ:_FxGoFyzp5QC: , year: 2022, num of citation: {'2022': 2}\n",
      "2025-01-21 15:41:25,652 - INFO - Citation data for article ID Ztn650AAAAAJ:_FxGoFyzp5QC: , year: 2023, num of citation: {'2022': 2, '2023': 1}\n",
      "2025-01-21 15:41:25,653 - INFO - Citation data for article ID Ztn650AAAAAJ:_FxGoFyzp5QC: , year: 2024, num of citation: {'2022': 2, '2023': 1, '2024': 3}\n",
      "2025-01-21 15:41:25,654 - INFO - Inserting citation data for article ID Ztn650AAAAAJ:_FxGoFyzp5QC: year: 2022, num of citation: 2\n",
      "2025-01-21 15:41:25,655 - INFO - Inserting citation data for article ID Ztn650AAAAAJ:_FxGoFyzp5QC: year: 2023, num of citation: 1\n",
      "2025-01-21 15:41:25,657 - INFO - Inserting citation data for article ID Ztn650AAAAAJ:_FxGoFyzp5QC: year: 2024, num of citation: 3\n",
      "2025-01-21 15:41:25,657 - INFO - Accessing article ID Ztn650AAAAAJ:u-x6o8ySG0sC with URL /citations?view_op=view_citation&hl=en&user=Ztn650AAAAAJ&citation_for_view=Ztn650AAAAAJ:u-x6o8ySG0sC\n",
      "2025-01-21 15:41:28,375 - INFO - Getting citation data for article ID Ztn650AAAAAJ:u-x6o8ySG0sC - URL: /citations?view_op=view_citation&hl=en&user=Ztn650AAAAAJ&citation_for_view=Ztn650AAAAAJ:u-x6o8ySG0sC\n",
      "2025-01-21 15:41:28,390 - INFO - Citation data for article ID Ztn650AAAAAJ:u-x6o8ySG0sC: , year: 2018, num of citation: {'2018': 1}\n",
      "2025-01-21 15:41:28,391 - INFO - Citation data for article ID Ztn650AAAAAJ:u-x6o8ySG0sC: , year: 2019, num of citation: {'2018': 1, '2019': 2}\n",
      "2025-01-21 15:41:28,391 - INFO - Citation data for article ID Ztn650AAAAAJ:u-x6o8ySG0sC: , year: 2020, num of citation: {'2018': 1, '2019': 2, '2020': 2}\n",
      "2025-01-21 15:41:28,392 - INFO - Citation data for article ID Ztn650AAAAAJ:u-x6o8ySG0sC: , year: 2021, num of citation: {'2018': 1, '2019': 2, '2020': 2, '2021': 1}\n",
      "2025-01-21 15:41:28,397 - INFO - Inserting citation data for article ID Ztn650AAAAAJ:u-x6o8ySG0sC: year: 2018, num of citation: 1\n",
      "2025-01-21 15:41:28,400 - INFO - Inserting citation data for article ID Ztn650AAAAAJ:u-x6o8ySG0sC: year: 2019, num of citation: 2\n",
      "2025-01-21 15:41:28,401 - INFO - Inserting citation data for article ID Ztn650AAAAAJ:u-x6o8ySG0sC: year: 2020, num of citation: 2\n",
      "2025-01-21 15:41:28,402 - INFO - Inserting citation data for article ID Ztn650AAAAAJ:u-x6o8ySG0sC: year: 2021, num of citation: 1\n",
      "2025-01-21 15:41:28,403 - INFO - Accessing article ID Ztn650AAAAAJ:dhFuZR0502QC with URL /citations?view_op=view_citation&hl=en&user=Ztn650AAAAAJ&citation_for_view=Ztn650AAAAAJ:dhFuZR0502QC\n",
      "2025-01-21 15:41:30,747 - INFO - Getting citation data for article ID Ztn650AAAAAJ:dhFuZR0502QC - URL: /citations?view_op=view_citation&hl=en&user=Ztn650AAAAAJ&citation_for_view=Ztn650AAAAAJ:dhFuZR0502QC\n",
      "2025-01-21 15:41:30,765 - INFO - Citation data for article ID Ztn650AAAAAJ:dhFuZR0502QC: , year: 2023, num of citation: {'2023': 1}\n",
      "2025-01-21 15:41:30,766 - INFO - Citation data for article ID Ztn650AAAAAJ:dhFuZR0502QC: , year: 2024, num of citation: {'2023': 1, '2024': 3}\n",
      "2025-01-21 15:41:30,768 - INFO - Inserting citation data for article ID Ztn650AAAAAJ:dhFuZR0502QC: year: 2023, num of citation: 1\n",
      "2025-01-21 15:41:30,769 - INFO - Inserting citation data for article ID Ztn650AAAAAJ:dhFuZR0502QC: year: 2024, num of citation: 3\n",
      "2025-01-21 15:41:30,770 - INFO - Accessing article ID Ztn650AAAAAJ:kNdYIx-mwKoC with URL /citations?view_op=view_citation&hl=en&user=Ztn650AAAAAJ&citation_for_view=Ztn650AAAAAJ:kNdYIx-mwKoC\n",
      "2025-01-21 15:41:33,838 - INFO - Getting citation data for article ID Ztn650AAAAAJ:kNdYIx-mwKoC - URL: /citations?view_op=view_citation&hl=en&user=Ztn650AAAAAJ&citation_for_view=Ztn650AAAAAJ:kNdYIx-mwKoC\n",
      "2025-01-21 15:41:33,858 - INFO - Citation data for article ID Ztn650AAAAAJ:kNdYIx-mwKoC: , year: 2024, num of citation: {'2024': 4}\n",
      "2025-01-21 15:41:33,860 - INFO - Inserting citation data for article ID Ztn650AAAAAJ:kNdYIx-mwKoC: year: 2024, num of citation: 4\n",
      "2025-01-21 15:41:33,861 - INFO - Accessing article ID Ztn650AAAAAJ:r0BpntZqJG4C with URL /citations?view_op=view_citation&hl=en&user=Ztn650AAAAAJ&citation_for_view=Ztn650AAAAAJ:r0BpntZqJG4C\n",
      "2025-01-21 15:41:36,232 - INFO - Getting citation data for article ID Ztn650AAAAAJ:r0BpntZqJG4C - URL: /citations?view_op=view_citation&hl=en&user=Ztn650AAAAAJ&citation_for_view=Ztn650AAAAAJ:r0BpntZqJG4C\n",
      "2025-01-21 15:41:36,251 - INFO - Citation data for article ID Ztn650AAAAAJ:r0BpntZqJG4C: , year: 2024, num of citation: {'2024': 3}\n",
      "2025-01-21 15:41:36,253 - INFO - Inserting citation data for article ID Ztn650AAAAAJ:r0BpntZqJG4C: year: 2024, num of citation: 3\n",
      "2025-01-21 15:41:36,254 - INFO - Accessing article ID Ztn650AAAAAJ:_kc_bZDykSQC with URL /citations?view_op=view_citation&hl=en&user=Ztn650AAAAAJ&citation_for_view=Ztn650AAAAAJ:_kc_bZDykSQC\n",
      "2025-01-21 15:41:38,642 - INFO - Getting citation data for article ID Ztn650AAAAAJ:_kc_bZDykSQC - URL: /citations?view_op=view_citation&hl=en&user=Ztn650AAAAAJ&citation_for_view=Ztn650AAAAAJ:_kc_bZDykSQC\n",
      "2025-01-21 15:41:38,662 - INFO - Citation data for article ID Ztn650AAAAAJ:_kc_bZDykSQC: , year: 2023, num of citation: {'2023': 1}\n",
      "2025-01-21 15:41:38,664 - INFO - Citation data for article ID Ztn650AAAAAJ:_kc_bZDykSQC: , year: 2024, num of citation: {'2023': 1, '2024': 2}\n",
      "2025-01-21 15:41:38,665 - INFO - Inserting citation data for article ID Ztn650AAAAAJ:_kc_bZDykSQC: year: 2023, num of citation: 1\n",
      "2025-01-21 15:41:38,666 - INFO - Inserting citation data for article ID Ztn650AAAAAJ:_kc_bZDykSQC: year: 2024, num of citation: 2\n",
      "2025-01-21 15:41:38,667 - INFO - Accessing article ID Ztn650AAAAAJ:9ZlFYXVOiuMC with URL /citations?view_op=view_citation&hl=en&user=Ztn650AAAAAJ&citation_for_view=Ztn650AAAAAJ:9ZlFYXVOiuMC\n",
      "2025-01-21 15:41:41,024 - INFO - Getting citation data for article ID Ztn650AAAAAJ:9ZlFYXVOiuMC - URL: /citations?view_op=view_citation&hl=en&user=Ztn650AAAAAJ&citation_for_view=Ztn650AAAAAJ:9ZlFYXVOiuMC\n",
      "2025-01-21 15:41:41,042 - INFO - Citation data for article ID Ztn650AAAAAJ:9ZlFYXVOiuMC: , year: 2023, num of citation: {'2023': 1}\n",
      "2025-01-21 15:41:41,043 - INFO - Citation data for article ID Ztn650AAAAAJ:9ZlFYXVOiuMC: , year: 2024, num of citation: {'2023': 1, '2024': 2}\n",
      "2025-01-21 15:41:41,045 - INFO - Inserting citation data for article ID Ztn650AAAAAJ:9ZlFYXVOiuMC: year: 2023, num of citation: 1\n",
      "2025-01-21 15:41:41,046 - INFO - Inserting citation data for article ID Ztn650AAAAAJ:9ZlFYXVOiuMC: year: 2024, num of citation: 2\n",
      "2025-01-21 15:41:41,047 - INFO - Accessing article ID Ztn650AAAAAJ:Se3iqnhoufwC with URL /citations?view_op=view_citation&hl=en&user=Ztn650AAAAAJ&citation_for_view=Ztn650AAAAAJ:Se3iqnhoufwC\n",
      "2025-01-21 15:41:43,385 - INFO - Getting citation data for article ID Ztn650AAAAAJ:Se3iqnhoufwC - URL: /citations?view_op=view_citation&hl=en&user=Ztn650AAAAAJ&citation_for_view=Ztn650AAAAAJ:Se3iqnhoufwC\n",
      "2025-01-21 15:41:43,405 - INFO - Citation data for article ID Ztn650AAAAAJ:Se3iqnhoufwC: , year: 2023, num of citation: {'2023': 1}\n",
      "2025-01-21 15:41:43,406 - INFO - Citation data for article ID Ztn650AAAAAJ:Se3iqnhoufwC: , year: 2024, num of citation: {'2023': 1, '2024': 2}\n",
      "2025-01-21 15:41:43,408 - INFO - Inserting citation data for article ID Ztn650AAAAAJ:Se3iqnhoufwC: year: 2023, num of citation: 1\n",
      "2025-01-21 15:41:43,408 - INFO - Inserting citation data for article ID Ztn650AAAAAJ:Se3iqnhoufwC: year: 2024, num of citation: 2\n",
      "2025-01-21 15:41:43,409 - INFO - Accessing article ID Ztn650AAAAAJ:u5HHmVD_uO8C with URL /citations?view_op=view_citation&hl=en&user=Ztn650AAAAAJ&citation_for_view=Ztn650AAAAAJ:u5HHmVD_uO8C\n",
      "2025-01-21 15:41:47,068 - INFO - Getting citation data for article ID Ztn650AAAAAJ:u5HHmVD_uO8C - URL: /citations?view_op=view_citation&hl=en&user=Ztn650AAAAAJ&citation_for_view=Ztn650AAAAAJ:u5HHmVD_uO8C\n",
      "2025-01-21 15:41:47,081 - INFO - Citation data for article ID Ztn650AAAAAJ:u5HHmVD_uO8C: , year: 2021, num of citation: {'2021': 2}\n",
      "2025-01-21 15:41:47,082 - INFO - Citation data for article ID Ztn650AAAAAJ:u5HHmVD_uO8C: , year: 2022, num of citation: {'2021': 2, '2022': 1}\n",
      "2025-01-21 15:41:47,083 - INFO - Inserting citation data for article ID Ztn650AAAAAJ:u5HHmVD_uO8C: year: 2021, num of citation: 2\n",
      "2025-01-21 15:41:47,084 - INFO - Inserting citation data for article ID Ztn650AAAAAJ:u5HHmVD_uO8C: year: 2022, num of citation: 1\n",
      "2025-01-21 15:41:47,084 - INFO - Accessing article ID Ztn650AAAAAJ:qUcmZB5y_30C with URL /citations?view_op=view_citation&hl=en&user=Ztn650AAAAAJ&citation_for_view=Ztn650AAAAAJ:qUcmZB5y_30C\n",
      "2025-01-21 15:41:50,329 - INFO - Getting citation data for article ID Ztn650AAAAAJ:qUcmZB5y_30C - URL: /citations?view_op=view_citation&hl=en&user=Ztn650AAAAAJ&citation_for_view=Ztn650AAAAAJ:qUcmZB5y_30C\n",
      "2025-01-21 15:41:50,352 - INFO - Citation data for article ID Ztn650AAAAAJ:qUcmZB5y_30C: , year: 2024, num of citation: {'2024': 2}\n",
      "2025-01-21 15:41:50,354 - INFO - Inserting citation data for article ID Ztn650AAAAAJ:qUcmZB5y_30C: year: 2024, num of citation: 2\n",
      "2025-01-21 15:41:50,354 - INFO - Accessing article ID Ztn650AAAAAJ:L8Ckcad2t8MC with URL /citations?view_op=view_citation&hl=en&user=Ztn650AAAAAJ&citation_for_view=Ztn650AAAAAJ:L8Ckcad2t8MC\n",
      "2025-01-21 15:41:52,719 - INFO - Getting citation data for article ID Ztn650AAAAAJ:L8Ckcad2t8MC - URL: /citations?view_op=view_citation&hl=en&user=Ztn650AAAAAJ&citation_for_view=Ztn650AAAAAJ:L8Ckcad2t8MC\n",
      "2025-01-21 15:41:52,739 - INFO - Citation data for article ID Ztn650AAAAAJ:L8Ckcad2t8MC: , year: 2024, num of citation: {'2024': 2}\n",
      "2025-01-21 15:41:52,741 - INFO - Inserting citation data for article ID Ztn650AAAAAJ:L8Ckcad2t8MC: year: 2024, num of citation: 2\n",
      "2025-01-21 15:41:52,742 - INFO - Accessing article ID Ztn650AAAAAJ:KlAtU1dfN6UC with URL /citations?view_op=view_citation&hl=en&user=Ztn650AAAAAJ&citation_for_view=Ztn650AAAAAJ:KlAtU1dfN6UC\n",
      "2025-01-21 15:41:56,573 - INFO - Getting citation data for article ID Ztn650AAAAAJ:KlAtU1dfN6UC - URL: /citations?view_op=view_citation&hl=en&user=Ztn650AAAAAJ&citation_for_view=Ztn650AAAAAJ:KlAtU1dfN6UC\n",
      "2025-01-21 15:41:56,591 - INFO - Citation data for article ID Ztn650AAAAAJ:KlAtU1dfN6UC: , year: 2023, num of citation: {'2023': 1}\n",
      "2025-01-21 15:41:56,593 - INFO - Citation data for article ID Ztn650AAAAAJ:KlAtU1dfN6UC: , year: 2024, num of citation: {'2023': 1, '2024': 1}\n",
      "2025-01-21 15:41:56,594 - INFO - Inserting citation data for article ID Ztn650AAAAAJ:KlAtU1dfN6UC: year: 2023, num of citation: 1\n",
      "2025-01-21 15:41:56,602 - INFO - Inserting citation data for article ID Ztn650AAAAAJ:KlAtU1dfN6UC: year: 2024, num of citation: 1\n",
      "2025-01-21 15:41:56,603 - INFO - Accessing article ID Ztn650AAAAAJ:MXK_kJrjxJIC with URL /citations?view_op=view_citation&hl=en&user=Ztn650AAAAAJ&citation_for_view=Ztn650AAAAAJ:MXK_kJrjxJIC\n",
      "2025-01-21 15:41:59,127 - INFO - Getting citation data for article ID Ztn650AAAAAJ:MXK_kJrjxJIC - URL: /citations?view_op=view_citation&hl=en&user=Ztn650AAAAAJ&citation_for_view=Ztn650AAAAAJ:MXK_kJrjxJIC\n",
      "2025-01-21 15:41:59,146 - INFO - Citation data for article ID Ztn650AAAAAJ:MXK_kJrjxJIC: , year: 2022, num of citation: {'2022': 1}\n",
      "2025-01-21 15:41:59,147 - INFO - Citation data for article ID Ztn650AAAAAJ:MXK_kJrjxJIC: , year: 2023, num of citation: {'2022': 1, '2023': 1}\n",
      "2025-01-21 15:41:59,148 - INFO - Inserting citation data for article ID Ztn650AAAAAJ:MXK_kJrjxJIC: year: 2022, num of citation: 1\n",
      "2025-01-21 15:41:59,150 - INFO - Inserting citation data for article ID Ztn650AAAAAJ:MXK_kJrjxJIC: year: 2023, num of citation: 1\n",
      "2025-01-21 15:41:59,151 - INFO - Accessing article ID Ztn650AAAAAJ:8k81kl-MbHgC with URL /citations?view_op=view_citation&hl=en&user=Ztn650AAAAAJ&citation_for_view=Ztn650AAAAAJ:8k81kl-MbHgC\n",
      "2025-01-21 15:42:01,595 - INFO - Getting citation data for article ID Ztn650AAAAAJ:8k81kl-MbHgC - URL: /citations?view_op=view_citation&hl=en&user=Ztn650AAAAAJ&citation_for_view=Ztn650AAAAAJ:8k81kl-MbHgC\n",
      "2025-01-21 15:42:01,614 - INFO - Citation data for article ID Ztn650AAAAAJ:8k81kl-MbHgC: , year: 2023, num of citation: {'2023': 2}\n",
      "2025-01-21 15:42:01,616 - INFO - Inserting citation data for article ID Ztn650AAAAAJ:8k81kl-MbHgC: year: 2023, num of citation: 2\n",
      "2025-01-21 15:42:01,617 - INFO - Accessing article ID Ztn650AAAAAJ:hqOjcs7Dif8C with URL /citations?view_op=view_citation&hl=en&user=Ztn650AAAAAJ&citation_for_view=Ztn650AAAAAJ:hqOjcs7Dif8C\n",
      "2025-01-21 15:42:03,989 - INFO - Getting citation data for article ID Ztn650AAAAAJ:hqOjcs7Dif8C - URL: /citations?view_op=view_citation&hl=en&user=Ztn650AAAAAJ&citation_for_view=Ztn650AAAAAJ:hqOjcs7Dif8C\n",
      "2025-01-21 15:42:04,007 - INFO - Citation data for article ID Ztn650AAAAAJ:hqOjcs7Dif8C: , year: 2023, num of citation: {'2023': 1}\n",
      "2025-01-21 15:42:04,008 - INFO - Citation data for article ID Ztn650AAAAAJ:hqOjcs7Dif8C: , year: 2024, num of citation: {'2023': 1, '2024': 1}\n",
      "2025-01-21 15:42:04,009 - INFO - Inserting citation data for article ID Ztn650AAAAAJ:hqOjcs7Dif8C: year: 2023, num of citation: 1\n",
      "2025-01-21 15:42:04,010 - INFO - Inserting citation data for article ID Ztn650AAAAAJ:hqOjcs7Dif8C: year: 2024, num of citation: 1\n",
      "2025-01-21 15:42:04,011 - INFO - Accessing article ID Ztn650AAAAAJ:UeHWp8X0CEIC with URL /citations?view_op=view_citation&hl=en&user=Ztn650AAAAAJ&citation_for_view=Ztn650AAAAAJ:UeHWp8X0CEIC\n",
      "2025-01-21 15:42:06,446 - INFO - Getting citation data for article ID Ztn650AAAAAJ:UeHWp8X0CEIC - URL: /citations?view_op=view_citation&hl=en&user=Ztn650AAAAAJ&citation_for_view=Ztn650AAAAAJ:UeHWp8X0CEIC\n",
      "2025-01-21 15:42:06,465 - INFO - Citation data for article ID Ztn650AAAAAJ:UeHWp8X0CEIC: , year: 2021, num of citation: {'2021': 1}\n",
      "2025-01-21 15:42:06,466 - INFO - Citation data for article ID Ztn650AAAAAJ:UeHWp8X0CEIC: , year: 2022, num of citation: {'2021': 1, '2022': 1}\n",
      "2025-01-21 15:42:06,468 - INFO - Inserting citation data for article ID Ztn650AAAAAJ:UeHWp8X0CEIC: year: 2021, num of citation: 1\n",
      "2025-01-21 15:42:06,469 - INFO - Inserting citation data for article ID Ztn650AAAAAJ:UeHWp8X0CEIC: year: 2022, num of citation: 1\n",
      "2025-01-21 15:42:06,470 - INFO - Accessing article ID Ztn650AAAAAJ:9yKSN-GCB0IC with URL /citations?view_op=view_citation&hl=en&user=Ztn650AAAAAJ&citation_for_view=Ztn650AAAAAJ:9yKSN-GCB0IC\n",
      "2025-01-21 15:42:08,900 - INFO - Getting citation data for article ID Ztn650AAAAAJ:9yKSN-GCB0IC - URL: /citations?view_op=view_citation&hl=en&user=Ztn650AAAAAJ&citation_for_view=Ztn650AAAAAJ:9yKSN-GCB0IC\n",
      "2025-01-21 15:42:08,915 - INFO - Citation data for article ID Ztn650AAAAAJ:9yKSN-GCB0IC: , year: 2018, num of citation: {'2018': 1}\n",
      "2025-01-21 15:42:08,916 - INFO - Inserting citation data for article ID Ztn650AAAAAJ:9yKSN-GCB0IC: year: 2018, num of citation: 1\n",
      "2025-01-21 15:42:08,917 - INFO - Accessing article ID Ztn650AAAAAJ:mVmsd5A6BfQC with URL /citations?view_op=view_citation&hl=en&user=Ztn650AAAAAJ&cstart=20&pagesize=80&citation_for_view=Ztn650AAAAAJ:mVmsd5A6BfQC\n",
      "2025-01-21 15:42:11,262 - INFO - Getting citation data for article ID Ztn650AAAAAJ:mVmsd5A6BfQC - URL: /citations?view_op=view_citation&hl=en&user=Ztn650AAAAAJ&cstart=20&pagesize=80&citation_for_view=Ztn650AAAAAJ:mVmsd5A6BfQC\n",
      "2025-01-21 15:42:11,279 - INFO - Citation data for article ID Ztn650AAAAAJ:mVmsd5A6BfQC: , year: 2022, num of citation: {'2022': 1}\n",
      "2025-01-21 15:42:11,280 - INFO - Citation data for article ID Ztn650AAAAAJ:mVmsd5A6BfQC: , year: 2023, num of citation: {'2022': 1, '2023': 1}\n",
      "2025-01-21 15:42:11,282 - INFO - Inserting citation data for article ID Ztn650AAAAAJ:mVmsd5A6BfQC: year: 2022, num of citation: 1\n",
      "2025-01-21 15:42:11,283 - INFO - Inserting citation data for article ID Ztn650AAAAAJ:mVmsd5A6BfQC: year: 2023, num of citation: 1\n",
      "2025-01-21 15:42:11,284 - INFO - Accessing article ID Ztn650AAAAAJ:BqipwSGYUEgC with URL /citations?view_op=view_citation&hl=en&user=Ztn650AAAAAJ&cstart=20&pagesize=80&citation_for_view=Ztn650AAAAAJ:BqipwSGYUEgC\n",
      "2025-01-21 15:42:13,626 - INFO - Getting citation data for article ID Ztn650AAAAAJ:BqipwSGYUEgC - URL: /citations?view_op=view_citation&hl=en&user=Ztn650AAAAAJ&cstart=20&pagesize=80&citation_for_view=Ztn650AAAAAJ:BqipwSGYUEgC\n",
      "2025-01-21 15:42:13,645 - INFO - Citation data for article ID Ztn650AAAAAJ:BqipwSGYUEgC: , year: 2024, num of citation: {'2024': 1}\n",
      "2025-01-21 15:42:13,668 - INFO - Inserting citation data for article ID Ztn650AAAAAJ:BqipwSGYUEgC: year: 2024, num of citation: 1\n",
      "2025-01-21 15:42:13,677 - INFO - Accessing article ID Ztn650AAAAAJ:blknAaTinKkC with URL /citations?view_op=view_citation&hl=en&user=Ztn650AAAAAJ&cstart=20&pagesize=80&citation_for_view=Ztn650AAAAAJ:blknAaTinKkC\n",
      "2025-01-21 15:42:17,022 - INFO - Getting citation data for article ID Ztn650AAAAAJ:blknAaTinKkC - URL: /citations?view_op=view_citation&hl=en&user=Ztn650AAAAAJ&cstart=20&pagesize=80&citation_for_view=Ztn650AAAAAJ:blknAaTinKkC\n",
      "2025-01-21 15:42:17,033 - INFO - Citation data for article ID Ztn650AAAAAJ:blknAaTinKkC: , year: 2024, num of citation: {'2024': 1}\n",
      "2025-01-21 15:42:17,034 - INFO - Inserting citation data for article ID Ztn650AAAAAJ:blknAaTinKkC: year: 2024, num of citation: 1\n",
      "2025-01-21 15:42:17,035 - INFO - Accessing article ID Ztn650AAAAAJ:maZDTaKrznsC with URL /citations?view_op=view_citation&hl=en&user=Ztn650AAAAAJ&cstart=20&pagesize=80&citation_for_view=Ztn650AAAAAJ:maZDTaKrznsC\n",
      "2025-01-21 15:42:21,170 - INFO - Getting citation data for article ID Ztn650AAAAAJ:maZDTaKrznsC - URL: /citations?view_op=view_citation&hl=en&user=Ztn650AAAAAJ&cstart=20&pagesize=80&citation_for_view=Ztn650AAAAAJ:maZDTaKrznsC\n",
      "2025-01-21 15:42:21,190 - INFO - Accessing article ID Ztn650AAAAAJ:ZeXyd9-uunAC with URL /citations?view_op=view_citation&hl=en&user=Ztn650AAAAAJ&cstart=20&pagesize=80&citation_for_view=Ztn650AAAAAJ:ZeXyd9-uunAC\n"
     ]
    },
    {
     "name": "stdout",
     "output_type": "stream",
     "text": [
      "No graph bars found for https://scholar.google.com/citations?view_op=view_citation&hl=en&user=Ztn650AAAAAJ&cstart=20&pagesize=80&citation_for_view=Ztn650AAAAAJ:maZDTaKrznsC\n"
     ]
    },
    {
     "name": "stderr",
     "output_type": "stream",
     "text": [
      "2025-01-21 15:42:23,509 - INFO - Getting citation data for article ID Ztn650AAAAAJ:ZeXyd9-uunAC - URL: /citations?view_op=view_citation&hl=en&user=Ztn650AAAAAJ&cstart=20&pagesize=80&citation_for_view=Ztn650AAAAAJ:ZeXyd9-uunAC\n",
      "2025-01-21 15:42:23,526 - INFO - Citation data for article ID Ztn650AAAAAJ:ZeXyd9-uunAC: , year: 2024, num of citation: {'2024': 1}\n",
      "2025-01-21 15:42:23,527 - INFO - Inserting citation data for article ID Ztn650AAAAAJ:ZeXyd9-uunAC: year: 2024, num of citation: 1\n",
      "2025-01-21 15:42:23,528 - INFO - Accessing article ID Ztn650AAAAAJ:mB3voiENLucC with URL /citations?view_op=view_citation&hl=en&user=Ztn650AAAAAJ&cstart=20&pagesize=80&citation_for_view=Ztn650AAAAAJ:mB3voiENLucC\n",
      "2025-01-21 15:42:25,852 - INFO - Getting citation data for article ID Ztn650AAAAAJ:mB3voiENLucC - URL: /citations?view_op=view_citation&hl=en&user=Ztn650AAAAAJ&cstart=20&pagesize=80&citation_for_view=Ztn650AAAAAJ:mB3voiENLucC\n",
      "2025-01-21 15:42:25,863 - INFO - Citation data for article ID Ztn650AAAAAJ:mB3voiENLucC: , year: 2024, num of citation: {'2024': 1}\n",
      "2025-01-21 15:42:25,864 - INFO - Inserting citation data for article ID Ztn650AAAAAJ:mB3voiENLucC: year: 2024, num of citation: 1\n",
      "2025-01-21 15:42:25,865 - INFO - Accessing article ID Ztn650AAAAAJ:hC7cP41nSMkC with URL /citations?view_op=view_citation&hl=en&user=Ztn650AAAAAJ&cstart=20&pagesize=80&citation_for_view=Ztn650AAAAAJ:hC7cP41nSMkC\n",
      "2025-01-21 15:42:28,177 - INFO - Getting citation data for article ID Ztn650AAAAAJ:hC7cP41nSMkC - URL: /citations?view_op=view_citation&hl=en&user=Ztn650AAAAAJ&cstart=20&pagesize=80&citation_for_view=Ztn650AAAAAJ:hC7cP41nSMkC\n",
      "2025-01-21 15:42:28,185 - INFO - Accessing article ID Ztn650AAAAAJ:aqlVkmm33-oC with URL /citations?view_op=view_citation&hl=en&user=Ztn650AAAAAJ&cstart=20&pagesize=80&citation_for_view=Ztn650AAAAAJ:aqlVkmm33-oC\n"
     ]
    },
    {
     "name": "stdout",
     "output_type": "stream",
     "text": [
      "No graph bars found for https://scholar.google.com/citations?view_op=view_citation&hl=en&user=Ztn650AAAAAJ&cstart=20&pagesize=80&citation_for_view=Ztn650AAAAAJ:hC7cP41nSMkC\n"
     ]
    },
    {
     "name": "stderr",
     "output_type": "stream",
     "text": [
      "2025-01-21 15:42:30,682 - INFO - Getting citation data for article ID Ztn650AAAAAJ:aqlVkmm33-oC - URL: /citations?view_op=view_citation&hl=en&user=Ztn650AAAAAJ&cstart=20&pagesize=80&citation_for_view=Ztn650AAAAAJ:aqlVkmm33-oC\n",
      "2025-01-21 15:42:30,689 - INFO - Citation data for article ID Ztn650AAAAAJ:aqlVkmm33-oC: , year: 2023, num of citation: {'2023': 1}\n",
      "2025-01-21 15:42:30,690 - INFO - Inserting citation data for article ID Ztn650AAAAAJ:aqlVkmm33-oC: year: 2023, num of citation: 1\n",
      "2025-01-21 15:42:30,690 - INFO - Accessing article ID Ztn650AAAAAJ:4TOpqqG69KYC with URL /citations?view_op=view_citation&hl=en&user=Ztn650AAAAAJ&cstart=20&pagesize=80&citation_for_view=Ztn650AAAAAJ:4TOpqqG69KYC\n",
      "2025-01-21 15:42:33,056 - INFO - Getting citation data for article ID Ztn650AAAAAJ:4TOpqqG69KYC - URL: /citations?view_op=view_citation&hl=en&user=Ztn650AAAAAJ&cstart=20&pagesize=80&citation_for_view=Ztn650AAAAAJ:4TOpqqG69KYC\n",
      "2025-01-21 15:42:33,069 - INFO - Citation data for article ID Ztn650AAAAAJ:4TOpqqG69KYC: , year: 2023, num of citation: {'2023': 1}\n",
      "2025-01-21 15:42:33,070 - INFO - Inserting citation data for article ID Ztn650AAAAAJ:4TOpqqG69KYC: year: 2023, num of citation: 1\n",
      "2025-01-21 15:42:33,071 - INFO - Accessing article ID Ztn650AAAAAJ:Wp0gIr-vW9MC with URL /citations?view_op=view_citation&hl=en&user=Ztn650AAAAAJ&cstart=20&pagesize=80&citation_for_view=Ztn650AAAAAJ:Wp0gIr-vW9MC\n",
      "2025-01-21 15:42:35,531 - INFO - Getting citation data for article ID Ztn650AAAAAJ:Wp0gIr-vW9MC - URL: /citations?view_op=view_citation&hl=en&user=Ztn650AAAAAJ&cstart=20&pagesize=80&citation_for_view=Ztn650AAAAAJ:Wp0gIr-vW9MC\n",
      "2025-01-21 15:42:35,551 - INFO - Citation data for article ID Ztn650AAAAAJ:Wp0gIr-vW9MC: , year: 2023, num of citation: {'2023': 1}\n",
      "2025-01-21 15:42:35,552 - INFO - Inserting citation data for article ID Ztn650AAAAAJ:Wp0gIr-vW9MC: year: 2023, num of citation: 1\n",
      "2025-01-21 15:42:35,553 - INFO - Accessing article ID Ztn650AAAAAJ:roLk4NBRz8UC with URL /citations?view_op=view_citation&hl=en&user=Ztn650AAAAAJ&cstart=20&pagesize=80&citation_for_view=Ztn650AAAAAJ:roLk4NBRz8UC\n",
      "2025-01-21 15:42:37,960 - INFO - Getting citation data for article ID Ztn650AAAAAJ:roLk4NBRz8UC - URL: /citations?view_op=view_citation&hl=en&user=Ztn650AAAAAJ&cstart=20&pagesize=80&citation_for_view=Ztn650AAAAAJ:roLk4NBRz8UC\n",
      "2025-01-21 15:42:37,968 - INFO - Citation data for article ID Ztn650AAAAAJ:roLk4NBRz8UC: , year: 2023, num of citation: {'2023': 1}\n",
      "2025-01-21 15:42:37,969 - INFO - Inserting citation data for article ID Ztn650AAAAAJ:roLk4NBRz8UC: year: 2023, num of citation: 1\n",
      "2025-01-21 15:42:37,969 - INFO - Accessing article ID Ztn650AAAAAJ:WF5omc3nYNoC with URL /citations?view_op=view_citation&hl=en&user=Ztn650AAAAAJ&cstart=20&pagesize=80&citation_for_view=Ztn650AAAAAJ:WF5omc3nYNoC\n",
      "2025-01-21 15:42:40,322 - INFO - Getting citation data for article ID Ztn650AAAAAJ:WF5omc3nYNoC - URL: /citations?view_op=view_citation&hl=en&user=Ztn650AAAAAJ&cstart=20&pagesize=80&citation_for_view=Ztn650AAAAAJ:WF5omc3nYNoC\n",
      "2025-01-21 15:42:40,331 - INFO - Citation data for article ID Ztn650AAAAAJ:WF5omc3nYNoC: , year: 2022, num of citation: {'2022': 1}\n",
      "2025-01-21 15:42:40,332 - INFO - Inserting citation data for article ID Ztn650AAAAAJ:WF5omc3nYNoC: year: 2022, num of citation: 1\n",
      "2025-01-21 15:42:40,332 - INFO - Accessing article ID Ztn650AAAAAJ:W7OEmFMy1HYC with URL /citations?view_op=view_citation&hl=en&user=Ztn650AAAAAJ&cstart=20&pagesize=80&citation_for_view=Ztn650AAAAAJ:W7OEmFMy1HYC\n",
      "2025-01-21 15:42:42,962 - INFO - Getting citation data for article ID Ztn650AAAAAJ:W7OEmFMy1HYC - URL: /citations?view_op=view_citation&hl=en&user=Ztn650AAAAAJ&cstart=20&pagesize=80&citation_for_view=Ztn650AAAAAJ:W7OEmFMy1HYC\n",
      "2025-01-21 15:42:42,977 - INFO - Citation data for article ID Ztn650AAAAAJ:W7OEmFMy1HYC: , year: 2025, num of citation: {'2025': 1}\n",
      "2025-01-21 15:42:42,978 - INFO - Inserting citation data for article ID Ztn650AAAAAJ:W7OEmFMy1HYC: year: 2025, num of citation: 1\n",
      "2025-01-21 15:42:42,979 - INFO - Accessing article ID Ztn650AAAAAJ:Y0pCki6q_DkC with URL /citations?view_op=view_citation&hl=en&user=Ztn650AAAAAJ&cstart=20&pagesize=80&citation_for_view=Ztn650AAAAAJ:Y0pCki6q_DkC\n",
      "2025-01-21 15:42:45,823 - INFO - Getting citation data for article ID Ztn650AAAAAJ:Y0pCki6q_DkC - URL: /citations?view_op=view_citation&hl=en&user=Ztn650AAAAAJ&cstart=20&pagesize=80&citation_for_view=Ztn650AAAAAJ:Y0pCki6q_DkC\n",
      "2025-01-21 15:42:45,837 - INFO - Citation data for article ID Ztn650AAAAAJ:Y0pCki6q_DkC: , year: 2022, num of citation: {'2022': 1}\n",
      "2025-01-21 15:42:45,838 - INFO - Inserting citation data for article ID Ztn650AAAAAJ:Y0pCki6q_DkC: year: 2022, num of citation: 1\n",
      "2025-01-21 15:42:45,839 - INFO - Accessing article ID Ztn650AAAAAJ:d1gkVwhDpl0C with URL /citations?view_op=view_citation&hl=en&user=Ztn650AAAAAJ&cstart=20&pagesize=80&citation_for_view=Ztn650AAAAAJ:d1gkVwhDpl0C\n",
      "2025-01-21 15:42:48,217 - INFO - Getting citation data for article ID Ztn650AAAAAJ:d1gkVwhDpl0C - URL: /citations?view_op=view_citation&hl=en&user=Ztn650AAAAAJ&cstart=20&pagesize=80&citation_for_view=Ztn650AAAAAJ:d1gkVwhDpl0C\n",
      "2025-01-21 15:42:48,235 - INFO - Citation data for article ID Ztn650AAAAAJ:d1gkVwhDpl0C: , year: 2023, num of citation: {'2023': 1}\n",
      "2025-01-21 15:42:48,237 - INFO - Inserting citation data for article ID Ztn650AAAAAJ:d1gkVwhDpl0C: year: 2023, num of citation: 1\n",
      "2025-01-21 15:42:48,238 - INFO - Accessing article ID Ztn650AAAAAJ:vV6vV6tmYwMC with URL /citations?view_op=view_citation&hl=en&user=Ztn650AAAAAJ&cstart=20&pagesize=80&citation_for_view=Ztn650AAAAAJ:vV6vV6tmYwMC\n",
      "2025-01-21 15:42:50,673 - INFO - Getting citation data for article ID Ztn650AAAAAJ:vV6vV6tmYwMC - URL: /citations?view_op=view_citation&hl=en&user=Ztn650AAAAAJ&cstart=20&pagesize=80&citation_for_view=Ztn650AAAAAJ:vV6vV6tmYwMC\n",
      "2025-01-21 15:42:50,689 - INFO - Accessing article ID Ztn650AAAAAJ:lSLTfruPkqcC with URL /citations?view_op=view_citation&hl=en&user=Ztn650AAAAAJ&cstart=20&pagesize=80&citation_for_view=Ztn650AAAAAJ:lSLTfruPkqcC\n"
     ]
    },
    {
     "name": "stdout",
     "output_type": "stream",
     "text": [
      "No graph bars found for https://scholar.google.com/citations?view_op=view_citation&hl=en&user=Ztn650AAAAAJ&cstart=20&pagesize=80&citation_for_view=Ztn650AAAAAJ:vV6vV6tmYwMC\n"
     ]
    },
    {
     "name": "stderr",
     "output_type": "stream",
     "text": [
      "2025-01-21 15:42:53,027 - INFO - Getting citation data for article ID Ztn650AAAAAJ:lSLTfruPkqcC - URL: /citations?view_op=view_citation&hl=en&user=Ztn650AAAAAJ&cstart=20&pagesize=80&citation_for_view=Ztn650AAAAAJ:lSLTfruPkqcC\n",
      "2025-01-21 15:42:53,043 - INFO - Accessing article ID Ztn650AAAAAJ:NaGl4SEjCO4C with URL /citations?view_op=view_citation&hl=en&user=Ztn650AAAAAJ&cstart=20&pagesize=80&citation_for_view=Ztn650AAAAAJ:NaGl4SEjCO4C\n"
     ]
    },
    {
     "name": "stdout",
     "output_type": "stream",
     "text": [
      "No graph bars found for https://scholar.google.com/citations?view_op=view_citation&hl=en&user=Ztn650AAAAAJ&cstart=20&pagesize=80&citation_for_view=Ztn650AAAAAJ:lSLTfruPkqcC\n"
     ]
    },
    {
     "name": "stderr",
     "output_type": "stream",
     "text": [
      "2025-01-21 15:42:55,373 - INFO - Getting citation data for article ID Ztn650AAAAAJ:NaGl4SEjCO4C - URL: /citations?view_op=view_citation&hl=en&user=Ztn650AAAAAJ&cstart=20&pagesize=80&citation_for_view=Ztn650AAAAAJ:NaGl4SEjCO4C\n",
      "2025-01-21 15:42:55,390 - INFO - Accessing article ID Ztn650AAAAAJ:J_g5lzvAfSwC with URL /citations?view_op=view_citation&hl=en&user=Ztn650AAAAAJ&cstart=20&pagesize=80&citation_for_view=Ztn650AAAAAJ:J_g5lzvAfSwC\n"
     ]
    },
    {
     "name": "stdout",
     "output_type": "stream",
     "text": [
      "No graph bars found for https://scholar.google.com/citations?view_op=view_citation&hl=en&user=Ztn650AAAAAJ&cstart=20&pagesize=80&citation_for_view=Ztn650AAAAAJ:NaGl4SEjCO4C\n"
     ]
    },
    {
     "name": "stderr",
     "output_type": "stream",
     "text": [
      "2025-01-21 15:42:57,726 - INFO - Getting citation data for article ID Ztn650AAAAAJ:J_g5lzvAfSwC - URL: /citations?view_op=view_citation&hl=en&user=Ztn650AAAAAJ&cstart=20&pagesize=80&citation_for_view=Ztn650AAAAAJ:J_g5lzvAfSwC\n",
      "2025-01-21 15:42:57,739 - INFO - Accessing article ID Ztn650AAAAAJ:RYcK_YlVTxYC with URL /citations?view_op=view_citation&hl=en&user=Ztn650AAAAAJ&cstart=20&pagesize=80&citation_for_view=Ztn650AAAAAJ:RYcK_YlVTxYC\n"
     ]
    },
    {
     "name": "stdout",
     "output_type": "stream",
     "text": [
      "No graph bars found for https://scholar.google.com/citations?view_op=view_citation&hl=en&user=Ztn650AAAAAJ&cstart=20&pagesize=80&citation_for_view=Ztn650AAAAAJ:J_g5lzvAfSwC\n"
     ]
    },
    {
     "name": "stderr",
     "output_type": "stream",
     "text": [
      "2025-01-21 15:43:00,499 - INFO - Getting citation data for article ID Ztn650AAAAAJ:RYcK_YlVTxYC - URL: /citations?view_op=view_citation&hl=en&user=Ztn650AAAAAJ&cstart=20&pagesize=80&citation_for_view=Ztn650AAAAAJ:RYcK_YlVTxYC\n",
      "2025-01-21 15:43:00,507 - INFO - Accessing article ID Ztn650AAAAAJ:RGFaLdJalmkC with URL /citations?view_op=view_citation&hl=en&user=Ztn650AAAAAJ&cstart=20&pagesize=80&citation_for_view=Ztn650AAAAAJ:RGFaLdJalmkC\n"
     ]
    },
    {
     "name": "stdout",
     "output_type": "stream",
     "text": [
      "No graph bars found for https://scholar.google.com/citations?view_op=view_citation&hl=en&user=Ztn650AAAAAJ&cstart=20&pagesize=80&citation_for_view=Ztn650AAAAAJ:RYcK_YlVTxYC\n"
     ]
    },
    {
     "name": "stderr",
     "output_type": "stream",
     "text": [
      "2025-01-21 15:43:02,879 - INFO - Getting citation data for article ID Ztn650AAAAAJ:RGFaLdJalmkC - URL: /citations?view_op=view_citation&hl=en&user=Ztn650AAAAAJ&cstart=20&pagesize=80&citation_for_view=Ztn650AAAAAJ:RGFaLdJalmkC\n",
      "2025-01-21 15:43:02,896 - INFO - Accessing article ID Ztn650AAAAAJ:ns9cj8rnVeAC with URL /citations?view_op=view_citation&hl=en&user=Ztn650AAAAAJ&cstart=20&pagesize=80&citation_for_view=Ztn650AAAAAJ:ns9cj8rnVeAC\n"
     ]
    },
    {
     "name": "stdout",
     "output_type": "stream",
     "text": [
      "No graph bars found for https://scholar.google.com/citations?view_op=view_citation&hl=en&user=Ztn650AAAAAJ&cstart=20&pagesize=80&citation_for_view=Ztn650AAAAAJ:RGFaLdJalmkC\n"
     ]
    },
    {
     "name": "stderr",
     "output_type": "stream",
     "text": [
      "2025-01-21 15:43:05,242 - INFO - Getting citation data for article ID Ztn650AAAAAJ:ns9cj8rnVeAC - URL: /citations?view_op=view_citation&hl=en&user=Ztn650AAAAAJ&cstart=20&pagesize=80&citation_for_view=Ztn650AAAAAJ:ns9cj8rnVeAC\n",
      "2025-01-21 15:43:05,282 - INFO - Accessing article ID Ztn650AAAAAJ:O3NaXMp0MMsC with URL /citations?view_op=view_citation&hl=en&user=Ztn650AAAAAJ&cstart=20&pagesize=80&citation_for_view=Ztn650AAAAAJ:O3NaXMp0MMsC\n"
     ]
    },
    {
     "name": "stdout",
     "output_type": "stream",
     "text": [
      "No graph bars found for https://scholar.google.com/citations?view_op=view_citation&hl=en&user=Ztn650AAAAAJ&cstart=20&pagesize=80&citation_for_view=Ztn650AAAAAJ:ns9cj8rnVeAC\n"
     ]
    },
    {
     "name": "stderr",
     "output_type": "stream",
     "text": [
      "2025-01-21 15:43:08,217 - INFO - Getting citation data for article ID Ztn650AAAAAJ:O3NaXMp0MMsC - URL: /citations?view_op=view_citation&hl=en&user=Ztn650AAAAAJ&cstart=20&pagesize=80&citation_for_view=Ztn650AAAAAJ:O3NaXMp0MMsC\n",
      "2025-01-21 15:43:08,240 - INFO - Accessing article ID Ztn650AAAAAJ:GnPB-g6toBAC with URL /citations?view_op=view_citation&hl=en&user=Ztn650AAAAAJ&cstart=20&pagesize=80&citation_for_view=Ztn650AAAAAJ:GnPB-g6toBAC\n"
     ]
    },
    {
     "name": "stdout",
     "output_type": "stream",
     "text": [
      "No graph bars found for https://scholar.google.com/citations?view_op=view_citation&hl=en&user=Ztn650AAAAAJ&cstart=20&pagesize=80&citation_for_view=Ztn650AAAAAJ:O3NaXMp0MMsC\n"
     ]
    },
    {
     "name": "stderr",
     "output_type": "stream",
     "text": [
      "2025-01-21 15:43:10,638 - INFO - Getting citation data for article ID Ztn650AAAAAJ:GnPB-g6toBAC - URL: /citations?view_op=view_citation&hl=en&user=Ztn650AAAAAJ&cstart=20&pagesize=80&citation_for_view=Ztn650AAAAAJ:GnPB-g6toBAC\n",
      "2025-01-21 15:43:10,651 - INFO - Accessing article ID Ztn650AAAAAJ:YFjsv_pBGBYC with URL /citations?view_op=view_citation&hl=en&user=Ztn650AAAAAJ&cstart=20&pagesize=80&citation_for_view=Ztn650AAAAAJ:YFjsv_pBGBYC\n"
     ]
    },
    {
     "name": "stdout",
     "output_type": "stream",
     "text": [
      "No graph bars found for https://scholar.google.com/citations?view_op=view_citation&hl=en&user=Ztn650AAAAAJ&cstart=20&pagesize=80&citation_for_view=Ztn650AAAAAJ:GnPB-g6toBAC\n"
     ]
    },
    {
     "name": "stderr",
     "output_type": "stream",
     "text": [
      "2025-01-21 15:43:13,015 - INFO - Getting citation data for article ID Ztn650AAAAAJ:YFjsv_pBGBYC - URL: /citations?view_op=view_citation&hl=en&user=Ztn650AAAAAJ&cstart=20&pagesize=80&citation_for_view=Ztn650AAAAAJ:YFjsv_pBGBYC\n",
      "2025-01-21 15:43:13,031 - INFO - Accessing article ID Ztn650AAAAAJ:hMod-77fHWUC with URL /citations?view_op=view_citation&hl=en&user=Ztn650AAAAAJ&cstart=20&pagesize=80&citation_for_view=Ztn650AAAAAJ:hMod-77fHWUC\n"
     ]
    },
    {
     "name": "stdout",
     "output_type": "stream",
     "text": [
      "No graph bars found for https://scholar.google.com/citations?view_op=view_citation&hl=en&user=Ztn650AAAAAJ&cstart=20&pagesize=80&citation_for_view=Ztn650AAAAAJ:YFjsv_pBGBYC\n"
     ]
    },
    {
     "name": "stderr",
     "output_type": "stream",
     "text": [
      "2025-01-21 15:43:15,517 - INFO - Getting citation data for article ID Ztn650AAAAAJ:hMod-77fHWUC - URL: /citations?view_op=view_citation&hl=en&user=Ztn650AAAAAJ&cstart=20&pagesize=80&citation_for_view=Ztn650AAAAAJ:hMod-77fHWUC\n",
      "2025-01-21 15:43:15,531 - INFO - Accessing article ID Ztn650AAAAAJ:JV2RwH3_ST0C with URL /citations?view_op=view_citation&hl=en&user=Ztn650AAAAAJ&cstart=20&pagesize=80&citation_for_view=Ztn650AAAAAJ:JV2RwH3_ST0C\n"
     ]
    },
    {
     "name": "stdout",
     "output_type": "stream",
     "text": [
      "No graph bars found for https://scholar.google.com/citations?view_op=view_citation&hl=en&user=Ztn650AAAAAJ&cstart=20&pagesize=80&citation_for_view=Ztn650AAAAAJ:hMod-77fHWUC\n"
     ]
    },
    {
     "name": "stderr",
     "output_type": "stream",
     "text": [
      "2025-01-21 15:43:18,034 - INFO - Getting citation data for article ID Ztn650AAAAAJ:JV2RwH3_ST0C - URL: /citations?view_op=view_citation&hl=en&user=Ztn650AAAAAJ&cstart=20&pagesize=80&citation_for_view=Ztn650AAAAAJ:JV2RwH3_ST0C\n",
      "2025-01-21 15:43:18,051 - INFO - Accessing article ID Ztn650AAAAAJ:M3NEmzRMIkIC with URL /citations?view_op=view_citation&hl=en&user=Ztn650AAAAAJ&cstart=20&pagesize=80&citation_for_view=Ztn650AAAAAJ:M3NEmzRMIkIC\n"
     ]
    },
    {
     "name": "stdout",
     "output_type": "stream",
     "text": [
      "No graph bars found for https://scholar.google.com/citations?view_op=view_citation&hl=en&user=Ztn650AAAAAJ&cstart=20&pagesize=80&citation_for_view=Ztn650AAAAAJ:JV2RwH3_ST0C\n"
     ]
    },
    {
     "name": "stderr",
     "output_type": "stream",
     "text": [
      "2025-01-21 15:43:21,288 - INFO - Getting citation data for article ID Ztn650AAAAAJ:M3NEmzRMIkIC - URL: /citations?view_op=view_citation&hl=en&user=Ztn650AAAAAJ&cstart=20&pagesize=80&citation_for_view=Ztn650AAAAAJ:M3NEmzRMIkIC\n",
      "2025-01-21 15:43:21,295 - INFO - Accessing article ID Ztn650AAAAAJ:k_IJM867U9cC with URL /citations?view_op=view_citation&hl=en&user=Ztn650AAAAAJ&cstart=20&pagesize=80&citation_for_view=Ztn650AAAAAJ:k_IJM867U9cC\n"
     ]
    },
    {
     "name": "stdout",
     "output_type": "stream",
     "text": [
      "No graph bars found for https://scholar.google.com/citations?view_op=view_citation&hl=en&user=Ztn650AAAAAJ&cstart=20&pagesize=80&citation_for_view=Ztn650AAAAAJ:M3NEmzRMIkIC\n"
     ]
    },
    {
     "name": "stderr",
     "output_type": "stream",
     "text": [
      "2025-01-21 15:43:23,651 - INFO - Getting citation data for article ID Ztn650AAAAAJ:k_IJM867U9cC - URL: /citations?view_op=view_citation&hl=en&user=Ztn650AAAAAJ&cstart=20&pagesize=80&citation_for_view=Ztn650AAAAAJ:k_IJM867U9cC\n",
      "2025-01-21 15:43:23,666 - INFO - Accessing article ID Ztn650AAAAAJ:isC4tDSrTZIC with URL /citations?view_op=view_citation&hl=en&user=Ztn650AAAAAJ&cstart=20&pagesize=80&citation_for_view=Ztn650AAAAAJ:isC4tDSrTZIC\n"
     ]
    },
    {
     "name": "stdout",
     "output_type": "stream",
     "text": [
      "No graph bars found for https://scholar.google.com/citations?view_op=view_citation&hl=en&user=Ztn650AAAAAJ&cstart=20&pagesize=80&citation_for_view=Ztn650AAAAAJ:k_IJM867U9cC\n"
     ]
    },
    {
     "name": "stderr",
     "output_type": "stream",
     "text": [
      "2025-01-21 15:43:26,862 - INFO - Getting citation data for article ID Ztn650AAAAAJ:isC4tDSrTZIC - URL: /citations?view_op=view_citation&hl=en&user=Ztn650AAAAAJ&cstart=20&pagesize=80&citation_for_view=Ztn650AAAAAJ:isC4tDSrTZIC\n",
      "2025-01-21 15:43:26,881 - INFO - Accessing article ID Ztn650AAAAAJ:TFP_iSt0sucC with URL /citations?view_op=view_citation&hl=en&user=Ztn650AAAAAJ&cstart=20&pagesize=80&citation_for_view=Ztn650AAAAAJ:TFP_iSt0sucC\n"
     ]
    },
    {
     "name": "stdout",
     "output_type": "stream",
     "text": [
      "No graph bars found for https://scholar.google.com/citations?view_op=view_citation&hl=en&user=Ztn650AAAAAJ&cstart=20&pagesize=80&citation_for_view=Ztn650AAAAAJ:isC4tDSrTZIC\n"
     ]
    },
    {
     "name": "stderr",
     "output_type": "stream",
     "text": [
      "2025-01-21 15:43:29,280 - INFO - Getting citation data for article ID Ztn650AAAAAJ:TFP_iSt0sucC - URL: /citations?view_op=view_citation&hl=en&user=Ztn650AAAAAJ&cstart=20&pagesize=80&citation_for_view=Ztn650AAAAAJ:TFP_iSt0sucC\n",
      "2025-01-21 15:43:29,296 - INFO - Accessing article ID Ztn650AAAAAJ:bEWYMUwI8FkC with URL /citations?view_op=view_citation&hl=en&user=Ztn650AAAAAJ&cstart=20&pagesize=80&citation_for_view=Ztn650AAAAAJ:bEWYMUwI8FkC\n"
     ]
    },
    {
     "name": "stdout",
     "output_type": "stream",
     "text": [
      "No graph bars found for https://scholar.google.com/citations?view_op=view_citation&hl=en&user=Ztn650AAAAAJ&cstart=20&pagesize=80&citation_for_view=Ztn650AAAAAJ:TFP_iSt0sucC\n"
     ]
    },
    {
     "name": "stderr",
     "output_type": "stream",
     "text": [
      "2025-01-21 15:43:31,628 - INFO - Getting citation data for article ID Ztn650AAAAAJ:bEWYMUwI8FkC - URL: /citations?view_op=view_citation&hl=en&user=Ztn650AAAAAJ&cstart=20&pagesize=80&citation_for_view=Ztn650AAAAAJ:bEWYMUwI8FkC\n",
      "2025-01-21 15:43:31,645 - INFO - Accessing article ID Ztn650AAAAAJ:iH-uZ7U-co4C with URL /citations?view_op=view_citation&hl=en&user=Ztn650AAAAAJ&cstart=20&pagesize=80&citation_for_view=Ztn650AAAAAJ:iH-uZ7U-co4C\n"
     ]
    },
    {
     "name": "stdout",
     "output_type": "stream",
     "text": [
      "No graph bars found for https://scholar.google.com/citations?view_op=view_citation&hl=en&user=Ztn650AAAAAJ&cstart=20&pagesize=80&citation_for_view=Ztn650AAAAAJ:bEWYMUwI8FkC\n"
     ]
    },
    {
     "name": "stderr",
     "output_type": "stream",
     "text": [
      "2025-01-21 15:43:33,971 - INFO - Getting citation data for article ID Ztn650AAAAAJ:iH-uZ7U-co4C - URL: /citations?view_op=view_citation&hl=en&user=Ztn650AAAAAJ&cstart=20&pagesize=80&citation_for_view=Ztn650AAAAAJ:iH-uZ7U-co4C\n",
      "2025-01-21 15:43:33,985 - INFO - Accessing article ID Ztn650AAAAAJ:j3f4tGmQtD8C with URL /citations?view_op=view_citation&hl=en&user=Ztn650AAAAAJ&cstart=20&pagesize=80&citation_for_view=Ztn650AAAAAJ:j3f4tGmQtD8C\n"
     ]
    },
    {
     "name": "stdout",
     "output_type": "stream",
     "text": [
      "No graph bars found for https://scholar.google.com/citations?view_op=view_citation&hl=en&user=Ztn650AAAAAJ&cstart=20&pagesize=80&citation_for_view=Ztn650AAAAAJ:iH-uZ7U-co4C\n"
     ]
    },
    {
     "name": "stderr",
     "output_type": "stream",
     "text": [
      "2025-01-21 15:43:36,669 - INFO - Getting citation data for article ID Ztn650AAAAAJ:j3f4tGmQtD8C - URL: /citations?view_op=view_citation&hl=en&user=Ztn650AAAAAJ&cstart=20&pagesize=80&citation_for_view=Ztn650AAAAAJ:j3f4tGmQtD8C\n",
      "2025-01-21 15:43:36,689 - INFO - Accessing article ID Ztn650AAAAAJ:4JMBOYKVnBMC with URL /citations?view_op=view_citation&hl=en&user=Ztn650AAAAAJ&cstart=20&pagesize=80&citation_for_view=Ztn650AAAAAJ:4JMBOYKVnBMC\n"
     ]
    },
    {
     "name": "stdout",
     "output_type": "stream",
     "text": [
      "No graph bars found for https://scholar.google.com/citations?view_op=view_citation&hl=en&user=Ztn650AAAAAJ&cstart=20&pagesize=80&citation_for_view=Ztn650AAAAAJ:j3f4tGmQtD8C\n"
     ]
    },
    {
     "name": "stderr",
     "output_type": "stream",
     "text": [
      "2025-01-21 15:43:39,686 - INFO - Getting citation data for article ID Ztn650AAAAAJ:4JMBOYKVnBMC - URL: /citations?view_op=view_citation&hl=en&user=Ztn650AAAAAJ&cstart=20&pagesize=80&citation_for_view=Ztn650AAAAAJ:4JMBOYKVnBMC\n",
      "2025-01-21 15:43:39,702 - INFO - Accessing article ID Ztn650AAAAAJ:RHpTSmoSYBkC with URL /citations?view_op=view_citation&hl=en&user=Ztn650AAAAAJ&cstart=20&pagesize=80&citation_for_view=Ztn650AAAAAJ:RHpTSmoSYBkC\n"
     ]
    },
    {
     "name": "stdout",
     "output_type": "stream",
     "text": [
      "No graph bars found for https://scholar.google.com/citations?view_op=view_citation&hl=en&user=Ztn650AAAAAJ&cstart=20&pagesize=80&citation_for_view=Ztn650AAAAAJ:4JMBOYKVnBMC\n"
     ]
    },
    {
     "name": "stderr",
     "output_type": "stream",
     "text": [
      "2025-01-21 15:43:42,087 - INFO - Getting citation data for article ID Ztn650AAAAAJ:RHpTSmoSYBkC - URL: /citations?view_op=view_citation&hl=en&user=Ztn650AAAAAJ&cstart=20&pagesize=80&citation_for_view=Ztn650AAAAAJ:RHpTSmoSYBkC\n",
      "2025-01-21 15:43:42,099 - INFO - Accessing article ID Ztn650AAAAAJ:NMxIlDl6LWMC with URL /citations?view_op=view_citation&hl=en&user=Ztn650AAAAAJ&cstart=20&pagesize=80&citation_for_view=Ztn650AAAAAJ:NMxIlDl6LWMC\n"
     ]
    },
    {
     "name": "stdout",
     "output_type": "stream",
     "text": [
      "No graph bars found for https://scholar.google.com/citations?view_op=view_citation&hl=en&user=Ztn650AAAAAJ&cstart=20&pagesize=80&citation_for_view=Ztn650AAAAAJ:RHpTSmoSYBkC\n"
     ]
    },
    {
     "name": "stderr",
     "output_type": "stream",
     "text": [
      "2025-01-21 15:43:45,883 - INFO - Getting citation data for article ID Ztn650AAAAAJ:NMxIlDl6LWMC - URL: /citations?view_op=view_citation&hl=en&user=Ztn650AAAAAJ&cstart=20&pagesize=80&citation_for_view=Ztn650AAAAAJ:NMxIlDl6LWMC\n",
      "2025-01-21 15:43:45,900 - INFO - Accessing article ID Ztn650AAAAAJ:70eg2SAEIzsC with URL /citations?view_op=view_citation&hl=en&user=Ztn650AAAAAJ&cstart=20&pagesize=80&citation_for_view=Ztn650AAAAAJ:70eg2SAEIzsC\n"
     ]
    },
    {
     "name": "stdout",
     "output_type": "stream",
     "text": [
      "No graph bars found for https://scholar.google.com/citations?view_op=view_citation&hl=en&user=Ztn650AAAAAJ&cstart=20&pagesize=80&citation_for_view=Ztn650AAAAAJ:NMxIlDl6LWMC\n"
     ]
    },
    {
     "name": "stderr",
     "output_type": "stream",
     "text": [
      "2025-01-21 15:43:48,895 - INFO - Getting citation data for article ID Ztn650AAAAAJ:70eg2SAEIzsC - URL: /citations?view_op=view_citation&hl=en&user=Ztn650AAAAAJ&cstart=20&pagesize=80&citation_for_view=Ztn650AAAAAJ:70eg2SAEIzsC\n",
      "2025-01-21 15:43:48,908 - INFO - Accessing article ID Ztn650AAAAAJ:IWHjjKOFINEC with URL /citations?view_op=view_citation&hl=en&user=Ztn650AAAAAJ&cstart=20&pagesize=80&citation_for_view=Ztn650AAAAAJ:IWHjjKOFINEC\n"
     ]
    },
    {
     "name": "stdout",
     "output_type": "stream",
     "text": [
      "No graph bars found for https://scholar.google.com/citations?view_op=view_citation&hl=en&user=Ztn650AAAAAJ&cstart=20&pagesize=80&citation_for_view=Ztn650AAAAAJ:70eg2SAEIzsC\n"
     ]
    },
    {
     "name": "stderr",
     "output_type": "stream",
     "text": [
      "2025-01-21 15:43:51,443 - INFO - Getting citation data for article ID Ztn650AAAAAJ:IWHjjKOFINEC - URL: /citations?view_op=view_citation&hl=en&user=Ztn650AAAAAJ&cstart=20&pagesize=80&citation_for_view=Ztn650AAAAAJ:IWHjjKOFINEC\n",
      "2025-01-21 15:43:51,454 - INFO - Accessing article ID Ztn650AAAAAJ:QIV2ME_5wuYC with URL /citations?view_op=view_citation&hl=en&user=Ztn650AAAAAJ&cstart=20&pagesize=80&citation_for_view=Ztn650AAAAAJ:QIV2ME_5wuYC\n"
     ]
    },
    {
     "name": "stdout",
     "output_type": "stream",
     "text": [
      "No graph bars found for https://scholar.google.com/citations?view_op=view_citation&hl=en&user=Ztn650AAAAAJ&cstart=20&pagesize=80&citation_for_view=Ztn650AAAAAJ:IWHjjKOFINEC\n"
     ]
    },
    {
     "name": "stderr",
     "output_type": "stream",
     "text": [
      "2025-01-21 15:43:54,040 - INFO - Getting citation data for article ID Ztn650AAAAAJ:QIV2ME_5wuYC - URL: /citations?view_op=view_citation&hl=en&user=Ztn650AAAAAJ&cstart=20&pagesize=80&citation_for_view=Ztn650AAAAAJ:QIV2ME_5wuYC\n",
      "2025-01-21 15:43:54,056 - INFO - Accessing article ID Ztn650AAAAAJ:_Qo2XoVZTnwC with URL /citations?view_op=view_citation&hl=en&user=Ztn650AAAAAJ&cstart=20&pagesize=80&citation_for_view=Ztn650AAAAAJ:_Qo2XoVZTnwC\n"
     ]
    },
    {
     "name": "stdout",
     "output_type": "stream",
     "text": [
      "No graph bars found for https://scholar.google.com/citations?view_op=view_citation&hl=en&user=Ztn650AAAAAJ&cstart=20&pagesize=80&citation_for_view=Ztn650AAAAAJ:QIV2ME_5wuYC\n"
     ]
    },
    {
     "name": "stderr",
     "output_type": "stream",
     "text": [
      "2025-01-21 15:43:57,329 - INFO - Getting citation data for article ID Ztn650AAAAAJ:_Qo2XoVZTnwC - URL: /citations?view_op=view_citation&hl=en&user=Ztn650AAAAAJ&cstart=20&pagesize=80&citation_for_view=Ztn650AAAAAJ:_Qo2XoVZTnwC\n",
      "2025-01-21 15:43:57,342 - INFO - Accessing article ID Ztn650AAAAAJ:e5wmG9Sq2KIC with URL /citations?view_op=view_citation&hl=en&user=Ztn650AAAAAJ&cstart=20&pagesize=80&citation_for_view=Ztn650AAAAAJ:e5wmG9Sq2KIC\n"
     ]
    },
    {
     "name": "stdout",
     "output_type": "stream",
     "text": [
      "No graph bars found for https://scholar.google.com/citations?view_op=view_citation&hl=en&user=Ztn650AAAAAJ&cstart=20&pagesize=80&citation_for_view=Ztn650AAAAAJ:_Qo2XoVZTnwC\n"
     ]
    },
    {
     "name": "stderr",
     "output_type": "stream",
     "text": [
      "2025-01-21 15:44:00,978 - INFO - Getting citation data for article ID Ztn650AAAAAJ:e5wmG9Sq2KIC - URL: /citations?view_op=view_citation&hl=en&user=Ztn650AAAAAJ&cstart=20&pagesize=80&citation_for_view=Ztn650AAAAAJ:e5wmG9Sq2KIC\n",
      "2025-01-21 15:44:00,997 - INFO - Accessing article ID Ztn650AAAAAJ:R3hNpaxXUhUC with URL /citations?view_op=view_citation&hl=en&user=Ztn650AAAAAJ&cstart=20&pagesize=80&citation_for_view=Ztn650AAAAAJ:R3hNpaxXUhUC\n"
     ]
    },
    {
     "name": "stdout",
     "output_type": "stream",
     "text": [
      "No graph bars found for https://scholar.google.com/citations?view_op=view_citation&hl=en&user=Ztn650AAAAAJ&cstart=20&pagesize=80&citation_for_view=Ztn650AAAAAJ:e5wmG9Sq2KIC\n"
     ]
    },
    {
     "name": "stderr",
     "output_type": "stream",
     "text": [
      "2025-01-21 15:44:03,314 - INFO - Getting citation data for article ID Ztn650AAAAAJ:R3hNpaxXUhUC - URL: /citations?view_op=view_citation&hl=en&user=Ztn650AAAAAJ&cstart=20&pagesize=80&citation_for_view=Ztn650AAAAAJ:R3hNpaxXUhUC\n",
      "2025-01-21 15:44:03,330 - INFO - Accessing article ID Ztn650AAAAAJ:TQgYirikUcIC with URL /citations?view_op=view_citation&hl=en&user=Ztn650AAAAAJ&cstart=20&pagesize=80&citation_for_view=Ztn650AAAAAJ:TQgYirikUcIC\n"
     ]
    },
    {
     "name": "stdout",
     "output_type": "stream",
     "text": [
      "No graph bars found for https://scholar.google.com/citations?view_op=view_citation&hl=en&user=Ztn650AAAAAJ&cstart=20&pagesize=80&citation_for_view=Ztn650AAAAAJ:R3hNpaxXUhUC\n"
     ]
    },
    {
     "name": "stderr",
     "output_type": "stream",
     "text": [
      "2025-01-21 15:44:05,645 - INFO - Getting citation data for article ID Ztn650AAAAAJ:TQgYirikUcIC - URL: /citations?view_op=view_citation&hl=en&user=Ztn650AAAAAJ&cstart=20&pagesize=80&citation_for_view=Ztn650AAAAAJ:TQgYirikUcIC\n",
      "2025-01-21 15:44:05,652 - INFO - Accessing article ID Ztn650AAAAAJ:HDshCWvjkbEC with URL /citations?view_op=view_citation&hl=en&user=Ztn650AAAAAJ&cstart=20&pagesize=80&citation_for_view=Ztn650AAAAAJ:HDshCWvjkbEC\n"
     ]
    },
    {
     "name": "stdout",
     "output_type": "stream",
     "text": [
      "No graph bars found for https://scholar.google.com/citations?view_op=view_citation&hl=en&user=Ztn650AAAAAJ&cstart=20&pagesize=80&citation_for_view=Ztn650AAAAAJ:TQgYirikUcIC\n"
     ]
    },
    {
     "name": "stderr",
     "output_type": "stream",
     "text": [
      "2025-01-21 15:44:08,007 - INFO - Getting citation data for article ID Ztn650AAAAAJ:HDshCWvjkbEC - URL: /citations?view_op=view_citation&hl=en&user=Ztn650AAAAAJ&cstart=20&pagesize=80&citation_for_view=Ztn650AAAAAJ:HDshCWvjkbEC\n",
      "2025-01-21 15:44:08,022 - INFO - Accessing article ID Ztn650AAAAAJ:hFOr9nPyWt4C with URL /citations?view_op=view_citation&hl=en&user=Ztn650AAAAAJ&cstart=20&pagesize=80&citation_for_view=Ztn650AAAAAJ:hFOr9nPyWt4C\n"
     ]
    },
    {
     "name": "stdout",
     "output_type": "stream",
     "text": [
      "No graph bars found for https://scholar.google.com/citations?view_op=view_citation&hl=en&user=Ztn650AAAAAJ&cstart=20&pagesize=80&citation_for_view=Ztn650AAAAAJ:HDshCWvjkbEC\n"
     ]
    },
    {
     "name": "stderr",
     "output_type": "stream",
     "text": [
      "2025-01-21 15:44:10,577 - INFO - Getting citation data for article ID Ztn650AAAAAJ:hFOr9nPyWt4C - URL: /citations?view_op=view_citation&hl=en&user=Ztn650AAAAAJ&cstart=20&pagesize=80&citation_for_view=Ztn650AAAAAJ:hFOr9nPyWt4C\n",
      "2025-01-21 15:44:10,596 - INFO - Accessing article ID Ztn650AAAAAJ:-f6ydRqryjwC with URL /citations?view_op=view_citation&hl=en&user=Ztn650AAAAAJ&cstart=20&pagesize=80&citation_for_view=Ztn650AAAAAJ:-f6ydRqryjwC\n"
     ]
    },
    {
     "name": "stdout",
     "output_type": "stream",
     "text": [
      "No graph bars found for https://scholar.google.com/citations?view_op=view_citation&hl=en&user=Ztn650AAAAAJ&cstart=20&pagesize=80&citation_for_view=Ztn650AAAAAJ:hFOr9nPyWt4C\n"
     ]
    },
    {
     "name": "stderr",
     "output_type": "stream",
     "text": [
      "2025-01-21 15:44:12,960 - INFO - Getting citation data for article ID Ztn650AAAAAJ:-f6ydRqryjwC - URL: /citations?view_op=view_citation&hl=en&user=Ztn650AAAAAJ&cstart=20&pagesize=80&citation_for_view=Ztn650AAAAAJ:-f6ydRqryjwC\n",
      "2025-01-21 15:44:12,976 - INFO - Accessing article ID Ztn650AAAAAJ:7PzlFSSx8tAC with URL /citations?view_op=view_citation&hl=en&user=Ztn650AAAAAJ&cstart=20&pagesize=80&citation_for_view=Ztn650AAAAAJ:7PzlFSSx8tAC\n"
     ]
    },
    {
     "name": "stdout",
     "output_type": "stream",
     "text": [
      "No graph bars found for https://scholar.google.com/citations?view_op=view_citation&hl=en&user=Ztn650AAAAAJ&cstart=20&pagesize=80&citation_for_view=Ztn650AAAAAJ:-f6ydRqryjwC\n"
     ]
    },
    {
     "name": "stderr",
     "output_type": "stream",
     "text": [
      "2025-01-21 15:44:15,319 - INFO - Getting citation data for article ID Ztn650AAAAAJ:7PzlFSSx8tAC - URL: /citations?view_op=view_citation&hl=en&user=Ztn650AAAAAJ&cstart=20&pagesize=80&citation_for_view=Ztn650AAAAAJ:7PzlFSSx8tAC\n",
      "2025-01-21 15:44:15,338 - INFO - Accessing article ID Ztn650AAAAAJ:qxL8FJ1GzNcC with URL /citations?view_op=view_citation&hl=en&user=Ztn650AAAAAJ&cstart=20&pagesize=80&citation_for_view=Ztn650AAAAAJ:qxL8FJ1GzNcC\n"
     ]
    },
    {
     "name": "stdout",
     "output_type": "stream",
     "text": [
      "No graph bars found for https://scholar.google.com/citations?view_op=view_citation&hl=en&user=Ztn650AAAAAJ&cstart=20&pagesize=80&citation_for_view=Ztn650AAAAAJ:7PzlFSSx8tAC\n"
     ]
    },
    {
     "name": "stderr",
     "output_type": "stream",
     "text": [
      "2025-01-21 15:44:17,697 - INFO - Getting citation data for article ID Ztn650AAAAAJ:qxL8FJ1GzNcC - URL: /citations?view_op=view_citation&hl=en&user=Ztn650AAAAAJ&cstart=20&pagesize=80&citation_for_view=Ztn650AAAAAJ:qxL8FJ1GzNcC\n",
      "2025-01-21 15:44:17,713 - INFO - Accessing article ID Ztn650AAAAAJ:M3ejUd6NZC8C with URL /citations?view_op=view_citation&hl=en&user=Ztn650AAAAAJ&cstart=20&pagesize=80&citation_for_view=Ztn650AAAAAJ:M3ejUd6NZC8C\n"
     ]
    },
    {
     "name": "stdout",
     "output_type": "stream",
     "text": [
      "No graph bars found for https://scholar.google.com/citations?view_op=view_citation&hl=en&user=Ztn650AAAAAJ&cstart=20&pagesize=80&citation_for_view=Ztn650AAAAAJ:qxL8FJ1GzNcC\n"
     ]
    },
    {
     "name": "stderr",
     "output_type": "stream",
     "text": [
      "2025-01-21 15:44:21,369 - INFO - Getting citation data for article ID Ztn650AAAAAJ:M3ejUd6NZC8C - URL: /citations?view_op=view_citation&hl=en&user=Ztn650AAAAAJ&cstart=20&pagesize=80&citation_for_view=Ztn650AAAAAJ:M3ejUd6NZC8C\n",
      "2025-01-21 15:44:21,385 - INFO - Accessing article ID Ztn650AAAAAJ:Zph67rFs4hoC with URL /citations?view_op=view_citation&hl=en&user=Ztn650AAAAAJ&cstart=20&pagesize=80&citation_for_view=Ztn650AAAAAJ:Zph67rFs4hoC\n"
     ]
    },
    {
     "name": "stdout",
     "output_type": "stream",
     "text": [
      "No graph bars found for https://scholar.google.com/citations?view_op=view_citation&hl=en&user=Ztn650AAAAAJ&cstart=20&pagesize=80&citation_for_view=Ztn650AAAAAJ:M3ejUd6NZC8C\n"
     ]
    },
    {
     "name": "stderr",
     "output_type": "stream",
     "text": [
      "2025-01-21 15:44:23,738 - INFO - Getting citation data for article ID Ztn650AAAAAJ:Zph67rFs4hoC - URL: /citations?view_op=view_citation&hl=en&user=Ztn650AAAAAJ&cstart=20&pagesize=80&citation_for_view=Ztn650AAAAAJ:Zph67rFs4hoC\n",
      "2025-01-21 15:44:23,757 - INFO - Accessing article ID Ztn650AAAAAJ:ULOm3_A8WrAC with URL /citations?view_op=view_citation&hl=en&user=Ztn650AAAAAJ&cstart=20&pagesize=80&citation_for_view=Ztn650AAAAAJ:ULOm3_A8WrAC\n"
     ]
    },
    {
     "name": "stdout",
     "output_type": "stream",
     "text": [
      "No graph bars found for https://scholar.google.com/citations?view_op=view_citation&hl=en&user=Ztn650AAAAAJ&cstart=20&pagesize=80&citation_for_view=Ztn650AAAAAJ:Zph67rFs4hoC\n"
     ]
    },
    {
     "name": "stderr",
     "output_type": "stream",
     "text": [
      "2025-01-21 15:44:34,211 - INFO - Getting citation data for article ID Ztn650AAAAAJ:ULOm3_A8WrAC - URL: /citations?view_op=view_citation&hl=en&user=Ztn650AAAAAJ&cstart=20&pagesize=80&citation_for_view=Ztn650AAAAAJ:ULOm3_A8WrAC\n",
      "2025-01-21 15:44:34,226 - INFO - Accessing article ID Ztn650AAAAAJ:YOwf2qJgpHMC with URL /citations?view_op=view_citation&hl=en&user=Ztn650AAAAAJ&cstart=20&pagesize=80&citation_for_view=Ztn650AAAAAJ:YOwf2qJgpHMC\n"
     ]
    },
    {
     "name": "stdout",
     "output_type": "stream",
     "text": [
      "No graph bars found for https://scholar.google.com/citations?view_op=view_citation&hl=en&user=Ztn650AAAAAJ&cstart=20&pagesize=80&citation_for_view=Ztn650AAAAAJ:ULOm3_A8WrAC\n"
     ]
    },
    {
     "name": "stderr",
     "output_type": "stream",
     "text": [
      "2025-01-21 15:44:36,959 - INFO - Getting citation data for article ID Ztn650AAAAAJ:YOwf2qJgpHMC - URL: /citations?view_op=view_citation&hl=en&user=Ztn650AAAAAJ&cstart=20&pagesize=80&citation_for_view=Ztn650AAAAAJ:YOwf2qJgpHMC\n",
      "2025-01-21 15:44:36,978 - INFO - Accessing article ID Ztn650AAAAAJ:5nxA0vEk-isC with URL /citations?view_op=view_citation&hl=en&user=Ztn650AAAAAJ&cstart=20&pagesize=80&citation_for_view=Ztn650AAAAAJ:5nxA0vEk-isC\n"
     ]
    },
    {
     "name": "stdout",
     "output_type": "stream",
     "text": [
      "No graph bars found for https://scholar.google.com/citations?view_op=view_citation&hl=en&user=Ztn650AAAAAJ&cstart=20&pagesize=80&citation_for_view=Ztn650AAAAAJ:YOwf2qJgpHMC\n"
     ]
    },
    {
     "name": "stderr",
     "output_type": "stream",
     "text": [
      "2025-01-21 15:44:39,324 - INFO - Getting citation data for article ID Ztn650AAAAAJ:5nxA0vEk-isC - URL: /citations?view_op=view_citation&hl=en&user=Ztn650AAAAAJ&cstart=20&pagesize=80&citation_for_view=Ztn650AAAAAJ:5nxA0vEk-isC\n",
      "2025-01-21 15:44:39,344 - INFO - Accessing article ID Ztn650AAAAAJ:4DMP91E08xMC with URL /citations?view_op=view_citation&hl=en&user=Ztn650AAAAAJ&cstart=20&pagesize=80&citation_for_view=Ztn650AAAAAJ:4DMP91E08xMC\n"
     ]
    },
    {
     "name": "stdout",
     "output_type": "stream",
     "text": [
      "No graph bars found for https://scholar.google.com/citations?view_op=view_citation&hl=en&user=Ztn650AAAAAJ&cstart=20&pagesize=80&citation_for_view=Ztn650AAAAAJ:5nxA0vEk-isC\n"
     ]
    },
    {
     "name": "stderr",
     "output_type": "stream",
     "text": [
      "2025-01-21 15:44:41,686 - INFO - Getting citation data for article ID Ztn650AAAAAJ:4DMP91E08xMC - URL: /citations?view_op=view_citation&hl=en&user=Ztn650AAAAAJ&cstart=20&pagesize=80&citation_for_view=Ztn650AAAAAJ:4DMP91E08xMC\n",
      "2025-01-21 15:44:41,706 - INFO - Accessing article ID Ztn650AAAAAJ:0EnyYjriUFMC with URL /citations?view_op=view_citation&hl=en&user=Ztn650AAAAAJ&cstart=20&pagesize=80&citation_for_view=Ztn650AAAAAJ:0EnyYjriUFMC\n"
     ]
    },
    {
     "name": "stdout",
     "output_type": "stream",
     "text": [
      "No graph bars found for https://scholar.google.com/citations?view_op=view_citation&hl=en&user=Ztn650AAAAAJ&cstart=20&pagesize=80&citation_for_view=Ztn650AAAAAJ:4DMP91E08xMC\n"
     ]
    },
    {
     "name": "stderr",
     "output_type": "stream",
     "text": [
      "2025-01-21 15:44:44,072 - INFO - Getting citation data for article ID Ztn650AAAAAJ:0EnyYjriUFMC - URL: /citations?view_op=view_citation&hl=en&user=Ztn650AAAAAJ&cstart=20&pagesize=80&citation_for_view=Ztn650AAAAAJ:0EnyYjriUFMC\n",
      "2025-01-21 15:44:44,090 - INFO - Accessing article ID Ztn650AAAAAJ:UebtZRa9Y70C with URL /citations?view_op=view_citation&hl=en&user=Ztn650AAAAAJ&cstart=20&pagesize=80&citation_for_view=Ztn650AAAAAJ:UebtZRa9Y70C\n"
     ]
    },
    {
     "name": "stdout",
     "output_type": "stream",
     "text": [
      "No graph bars found for https://scholar.google.com/citations?view_op=view_citation&hl=en&user=Ztn650AAAAAJ&cstart=20&pagesize=80&citation_for_view=Ztn650AAAAAJ:0EnyYjriUFMC\n"
     ]
    },
    {
     "name": "stderr",
     "output_type": "stream",
     "text": [
      "2025-01-21 15:44:46,476 - INFO - Getting citation data for article ID Ztn650AAAAAJ:UebtZRa9Y70C - URL: /citations?view_op=view_citation&hl=en&user=Ztn650AAAAAJ&cstart=20&pagesize=80&citation_for_view=Ztn650AAAAAJ:UebtZRa9Y70C\n",
      "2025-01-21 15:44:46,491 - INFO - Accessing article ID Ztn650AAAAAJ:Tyk-4Ss8FVUC with URL /citations?view_op=view_citation&hl=en&user=Ztn650AAAAAJ&cstart=20&pagesize=80&citation_for_view=Ztn650AAAAAJ:Tyk-4Ss8FVUC\n"
     ]
    },
    {
     "name": "stdout",
     "output_type": "stream",
     "text": [
      "No graph bars found for https://scholar.google.com/citations?view_op=view_citation&hl=en&user=Ztn650AAAAAJ&cstart=20&pagesize=80&citation_for_view=Ztn650AAAAAJ:UebtZRa9Y70C\n"
     ]
    },
    {
     "name": "stderr",
     "output_type": "stream",
     "text": [
      "2025-01-21 15:44:49,795 - INFO - Getting citation data for article ID Ztn650AAAAAJ:Tyk-4Ss8FVUC - URL: /citations?view_op=view_citation&hl=en&user=Ztn650AAAAAJ&cstart=20&pagesize=80&citation_for_view=Ztn650AAAAAJ:Tyk-4Ss8FVUC\n",
      "2025-01-21 15:44:49,812 - INFO - Accessing article ID Ztn650AAAAAJ:2osOgNQ5qMEC with URL /citations?view_op=view_citation&hl=en&user=Ztn650AAAAAJ&cstart=20&pagesize=80&citation_for_view=Ztn650AAAAAJ:2osOgNQ5qMEC\n"
     ]
    },
    {
     "name": "stdout",
     "output_type": "stream",
     "text": [
      "No graph bars found for https://scholar.google.com/citations?view_op=view_citation&hl=en&user=Ztn650AAAAAJ&cstart=20&pagesize=80&citation_for_view=Ztn650AAAAAJ:Tyk-4Ss8FVUC\n"
     ]
    },
    {
     "name": "stderr",
     "output_type": "stream",
     "text": [
      "2025-01-21 15:44:52,950 - INFO - Getting citation data for article ID Ztn650AAAAAJ:2osOgNQ5qMEC - URL: /citations?view_op=view_citation&hl=en&user=Ztn650AAAAAJ&cstart=20&pagesize=80&citation_for_view=Ztn650AAAAAJ:2osOgNQ5qMEC\n",
      "2025-01-21 15:44:52,967 - INFO - Accessing article ID Ztn650AAAAAJ:35N4QoGY0k4C with URL /citations?view_op=view_citation&hl=en&user=Ztn650AAAAAJ&cstart=20&pagesize=80&citation_for_view=Ztn650AAAAAJ:35N4QoGY0k4C\n"
     ]
    },
    {
     "name": "stdout",
     "output_type": "stream",
     "text": [
      "No graph bars found for https://scholar.google.com/citations?view_op=view_citation&hl=en&user=Ztn650AAAAAJ&cstart=20&pagesize=80&citation_for_view=Ztn650AAAAAJ:2osOgNQ5qMEC\n"
     ]
    },
    {
     "name": "stderr",
     "output_type": "stream",
     "text": [
      "2025-01-21 15:44:55,399 - INFO - Getting citation data for article ID Ztn650AAAAAJ:35N4QoGY0k4C - URL: /citations?view_op=view_citation&hl=en&user=Ztn650AAAAAJ&cstart=20&pagesize=80&citation_for_view=Ztn650AAAAAJ:35N4QoGY0k4C\n",
      "2025-01-21 15:44:55,415 - INFO - Accessing article ID Ztn650AAAAAJ:3fE2CSJIrl8C with URL /citations?view_op=view_citation&hl=en&user=Ztn650AAAAAJ&cstart=20&pagesize=80&citation_for_view=Ztn650AAAAAJ:3fE2CSJIrl8C\n"
     ]
    },
    {
     "name": "stdout",
     "output_type": "stream",
     "text": [
      "No graph bars found for https://scholar.google.com/citations?view_op=view_citation&hl=en&user=Ztn650AAAAAJ&cstart=20&pagesize=80&citation_for_view=Ztn650AAAAAJ:35N4QoGY0k4C\n"
     ]
    },
    {
     "name": "stderr",
     "output_type": "stream",
     "text": [
      "2025-01-21 15:44:57,793 - INFO - Getting citation data for article ID Ztn650AAAAAJ:3fE2CSJIrl8C - URL: /citations?view_op=view_citation&hl=en&user=Ztn650AAAAAJ&cstart=20&pagesize=80&citation_for_view=Ztn650AAAAAJ:3fE2CSJIrl8C\n",
      "2025-01-21 15:44:57,808 - INFO - Accessing article ID Ztn650AAAAAJ:ufrVoPGSRksC with URL /citations?view_op=view_citation&hl=en&user=Ztn650AAAAAJ&cstart=20&pagesize=80&citation_for_view=Ztn650AAAAAJ:ufrVoPGSRksC\n"
     ]
    },
    {
     "name": "stdout",
     "output_type": "stream",
     "text": [
      "No graph bars found for https://scholar.google.com/citations?view_op=view_citation&hl=en&user=Ztn650AAAAAJ&cstart=20&pagesize=80&citation_for_view=Ztn650AAAAAJ:3fE2CSJIrl8C\n"
     ]
    },
    {
     "name": "stderr",
     "output_type": "stream",
     "text": [
      "2025-01-21 15:45:00,789 - INFO - Getting citation data for article ID Ztn650AAAAAJ:ufrVoPGSRksC - URL: /citations?view_op=view_citation&hl=en&user=Ztn650AAAAAJ&cstart=20&pagesize=80&citation_for_view=Ztn650AAAAAJ:ufrVoPGSRksC\n",
      "2025-01-21 15:45:00,804 - INFO - Accessing article ID Ztn650AAAAAJ:zYLM7Y9cAGgC with URL /citations?view_op=view_citation&hl=en&user=Ztn650AAAAAJ&cstart=20&pagesize=80&citation_for_view=Ztn650AAAAAJ:zYLM7Y9cAGgC\n"
     ]
    },
    {
     "name": "stdout",
     "output_type": "stream",
     "text": [
      "No graph bars found for https://scholar.google.com/citations?view_op=view_citation&hl=en&user=Ztn650AAAAAJ&cstart=20&pagesize=80&citation_for_view=Ztn650AAAAAJ:ufrVoPGSRksC\n"
     ]
    },
    {
     "name": "stderr",
     "output_type": "stream",
     "text": [
      "2025-01-21 15:45:03,733 - INFO - Getting citation data for article ID Ztn650AAAAAJ:zYLM7Y9cAGgC - URL: /citations?view_op=view_citation&hl=en&user=Ztn650AAAAAJ&cstart=20&pagesize=80&citation_for_view=Ztn650AAAAAJ:zYLM7Y9cAGgC\n",
      "2025-01-21 15:45:03,750 - INFO - Accessing article ID Ztn650AAAAAJ:IjCSPb-OGe4C with URL /citations?view_op=view_citation&hl=en&user=Ztn650AAAAAJ&cstart=20&pagesize=80&citation_for_view=Ztn650AAAAAJ:IjCSPb-OGe4C\n"
     ]
    },
    {
     "name": "stdout",
     "output_type": "stream",
     "text": [
      "No graph bars found for https://scholar.google.com/citations?view_op=view_citation&hl=en&user=Ztn650AAAAAJ&cstart=20&pagesize=80&citation_for_view=Ztn650AAAAAJ:zYLM7Y9cAGgC\n"
     ]
    },
    {
     "name": "stderr",
     "output_type": "stream",
     "text": [
      "2025-01-21 15:45:06,089 - INFO - Getting citation data for article ID Ztn650AAAAAJ:IjCSPb-OGe4C - URL: /citations?view_op=view_citation&hl=en&user=Ztn650AAAAAJ&cstart=20&pagesize=80&citation_for_view=Ztn650AAAAAJ:IjCSPb-OGe4C\n"
     ]
    },
    {
     "name": "stdout",
     "output_type": "stream",
     "text": [
      "No graph bars found for https://scholar.google.com/citations?view_op=view_citation&hl=en&user=Ztn650AAAAAJ&cstart=20&pagesize=80&citation_for_view=Ztn650AAAAAJ:IjCSPb-OGe4C\n",
      "                  article_id  year citations\n",
      "0  qjU7YEgAAAAJ:ufrVoPGSRksC  2021         6\n",
      "1  qjU7YEgAAAAJ:ufrVoPGSRksC  2022        16\n",
      "2  qjU7YEgAAAAJ:ufrVoPGSRksC  2023        18\n",
      "3  qjU7YEgAAAAJ:ufrVoPGSRksC  2024        16\n",
      "4  qjU7YEgAAAAJ:ULOm3_A8WrAC  2020         3\n"
     ]
    }
   ],
   "source": [
    "def get_citation_data(article_id, article_url, delay_times=2.0):\n",
    "\turl = f'https://scholar.google.com{article_url}'\n",
    "\ttry:\n",
    "\t\tbrowser.get(url)\n",
    "\t\ttime.sleep(delay_times)  # Wait for the page to load\n",
    "\t\tlogging.info(f'Getting citation data for article ID {article_id} - URL: {url}')\n",
    "\t\thtml = browser.page_source\n",
    "\t\tsoup = BeautifulSoup(html, 'html.parser')\n",
    "\n",
    "\t\tcitations_per_year = {}\n",
    "\n",
    "\t\t# Find the graph wrapper\n",
    "\t\tgraph_bars = soup.find('div', id='gsc_oci_graph_bars')\n",
    "\t\tif not graph_bars:\n",
    "\t\t\tprint(f\"No graph bars found for {url}\")\n",
    "\t\t\treturn citations_per_year\n",
    "\n",
    "\t\t# Extract year labels and citation counts\n",
    "\t\tyears = graph_bars.find_all('span', class_='gsc_oci_g_t')\n",
    "\t\tcitation_bars = graph_bars.find_all('a', class_='gsc_oci_g_a')\n",
    "\n",
    "\t\t# Ensure consistent pairing\n",
    "\t\tfor year, bar in zip(years, citation_bars):\n",
    "\t\t\tyear_value = year.text.strip()\n",
    "\t\t\tcitation_count = bar.find('span', class_='gsc_oci_g_al').text.strip()\n",
    "\t\t\tcitations_per_year[year_value] = int(citation_count)\n",
    "\t\t\tlogging.info(f'Citation data for article ID {article_id}: , year: {year_value}, num of citation: {citations_per_year}')\n",
    "\t\t\n",
    "\t\treturn citations_per_year\n",
    "\texcept Exception as e:\n",
    "\t\tprint(f'Error accessing {url}: {e}')\n",
    "\t\treturn {}\n",
    "\n",
    "browser = webdriver.Chrome(service=ChromeService(ChromeDriverManager().install()), options=options)\n",
    "\n",
    "# DataFrame to store citation information\n",
    "citation_infos_df = pd.DataFrame(columns=['article_id', 'year', 'citations'])\n",
    "\n",
    "# Process each article\n",
    "for index, row in results_df.iterrows():\n",
    "\tarticle_id = row['article_id']\n",
    "\tarticle_url = row['article_url']\n",
    "\tlogging.info(f\"Accessing article ID {article_id} with URL {article_url}\")\n",
    "\n",
    "\tcitations_per_year = get_citation_data(article_id, article_url)\n",
    "\n",
    "\t# Insert citation data into DataFrame\n",
    "\tfor year, citations in citations_per_year.items():\n",
    "\t\tcitation_infos_df = pd.concat([\n",
    "\t\t\tcitation_infos_df,\n",
    "\t\t\tpd.DataFrame({'article_id': [article_id], 'year': [year], 'citations': [citations]})\n",
    "\t\t], ignore_index=True)\n",
    "\t\tlogging.info(f\"Inserting citation data for article ID {article_id}: year: {year}, num of citation: {citations}\")\n",
    "\n",
    "# Close the browser\n",
    "browser.quit()\n",
    "\n",
    "# Display the DataFrame\n",
    "print(citation_infos_df.head())"
   ]
  },
  {
   "cell_type": "code",
   "execution_count": 5,
   "metadata": {},
   "outputs": [
    {
     "data": {
      "text/html": [
       "<div>\n",
       "<style scoped>\n",
       "    .dataframe tbody tr th:only-of-type {\n",
       "        vertical-align: middle;\n",
       "    }\n",
       "\n",
       "    .dataframe tbody tr th {\n",
       "        vertical-align: top;\n",
       "    }\n",
       "\n",
       "    .dataframe thead th {\n",
       "        text-align: right;\n",
       "    }\n",
       "</style>\n",
       "<table border=\"1\" class=\"dataframe\">\n",
       "  <thead>\n",
       "    <tr style=\"text-align: right;\">\n",
       "      <th></th>\n",
       "      <th>article_id</th>\n",
       "      <th>year</th>\n",
       "      <th>citations</th>\n",
       "    </tr>\n",
       "  </thead>\n",
       "  <tbody>\n",
       "    <tr>\n",
       "      <th>131</th>\n",
       "      <td>Ztn650AAAAAJ:roLk4NBRz8UC</td>\n",
       "      <td>2023</td>\n",
       "      <td>1</td>\n",
       "    </tr>\n",
       "    <tr>\n",
       "      <th>132</th>\n",
       "      <td>Ztn650AAAAAJ:WF5omc3nYNoC</td>\n",
       "      <td>2022</td>\n",
       "      <td>1</td>\n",
       "    </tr>\n",
       "    <tr>\n",
       "      <th>133</th>\n",
       "      <td>Ztn650AAAAAJ:W7OEmFMy1HYC</td>\n",
       "      <td>2025</td>\n",
       "      <td>1</td>\n",
       "    </tr>\n",
       "    <tr>\n",
       "      <th>134</th>\n",
       "      <td>Ztn650AAAAAJ:Y0pCki6q_DkC</td>\n",
       "      <td>2022</td>\n",
       "      <td>1</td>\n",
       "    </tr>\n",
       "    <tr>\n",
       "      <th>135</th>\n",
       "      <td>Ztn650AAAAAJ:d1gkVwhDpl0C</td>\n",
       "      <td>2023</td>\n",
       "      <td>1</td>\n",
       "    </tr>\n",
       "  </tbody>\n",
       "</table>\n",
       "</div>"
      ],
      "text/plain": [
       "                    article_id  year citations\n",
       "131  Ztn650AAAAAJ:roLk4NBRz8UC  2023         1\n",
       "132  Ztn650AAAAAJ:WF5omc3nYNoC  2022         1\n",
       "133  Ztn650AAAAAJ:W7OEmFMy1HYC  2025         1\n",
       "134  Ztn650AAAAAJ:Y0pCki6q_DkC  2022         1\n",
       "135  Ztn650AAAAAJ:d1gkVwhDpl0C  2023         1"
      ]
     },
     "execution_count": 5,
     "metadata": {},
     "output_type": "execute_result"
    }
   ],
   "source": [
    "citation_infos_df.tail()"
   ]
  },
  {
   "cell_type": "code",
   "execution_count": 6,
   "metadata": {},
   "outputs": [
    {
     "data": {
      "text/html": [
       "<div>\n",
       "<style scoped>\n",
       "    .dataframe tbody tr th:only-of-type {\n",
       "        vertical-align: middle;\n",
       "    }\n",
       "\n",
       "    .dataframe tbody tr th {\n",
       "        vertical-align: top;\n",
       "    }\n",
       "\n",
       "    .dataframe thead th {\n",
       "        text-align: right;\n",
       "    }\n",
       "</style>\n",
       "<table border=\"1\" class=\"dataframe\">\n",
       "  <thead>\n",
       "    <tr style=\"text-align: right;\">\n",
       "      <th></th>\n",
       "      <th>article_id</th>\n",
       "      <th>year_x</th>\n",
       "      <th>citations_x</th>\n",
       "      <th>scholar_id</th>\n",
       "      <th>title</th>\n",
       "      <th>authors</th>\n",
       "      <th>publisher</th>\n",
       "      <th>year_y</th>\n",
       "      <th>citations_y</th>\n",
       "      <th>article_url</th>\n",
       "      <th>NO</th>\n",
       "      <th>NIDN</th>\n",
       "      <th>NAMA</th>\n",
       "      <th>NAMA DOSEN DENGAN GELAR</th>\n",
       "      <th>JAFUNG</th>\n",
       "      <th>SERDOS</th>\n",
       "    </tr>\n",
       "  </thead>\n",
       "  <tbody>\n",
       "    <tr>\n",
       "      <th>0</th>\n",
       "      <td>qjU7YEgAAAAJ:ufrVoPGSRksC</td>\n",
       "      <td>2021</td>\n",
       "      <td>6</td>\n",
       "      <td>qjU7YEgAAAAJ</td>\n",
       "      <td>Konsep Algoritme dan Aplikasinya dalam Bahasa ...</td>\n",
       "      <td>S Hanief, IW Jepriana</td>\n",
       "      <td>Penerbit Andi, 2020</td>\n",
       "      <td>2020</td>\n",
       "      <td>61</td>\n",
       "      <td>/citations?view_op=view_citation&amp;hl=en&amp;user=qj...</td>\n",
       "      <td>39</td>\n",
       "      <td>806079201.0</td>\n",
       "      <td>I WAYAN JEPRIANA</td>\n",
       "      <td>I WAYAN JEPRIANA, S.Kom., M.Cs</td>\n",
       "      <td>Asisten Ahli</td>\n",
       "      <td>2024.0</td>\n",
       "    </tr>\n",
       "    <tr>\n",
       "      <th>1</th>\n",
       "      <td>qjU7YEgAAAAJ:ufrVoPGSRksC</td>\n",
       "      <td>2022</td>\n",
       "      <td>16</td>\n",
       "      <td>qjU7YEgAAAAJ</td>\n",
       "      <td>Konsep Algoritme dan Aplikasinya dalam Bahasa ...</td>\n",
       "      <td>S Hanief, IW Jepriana</td>\n",
       "      <td>Penerbit Andi, 2020</td>\n",
       "      <td>2020</td>\n",
       "      <td>61</td>\n",
       "      <td>/citations?view_op=view_citation&amp;hl=en&amp;user=qj...</td>\n",
       "      <td>39</td>\n",
       "      <td>806079201.0</td>\n",
       "      <td>I WAYAN JEPRIANA</td>\n",
       "      <td>I WAYAN JEPRIANA, S.Kom., M.Cs</td>\n",
       "      <td>Asisten Ahli</td>\n",
       "      <td>2024.0</td>\n",
       "    </tr>\n",
       "    <tr>\n",
       "      <th>2</th>\n",
       "      <td>qjU7YEgAAAAJ:ufrVoPGSRksC</td>\n",
       "      <td>2023</td>\n",
       "      <td>18</td>\n",
       "      <td>qjU7YEgAAAAJ</td>\n",
       "      <td>Konsep Algoritme dan Aplikasinya dalam Bahasa ...</td>\n",
       "      <td>S Hanief, IW Jepriana</td>\n",
       "      <td>Penerbit Andi, 2020</td>\n",
       "      <td>2020</td>\n",
       "      <td>61</td>\n",
       "      <td>/citations?view_op=view_citation&amp;hl=en&amp;user=qj...</td>\n",
       "      <td>39</td>\n",
       "      <td>806079201.0</td>\n",
       "      <td>I WAYAN JEPRIANA</td>\n",
       "      <td>I WAYAN JEPRIANA, S.Kom., M.Cs</td>\n",
       "      <td>Asisten Ahli</td>\n",
       "      <td>2024.0</td>\n",
       "    </tr>\n",
       "    <tr>\n",
       "      <th>3</th>\n",
       "      <td>qjU7YEgAAAAJ:ufrVoPGSRksC</td>\n",
       "      <td>2024</td>\n",
       "      <td>16</td>\n",
       "      <td>qjU7YEgAAAAJ</td>\n",
       "      <td>Konsep Algoritme dan Aplikasinya dalam Bahasa ...</td>\n",
       "      <td>S Hanief, IW Jepriana</td>\n",
       "      <td>Penerbit Andi, 2020</td>\n",
       "      <td>2020</td>\n",
       "      <td>61</td>\n",
       "      <td>/citations?view_op=view_citation&amp;hl=en&amp;user=qj...</td>\n",
       "      <td>39</td>\n",
       "      <td>806079201.0</td>\n",
       "      <td>I WAYAN JEPRIANA</td>\n",
       "      <td>I WAYAN JEPRIANA, S.Kom., M.Cs</td>\n",
       "      <td>Asisten Ahli</td>\n",
       "      <td>2024.0</td>\n",
       "    </tr>\n",
       "    <tr>\n",
       "      <th>4</th>\n",
       "      <td>qjU7YEgAAAAJ:ULOm3_A8WrAC</td>\n",
       "      <td>2020</td>\n",
       "      <td>3</td>\n",
       "      <td>qjU7YEgAAAAJ</td>\n",
       "      <td>Framework Itil V3 Domain Service Operation Dal...</td>\n",
       "      <td>S Hanief, IW Jefriana</td>\n",
       "      <td>Jurnal Teknologi Informasi dan Komputer 4 (1),...</td>\n",
       "      <td>2018</td>\n",
       "      <td>47</td>\n",
       "      <td>/citations?view_op=view_citation&amp;hl=en&amp;user=qj...</td>\n",
       "      <td>39</td>\n",
       "      <td>806079201.0</td>\n",
       "      <td>I WAYAN JEPRIANA</td>\n",
       "      <td>I WAYAN JEPRIANA, S.Kom., M.Cs</td>\n",
       "      <td>Asisten Ahli</td>\n",
       "      <td>2024.0</td>\n",
       "    </tr>\n",
       "  </tbody>\n",
       "</table>\n",
       "</div>"
      ],
      "text/plain": [
       "                  article_id year_x citations_x    scholar_id  \\\n",
       "0  qjU7YEgAAAAJ:ufrVoPGSRksC   2021           6  qjU7YEgAAAAJ   \n",
       "1  qjU7YEgAAAAJ:ufrVoPGSRksC   2022          16  qjU7YEgAAAAJ   \n",
       "2  qjU7YEgAAAAJ:ufrVoPGSRksC   2023          18  qjU7YEgAAAAJ   \n",
       "3  qjU7YEgAAAAJ:ufrVoPGSRksC   2024          16  qjU7YEgAAAAJ   \n",
       "4  qjU7YEgAAAAJ:ULOm3_A8WrAC   2020           3  qjU7YEgAAAAJ   \n",
       "\n",
       "                                               title                authors  \\\n",
       "0  Konsep Algoritme dan Aplikasinya dalam Bahasa ...  S Hanief, IW Jepriana   \n",
       "1  Konsep Algoritme dan Aplikasinya dalam Bahasa ...  S Hanief, IW Jepriana   \n",
       "2  Konsep Algoritme dan Aplikasinya dalam Bahasa ...  S Hanief, IW Jepriana   \n",
       "3  Konsep Algoritme dan Aplikasinya dalam Bahasa ...  S Hanief, IW Jepriana   \n",
       "4  Framework Itil V3 Domain Service Operation Dal...  S Hanief, IW Jefriana   \n",
       "\n",
       "                                           publisher year_y citations_y  \\\n",
       "0                                Penerbit Andi, 2020   2020          61   \n",
       "1                                Penerbit Andi, 2020   2020          61   \n",
       "2                                Penerbit Andi, 2020   2020          61   \n",
       "3                                Penerbit Andi, 2020   2020          61   \n",
       "4  Jurnal Teknologi Informasi dan Komputer 4 (1),...   2018          47   \n",
       "\n",
       "                                         article_url  NO         NIDN  \\\n",
       "0  /citations?view_op=view_citation&hl=en&user=qj...  39  806079201.0   \n",
       "1  /citations?view_op=view_citation&hl=en&user=qj...  39  806079201.0   \n",
       "2  /citations?view_op=view_citation&hl=en&user=qj...  39  806079201.0   \n",
       "3  /citations?view_op=view_citation&hl=en&user=qj...  39  806079201.0   \n",
       "4  /citations?view_op=view_citation&hl=en&user=qj...  39  806079201.0   \n",
       "\n",
       "               NAMA         NAMA DOSEN DENGAN GELAR        JAFUNG  SERDOS  \n",
       "0  I WAYAN JEPRIANA  I WAYAN JEPRIANA, S.Kom., M.Cs  Asisten Ahli  2024.0  \n",
       "1  I WAYAN JEPRIANA  I WAYAN JEPRIANA, S.Kom., M.Cs  Asisten Ahli  2024.0  \n",
       "2  I WAYAN JEPRIANA  I WAYAN JEPRIANA, S.Kom., M.Cs  Asisten Ahli  2024.0  \n",
       "3  I WAYAN JEPRIANA  I WAYAN JEPRIANA, S.Kom., M.Cs  Asisten Ahli  2024.0  \n",
       "4  I WAYAN JEPRIANA  I WAYAN JEPRIANA, S.Kom., M.Cs  Asisten Ahli  2024.0  "
      ]
     },
     "execution_count": 6,
     "metadata": {},
     "output_type": "execute_result"
    }
   ],
   "source": [
    "# Merge citation_infos_df with results_df on article_id\n",
    "merged_df = pd.merge(citation_infos_df, results_df, on='article_id', how='inner')\n",
    "\n",
    "# Join the merged_df with df_samples on scholar_id\n",
    "final_df = pd.merge(merged_df, df_samples, on='scholar_id', how='inner')\n",
    "\n",
    "# Display the final DataFrame\n",
    "final_df.head()"
   ]
  },
  {
   "cell_type": "code",
   "execution_count": null,
   "metadata": {},
   "outputs": [],
   "source": []
  }
 ],
 "metadata": {
  "kernelspec": {
   "display_name": "data-analytics-qPs-RHJd-py3.12",
   "language": "python",
   "name": "python3"
  },
  "language_info": {
   "codemirror_mode": {
    "name": "ipython",
    "version": 3
   },
   "file_extension": ".py",
   "mimetype": "text/x-python",
   "name": "python",
   "nbconvert_exporter": "python",
   "pygments_lexer": "ipython3",
   "version": "3.12.3"
  }
 },
 "nbformat": 4,
 "nbformat_minor": 2
}
